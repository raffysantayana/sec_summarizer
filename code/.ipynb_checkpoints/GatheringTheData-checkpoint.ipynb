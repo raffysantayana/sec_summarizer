{
 "cells": [
  {
   "cell_type": "markdown",
   "id": "360b5760-1ae7-489f-9d09-68dd2fe89d70",
   "metadata": {},
   "source": [
    "# Scraping the Data\n",
    "_Author_: https://github.com/raffysantayana\n",
    "\n",
    "## Goal\n",
    "Use the US Securities and Exchange Commision's (SEC) electronic filing system to programmatically parse and organize the data to later be explored, analyzed, and modeled.\n",
    "\n",
    "## Overview\n",
    "SEC archives quarterly reports from various filing entities such as Netflix Inc. (NFLX) and American Express Co. (AXP).\n",
    "\n",
    "WRITE SOMETHING HERE TALKING ABOUT THE API\n",
    "\n",
    "## Using the SEC API\n",
    "Note: This requires a subscription of $55/month to make 100+ requests.\n",
    "```python\n",
    "import time\n",
    "import pandas as pd\n",
    "from sec_api import QueryApi\n",
    "\n",
    "# main dataframe we will append each query results to\n",
    "df = pd.DataFrame()\n",
    "\n",
    "# paste your api key below\n",
    "sec_api_key:str = 'api_key' # 'a71896086f47a9ae5928bae84adfaff594ec0a1dcbb0bcc3db52ee3aa0f8e15c'\n",
    "query_api = QueryApi(api_key = sec_api_key)\n",
    "\n",
    "base_query = {\n",
    "  \"query\": \"PLACEHOLDER\", # this will be set during runtime \n",
    "  \"from\": \"0\",\n",
    "  \"size\": \"200\", # dont change this\n",
    "  # sort by filedAt\n",
    "  \"sort\": [{ \"filedAt\": { \"order\": \"desc\" } }]\n",
    "}\n",
    "\n",
    "# open the file we use to store the filing URLs\n",
    "log_file = open(\"filing_urls.txt\", \"a\")\n",
    "\n",
    "# start with filings filed in 2021, then 2020, 2019, ... up to 2010 \n",
    "# uncomment line below to fetch all filings filed in 2022-2010\n",
    "# for year in range(2021, 2009, -1):\n",
    "for year in range(2024, 1996, -1):\n",
    "    print(\"starting {year}\".format(year=year))\n",
    "    # a single search universe is represented as a month of the given year\n",
    "    \n",
    "    for month in range(1, 13, 1):\n",
    "        # get 10-Q and 10-Q/A filings filed in year and month\n",
    "        # resulting query example: \"formType:\\\"10-Q\\\" AND filedAt:[2021-01-01 TO 2021-01-31]\"\n",
    "        universe_query = \\\n",
    "            \"formType:\\\"10-Q\\\" AND \" + \\\n",
    "            \"filedAt:[{year}-{month:02d}-01 TO {year}-{month:02d}-31]\" \\\n",
    "            .format(year=year, month=month)\n",
    "    \n",
    "    print(universe_query)\n",
    "    # set new query universe for year-month combination\n",
    "    base_query[\"query\"] = universe_query;\n",
    "\n",
    "    # paginate through results by increasing \"from\" parameter \n",
    "    # until we don't find any matches anymore\n",
    "    # uncomment line below to fetch 10,000 filings\n",
    "    for from_batch in range(0, 999_800, 200): \n",
    "    # for from_batch in range(0, 400, 200):\n",
    "        # set new \"from\" starting position of search \n",
    "        base_query[\"from\"] = from_batch;\n",
    "\n",
    "        # submit request\n",
    "        response = query_api.get_filings(base_query)\n",
    "        # building a temp dataframe of the recent query\n",
    "        temp_df = pd.DataFrame.from_records(response['filings'])\n",
    "        # concatenating the temp dataframe to the main dataframe\n",
    "        df = pd.concat([df, temp_df])\n",
    "        print(f'df.shape = {df.shape}')\n",
    "        \n",
    "        # no more filings in search universe\n",
    "        if len(response[\"filings\"]) == 0:\n",
    "            break;\n",
    "            \n",
    "        # for each filing, only save the URL pointing to the filing itself \n",
    "        # and ignore all other data. \n",
    "        # the URL is set in the dict key \"linkToFilingDetails\"\n",
    "        urls_list = list(map(lambda x: x[\"linkToFilingDetails\"], response[\"filings\"]))\n",
    "        \n",
    "        # transform list of URLs into one string by joining all list elements\n",
    "        # and add a new-line character between each element.\n",
    "        urls_string = \"\\n\".join(urls_list) + \"\\n\"\n",
    "      \n",
    "        log_file.write(urls_string)\n",
    "\n",
    "log_file.close()\n",
    "```\n",
    "\n",
    "## Web Scraping\n",
    "SEC has an electrtonic filing system Electronic Data Gathering, Analysis, and Retrieval (EDGAR) that started around 1995 to archive reports such as quarterly 10Q. This system has a RESTful API at [this URL](https://www.sec.gov/edgar/sec-api-documentation) to retrieve report information. Each entity’s current filing history is available at the following URL where CIK_number is an entity's 10 digit CIK number: `\n",
    "https://data.sec.gov/submissions/CIK{CIK_number}.json`\n",
    "\n",
    "The returning json contains information such as `accessionNumber`, and `primaryDocument` where the index of the `accessionNumber`is associated with the index of `primaryDocument`. Using these two pieces of info together with the CIK number allows us to construct a url to access all filings for that CIK. Our goal is to specifically analyze quarterly reports, so we will filter results based off of `form` value of \"10-Q\". The URL we will construct will be:\n",
    "`https://www.sec.gov/Archives/edgar/data/{CIK_number}/{accessionNumber}/{primaryDocument}`\n",
    "\n",
    "For example, https://www.sec.gov/Archives/edgar/data/0001445815/000149315224015525/form10-qa.htm\n",
    "\n",
    "A list of all CIK numbers to iterate through can be found [here](https://www.sec.gov/Archives/edgar/cik-lookup-data.txt)"
   ]
  },
  {
   "cell_type": "code",
   "execution_count": 2,
   "id": "c13a3d80-b15d-44e9-b0c1-a126a0b8ab4e",
   "metadata": {},
   "outputs": [
    {
     "name": "stdout",
     "output_type": "stream",
     "text": [
      "Successful response from https://www.sec.gov/files/company_tickers.json.\n",
      "10352 retrieved.\n"
     ]
    }
   ],
   "source": [
    "import time\n",
    "import requests\n",
    "import pandas as pd\n",
    "\n",
    "tickers_url:str = r'https://www.sec.gov/files/company_tickers.json'\n",
    "headers = {'User-Agent': 'Mozilla/5.0'}\n",
    "response = requests.get(tickers_url, headers=headers)\n",
    "if response.status_code != 200:\n",
    "    raise Exception(\"Failed to get a 200 status code\")\n",
    "else:\n",
    "    print(f\"Successful response from {tickers_url}.\")\n",
    "raw_tickers = response.json()\n",
    "print(f\"{len(raw_tickers)} retrieved.\")"
   ]
  },
  {
   "cell_type": "code",
   "execution_count": 2,
   "id": "6c944685-2f55-469e-bbf4-f91dd1e2930b",
   "metadata": {},
   "outputs": [],
   "source": [
    "tickers = pd.DataFrame(columns=['cik_str', 'ticker', 'title'])\n",
    "\n",
    "for i in range(len(raw_tickers)):\n",
    "    tickers.loc[f\"{i}\"] = raw_tickers[f\"{i}\"]"
   ]
  },
  {
   "cell_type": "code",
   "execution_count": 3,
   "id": "0cd7ca78-ff5e-4f80-8b29-ceb1a3911f33",
   "metadata": {
    "scrolled": true
   },
   "outputs": [
    {
     "data": {
      "text/plain": [
       "(10352, 3)"
      ]
     },
     "execution_count": 3,
     "metadata": {},
     "output_type": "execute_result"
    }
   ],
   "source": [
    "tickers.shape"
   ]
  },
  {
   "cell_type": "code",
   "execution_count": 4,
   "id": "1a081442-90d0-4578-94d3-f188a0c3da61",
   "metadata": {},
   "outputs": [
    {
     "data": {
      "text/plain": [
       "cik_str     int64\n",
       "ticker     object\n",
       "title      object\n",
       "dtype: object"
      ]
     },
     "execution_count": 4,
     "metadata": {},
     "output_type": "execute_result"
    }
   ],
   "source": [
    "tickers.dtypes"
   ]
  },
  {
   "cell_type": "code",
   "execution_count": 5,
   "id": "e0d63286-48bb-40fc-a4ab-72c4d2dbf539",
   "metadata": {},
   "outputs": [
    {
     "data": {
      "text/html": [
       "<div>\n",
       "<style scoped>\n",
       "    .dataframe tbody tr th:only-of-type {\n",
       "        vertical-align: middle;\n",
       "    }\n",
       "\n",
       "    .dataframe tbody tr th {\n",
       "        vertical-align: top;\n",
       "    }\n",
       "\n",
       "    .dataframe thead th {\n",
       "        text-align: right;\n",
       "    }\n",
       "</style>\n",
       "<table border=\"1\" class=\"dataframe\">\n",
       "  <thead>\n",
       "    <tr style=\"text-align: right;\">\n",
       "      <th></th>\n",
       "      <th>cik_str</th>\n",
       "      <th>ticker</th>\n",
       "      <th>title</th>\n",
       "    </tr>\n",
       "  </thead>\n",
       "  <tbody>\n",
       "    <tr>\n",
       "      <th>0</th>\n",
       "      <td>789019</td>\n",
       "      <td>MSFT</td>\n",
       "      <td>MICROSOFT CORP</td>\n",
       "    </tr>\n",
       "    <tr>\n",
       "      <th>1</th>\n",
       "      <td>320193</td>\n",
       "      <td>AAPL</td>\n",
       "      <td>Apple Inc.</td>\n",
       "    </tr>\n",
       "    <tr>\n",
       "      <th>2</th>\n",
       "      <td>1045810</td>\n",
       "      <td>NVDA</td>\n",
       "      <td>NVIDIA CORP</td>\n",
       "    </tr>\n",
       "    <tr>\n",
       "      <th>3</th>\n",
       "      <td>1652044</td>\n",
       "      <td>GOOGL</td>\n",
       "      <td>Alphabet Inc.</td>\n",
       "    </tr>\n",
       "    <tr>\n",
       "      <th>4</th>\n",
       "      <td>1018724</td>\n",
       "      <td>AMZN</td>\n",
       "      <td>AMAZON COM INC</td>\n",
       "    </tr>\n",
       "  </tbody>\n",
       "</table>\n",
       "</div>"
      ],
      "text/plain": [
       "   cik_str ticker           title\n",
       "0   789019   MSFT  MICROSOFT CORP\n",
       "1   320193   AAPL      Apple Inc.\n",
       "2  1045810   NVDA     NVIDIA CORP\n",
       "3  1652044  GOOGL   Alphabet Inc.\n",
       "4  1018724   AMZN  AMAZON COM INC"
      ]
     },
     "execution_count": 5,
     "metadata": {},
     "output_type": "execute_result"
    }
   ],
   "source": [
    "tickers.head()"
   ]
  },
  {
   "cell_type": "code",
   "execution_count": 6,
   "id": "c7d7ddec-0f14-4f59-b2ca-2bf6690c5d59",
   "metadata": {},
   "outputs": [
    {
     "data": {
      "text/html": [
       "<div>\n",
       "<style scoped>\n",
       "    .dataframe tbody tr th:only-of-type {\n",
       "        vertical-align: middle;\n",
       "    }\n",
       "\n",
       "    .dataframe tbody tr th {\n",
       "        vertical-align: top;\n",
       "    }\n",
       "\n",
       "    .dataframe thead th {\n",
       "        text-align: right;\n",
       "    }\n",
       "</style>\n",
       "<table border=\"1\" class=\"dataframe\">\n",
       "  <thead>\n",
       "    <tr style=\"text-align: right;\">\n",
       "      <th></th>\n",
       "      <th>cik_str</th>\n",
       "      <th>ticker</th>\n",
       "      <th>title</th>\n",
       "    </tr>\n",
       "  </thead>\n",
       "  <tbody>\n",
       "    <tr>\n",
       "      <th>10347</th>\n",
       "      <td>1748680</td>\n",
       "      <td>OWSCX</td>\n",
       "      <td>1WS Credit Income Fund</td>\n",
       "    </tr>\n",
       "    <tr>\n",
       "      <th>10348</th>\n",
       "      <td>1957489</td>\n",
       "      <td>ABLVW</td>\n",
       "      <td>Able View Global Inc.</td>\n",
       "    </tr>\n",
       "    <tr>\n",
       "      <th>10349</th>\n",
       "      <td>1933644</td>\n",
       "      <td>MDLVY</td>\n",
       "      <td>Medlive Technology Co., Ltd./ADR</td>\n",
       "    </tr>\n",
       "    <tr>\n",
       "      <th>10350</th>\n",
       "      <td>1062750</td>\n",
       "      <td>SAAYY</td>\n",
       "      <td>SAIPEM S P A /FI</td>\n",
       "    </tr>\n",
       "    <tr>\n",
       "      <th>10351</th>\n",
       "      <td>1572957</td>\n",
       "      <td>BGLAF</td>\n",
       "      <td>BioGaia AB/ADR</td>\n",
       "    </tr>\n",
       "  </tbody>\n",
       "</table>\n",
       "</div>"
      ],
      "text/plain": [
       "       cik_str ticker                             title\n",
       "10347  1748680  OWSCX            1WS Credit Income Fund\n",
       "10348  1957489  ABLVW             Able View Global Inc.\n",
       "10349  1933644  MDLVY  Medlive Technology Co., Ltd./ADR\n",
       "10350  1062750  SAAYY                  SAIPEM S P A /FI\n",
       "10351  1572957  BGLAF                    BioGaia AB/ADR"
      ]
     },
     "execution_count": 6,
     "metadata": {},
     "output_type": "execute_result"
    }
   ],
   "source": [
    "tickers.tail()"
   ]
  },
  {
   "cell_type": "code",
   "execution_count": 7,
   "id": "64e7fe79-7e74-4de4-98f4-9e90437a368b",
   "metadata": {},
   "outputs": [],
   "source": [
    "tickers.to_csv(\"../data/tickers.csv\")"
   ]
  },
  {
   "cell_type": "code",
   "execution_count": 24,
   "id": "ce944e8e-c18d-4d29-bc01-6710d0a33107",
   "metadata": {},
   "outputs": [],
   "source": [
    "with open('../data/all_submissions.txt', 'w') as the_file:\n",
    "    for cik in tickers['cik_str']:\n",
    "        the_file.write(f'https://data.sec.gov/submissions/CIK{cik:010d}.json\\n')\n",
    "        # print(f'https://data.sec.gov/submissions/CIK{cik:010d}.json\\n')"
   ]
  },
  {
   "cell_type": "code",
   "execution_count": 29,
   "id": "8f58213c-c6d9-4bbb-b5ca-2b8ff85e7da5",
   "metadata": {},
   "outputs": [
    {
     "name": "stdout",
     "output_type": "stream",
     "text": [
      "10352/10352\r"
     ]
    }
   ],
   "source": [
    "urls = open('../data/all_submissions.txt', 'r')\n",
    "lines = urls.readlines()\n",
    "counter = 1\n",
    "for line in lines:\n",
    "    response = requests.get(line.strip(), headers=headers)\n",
    "    if response.status_code != 200:\n",
    "        print(f'{line.strip()} might not be a valid URL. Status code {response.status_code} received. This URL is on line {counter}.')\n",
    "        counter -= 1\n",
    "    print(f'{counter:05d}/{len(lines)}', end='\\r')\n",
    "    time.sleep(5)\n",
    "    counter += 1\n",
    "if counter - 1 == len(lines):\n",
    "    validation_file = open('../data/url_validation.txt', 'w')\n",
    "    validation_file.write('All URLs in all_submissions.txt have passed validation')"
   ]
  },
  {
   "cell_type": "markdown",
   "id": "95f94a81-6de2-49fa-86a4-34e8de1d0817",
   "metadata": {},
   "source": [
    "## Filtering URLs of CIK Submissions for 10Q Filings\n",
    "Now that we have URLs for all CIK numbers that detail all submissions that these entities have provided, we can move on to filter for the specific filing we want to train our model on. For this project, we will focus on 10Q quarterly reports."
   ]
  },
  {
   "cell_type": "code",
   "execution_count": 43,
   "id": "d12fb9fb-dc4d-4297-b5c8-90bd346b4356",
   "metadata": {},
   "outputs": [
    {
     "name": "stdout",
     "output_type": "stream",
     "text": [
      "https://data.sec.gov/submissions/CIK.json might not be a valid URL. Status code 404 received. This URL is on line 3.\n",
      "09/10\r"
     ]
    }
   ],
   "source": [
    "urls = open('../data/all_submissions.txt', 'r')\n",
    "lines = urls.readlines()\n",
    "counter = 1\n",
    "foobar = lines[:10]\n",
    "for line in foobar:\n",
    "    response = requests.get(line.strip(), headers=headers)\n",
    "    if response.status_code != 200:\n",
    "        print(f'{line.strip()} might not be a valid URL. Status code {response.status_code} received. This URL is on line {counter}.')\n",
    "    print(f'{counter:02d}/{len(foobar)}', end='\\r')\n",
    "    time.sleep(1)\n",
    "    counter += 1\n",
    "if counter - 1 == len(lines):\n",
    "    validation_file = open('../data/url_validation.txt', 'w')\n",
    "    validation_file.write('All URLs in all_submissions.txt have been validated')"
   ]
  },
  {
   "cell_type": "code",
   "execution_count": 4,
   "id": "9b64c454-230e-4a43-8021-4be981924545",
   "metadata": {},
   "outputs": [],
   "source": [
    "urls = open('../data/all_submissions.txt', 'r')\n",
    "lines = urls.readlines()\n",
    "counter = 1\n",
    "df = pd.DataFrame(columns=['tickers', 'exchanges', 'accession_number', 'filing_date', 'report_date', 'acceptance_datetime', 'act',\n",
    "                          'form', 'file_number', 'film_number', 'items', 'size', 'primary_document', 'is_XBRL', 'is_inline_XBRL', \n",
    "                           'primary_doc_description'])\n",
    "\n",
    "response = requests.get(lines[0].strip(), headers=headers)\n",
    "if (response.status_code != 200):\n",
    "    print(f'Status code {response.status_code} received for URL {lines[0].strip()}')"
   ]
  },
  {
   "cell_type": "code",
   "execution_count": 6,
   "id": "82fd085a-d46b-4b61-9b49-680ef37fca58",
   "metadata": {},
   "outputs": [],
   "source": [
    "raw_json = response.json()"
   ]
  },
  {
   "cell_type": "code",
   "execution_count": 12,
   "id": "c6746f55-ccfa-4518-83e7-abf20a9a3c1e",
   "metadata": {},
   "outputs": [
    {
     "data": {
      "text/plain": [
       "['MSFT']"
      ]
     },
     "execution_count": 12,
     "metadata": {},
     "output_type": "execute_result"
    }
   ],
   "source": [
    "raw_json['tickers']"
   ]
  },
  {
   "cell_type": "code",
   "execution_count": 13,
   "id": "c9aadf91-7a3d-4d89-9140-e6927acbc7b4",
   "metadata": {},
   "outputs": [
    {
     "data": {
      "text/plain": [
       "['Nasdaq']"
      ]
     },
     "execution_count": 13,
     "metadata": {},
     "output_type": "execute_result"
    }
   ],
   "source": [
    "raw_json['exchanges']"
   ]
  },
  {
   "cell_type": "code",
   "execution_count": 30,
   "id": "7d3416d4-4ad5-4a4e-b786-c372c8019f84",
   "metadata": {},
   "outputs": [
    {
     "name": "stdout",
     "output_type": "stream",
     "text": [
      "1001\n"
     ]
    }
   ],
   "source": [
    "recent_filings = raw_json['filings']['recent']\n",
    "recent_filings['accessionNumber']\n",
    "print(len(recent_filings['accessionNumber']))"
   ]
  },
  {
   "cell_type": "code",
   "execution_count": 31,
   "id": "3c9cf565-a41c-420a-b13c-818e979b724e",
   "metadata": {},
   "outputs": [
    {
     "name": "stdout",
     "output_type": "stream",
     "text": [
      "1001\n"
     ]
    }
   ],
   "source": [
    "recent_filings['filingDate']\n",
    "print(len(recent_filings['filingDate']))"
   ]
  },
  {
   "cell_type": "code",
   "execution_count": 32,
   "id": "b0b86bd9-3391-49b8-af63-bc09910330d7",
   "metadata": {},
   "outputs": [
    {
     "name": "stdout",
     "output_type": "stream",
     "text": [
      "1001\n"
     ]
    }
   ],
   "source": [
    "recent_filings['reportDate']\n",
    "print(len(recent_filings['reportDate']))"
   ]
  },
  {
   "cell_type": "code",
   "execution_count": 34,
   "id": "e52f1446-e470-4c48-a372-28e57071cb2d",
   "metadata": {},
   "outputs": [
    {
     "name": "stdout",
     "output_type": "stream",
     "text": [
      "1001\n"
     ]
    }
   ],
   "source": [
    "recent_filings['acceptanceDateTime']\n",
    "print(len(recent_filings['acceptanceDateTime']))"
   ]
  },
  {
   "cell_type": "code",
   "execution_count": 36,
   "id": "c42c6cd6-7e8e-440f-be06-2435f5343733",
   "metadata": {},
   "outputs": [
    {
     "name": "stdout",
     "output_type": "stream",
     "text": [
      "1001\n"
     ]
    }
   ],
   "source": [
    "recent_filings['act']\n",
    "print(len(recent_filings['act']))"
   ]
  },
  {
   "cell_type": "code",
   "execution_count": 37,
   "id": "b8753e10-1b72-4a2a-928c-8f808cd53193",
   "metadata": {},
   "outputs": [
    {
     "name": "stdout",
     "output_type": "stream",
     "text": [
      "1001\n"
     ]
    }
   ],
   "source": [
    "recent_filings['form']\n",
    "print(len(recent_filings['form']))"
   ]
  },
  {
   "cell_type": "code",
   "execution_count": 38,
   "id": "37d32d97-a425-4280-8d82-25104509b48f",
   "metadata": {},
   "outputs": [
    {
     "name": "stdout",
     "output_type": "stream",
     "text": [
      "1001\n"
     ]
    }
   ],
   "source": [
    "recent_filings['fileNumber']\n",
    "print(len(recent_filings['fileNumber']))"
   ]
  },
  {
   "cell_type": "code",
   "execution_count": 39,
   "id": "e36cbf8c-8f4c-42a6-9975-e0894053b95f",
   "metadata": {},
   "outputs": [
    {
     "name": "stdout",
     "output_type": "stream",
     "text": [
      "1001\n"
     ]
    }
   ],
   "source": [
    "recent_filings['filmNumber']\n",
    "print(len(recent_filings['filmNumber']))"
   ]
  },
  {
   "cell_type": "code",
   "execution_count": 40,
   "id": "994bb9dd-3f9f-4d94-b6c9-bd8c921029ba",
   "metadata": {},
   "outputs": [
    {
     "name": "stdout",
     "output_type": "stream",
     "text": [
      "1001\n"
     ]
    }
   ],
   "source": [
    "recent_filings['items']\n",
    "print(len(recent_filings['items']))"
   ]
  },
  {
   "cell_type": "code",
   "execution_count": 41,
   "id": "738f4d81-e34e-48ee-a662-b71f72236b00",
   "metadata": {},
   "outputs": [
    {
     "name": "stdout",
     "output_type": "stream",
     "text": [
      "1001\n"
     ]
    }
   ],
   "source": [
    "recent_filings['size']\n",
    "print(len(recent_filings['size']))"
   ]
  },
  {
   "cell_type": "code",
   "execution_count": 42,
   "id": "d987b6c6-c4fe-4a5d-b120-8e4827b4958b",
   "metadata": {},
   "outputs": [
    {
     "name": "stdout",
     "output_type": "stream",
     "text": [
      "1001\n"
     ]
    }
   ],
   "source": [
    "recent_filings['primaryDocument']\n",
    "print(len(recent_filings['primaryDocument']))"
   ]
  },
  {
   "cell_type": "code",
   "execution_count": 43,
   "id": "2b9c2a73-e004-493f-96fb-bb6dbb6b10ef",
   "metadata": {},
   "outputs": [
    {
     "name": "stdout",
     "output_type": "stream",
     "text": [
      "1001\n"
     ]
    }
   ],
   "source": [
    "recent_filings['isXBRL']\n",
    "print(len(recent_filings['isXBRL']))"
   ]
  },
  {
   "cell_type": "code",
   "execution_count": 44,
   "id": "b73d8428-755b-4ccd-b922-4b9564ad449b",
   "metadata": {},
   "outputs": [
    {
     "name": "stdout",
     "output_type": "stream",
     "text": [
      "1001\n"
     ]
    }
   ],
   "source": [
    "recent_filings['isInlineXBRL']\n",
    "print(len(recent_filings['isInlineXBRL']))"
   ]
  },
  {
   "cell_type": "code",
   "execution_count": 45,
   "id": "49c0f075-659c-401d-bf12-0547a296d2ce",
   "metadata": {},
   "outputs": [
    {
     "name": "stdout",
     "output_type": "stream",
     "text": [
      "1001\n"
     ]
    }
   ],
   "source": [
    "recent_filings['primaryDocDescription']\n",
    "print(len(recent_filings['primaryDocDescription']))"
   ]
  },
  {
   "cell_type": "code",
   "execution_count": null,
   "id": "04d695cd-a7e1-41ed-9081-335847477e66",
   "metadata": {},
   "outputs": [],
   "source": [
    "# Make a function that loops through the length of response.json()['filings']['recent'] and populates a list\n",
    "# whose items are in the order of the dataframe columns"
   ]
  }
 ],
 "metadata": {
  "kernelspec": {
   "display_name": "Python 3 (ipykernel)",
   "language": "python",
   "name": "python3"
  },
  "language_info": {
   "codemirror_mode": {
    "name": "ipython",
    "version": 3
   },
   "file_extension": ".py",
   "mimetype": "text/x-python",
   "name": "python",
   "nbconvert_exporter": "python",
   "pygments_lexer": "ipython3",
   "version": "3.9.18"
  }
 },
 "nbformat": 4,
 "nbformat_minor": 5
}
