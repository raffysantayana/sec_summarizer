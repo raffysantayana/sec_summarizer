{
 "cells": [
  {
   "cell_type": "markdown",
   "id": "360b5760-1ae7-489f-9d09-68dd2fe89d70",
   "metadata": {},
   "source": [
    "# Scraping the Data\n",
    "_Author_: https://github.com/raffysantayana\n",
    "\n",
    "## Goal\n",
    "Use the US Securities and Exchange Commision's (SEC) electronic filing system to programmatically parse and organize the data to later be explored, analyzed, and modeled.\n",
    "\n",
    "## Overview\n",
    "SEC archives quarterly reports from various filing entities such as Netflix Inc. (NFLX) and American Express Co. (AXP).\n",
    "\n",
    "WRITE SOMETHING HERE TALKING ABOUT THE API\n",
    "\n",
    "## Using the SEC API\n",
    "Note: This requires a subscription of $55/month to make 100+ requests.\n",
    "```python\n",
    "import time\n",
    "import pandas as pd\n",
    "from sec_api import QueryApi\n",
    "\n",
    "# main dataframe we will append each query results to\n",
    "df = pd.DataFrame()\n",
    "\n",
    "# paste your api key below\n",
    "sec_api_key:str = 'api_key' # 'a71896086f47a9ae5928bae84adfaff594ec0a1dcbb0bcc3db52ee3aa0f8e15c'\n",
    "query_api = QueryApi(api_key = sec_api_key)\n",
    "\n",
    "base_query = {\n",
    "  \"query\": \"PLACEHOLDER\", # this will be set during runtime \n",
    "  \"from\": \"0\",\n",
    "  \"size\": \"200\", # dont change this\n",
    "  # sort by filedAt\n",
    "  \"sort\": [{ \"filedAt\": { \"order\": \"desc\" } }]\n",
    "}\n",
    "\n",
    "# open the file we use to store the filing URLs\n",
    "log_file = open(\"filing_urls.txt\", \"a\")\n",
    "\n",
    "# start with filings filed in 2021, then 2020, 2019, ... up to 2010 \n",
    "# uncomment line below to fetch all filings filed in 2022-2010\n",
    "# for year in range(2021, 2009, -1):\n",
    "for year in range(2024, 1996, -1):\n",
    "    print(\"starting {year}\".format(year=year))\n",
    "    # a single search universe is represented as a month of the given year\n",
    "    \n",
    "    for month in range(1, 13, 1):\n",
    "        # get 10-Q and 10-Q/A filings filed in year and month\n",
    "        # resulting query example: \"formType:\\\"10-Q\\\" AND filedAt:[2021-01-01 TO 2021-01-31]\"\n",
    "        universe_query = \\\n",
    "            \"formType:\\\"10-Q\\\" AND \" + \\\n",
    "            \"filedAt:[{year}-{month:02d}-01 TO {year}-{month:02d}-31]\" \\\n",
    "            .format(year=year, month=month)\n",
    "    \n",
    "    print(universe_query)\n",
    "    # set new query universe for year-month combination\n",
    "    base_query[\"query\"] = universe_query;\n",
    "\n",
    "    # paginate through results by increasing \"from\" parameter \n",
    "    # until we don't find any matches anymore\n",
    "    # uncomment line below to fetch 10,000 filings\n",
    "    for from_batch in range(0, 999_800, 200): \n",
    "    # for from_batch in range(0, 400, 200):\n",
    "        # set new \"from\" starting position of search \n",
    "        base_query[\"from\"] = from_batch;\n",
    "\n",
    "        # submit request\n",
    "        response = query_api.get_filings(base_query)\n",
    "        # building a temp dataframe of the recent query\n",
    "        temp_df = pd.DataFrame.from_records(response['filings'])\n",
    "        # concatenating the temp dataframe to the main dataframe\n",
    "        df = pd.concat([df, temp_df])\n",
    "        print(f'df.shape = {df.shape}')\n",
    "        \n",
    "        # no more filings in search universe\n",
    "        if len(response[\"filings\"]) == 0:\n",
    "            break;\n",
    "            \n",
    "        # for each filing, only save the URL pointing to the filing itself \n",
    "        # and ignore all other data. \n",
    "        # the URL is set in the dict key \"linkToFilingDetails\"\n",
    "        urls_list = list(map(lambda x: x[\"linkToFilingDetails\"], response[\"filings\"]))\n",
    "        \n",
    "        # transform list of URLs into one string by joining all list elements\n",
    "        # and add a new-line character between each element.\n",
    "        urls_string = \"\\n\".join(urls_list) + \"\\n\"\n",
    "      \n",
    "        log_file.write(urls_string)\n",
    "\n",
    "log_file.close()\n",
    "```\n",
    "\n",
    "## Web Scraping\n",
    "SEC has an electrtonic filing system Electronic Data Gathering, Analysis, and Retrieval (EDGAR) that started around 1995 to archive reports such as quarterly 10Q. This system has a RESTful API at [this URL](https://www.sec.gov/edgar/sec-api-documentation) to retrieve report information. Each entity’s current filing history is available at the following URL where CIK_number is an entity's 10 digit CIK number: `\n",
    "https://data.sec.gov/submissions/CIK{CIK_number}.json`\n",
    "\n",
    "The returning json contains information such as `accessionNumber`, and `primaryDocument` where the index of the `accessionNumber`is associated with the index of `primaryDocument`. Using these two pieces of info together with the CIK number allows us to construct a url to access all filings for that CIK. Our goal is to specifically analyze quarterly reports, so we will filter results based off of `form` value of \"10-Q\". The URL we will construct will be:\n",
    "`https://www.sec.gov/Archives/edgar/data/{CIK_number}/{accessionNumber}/{primaryDocument}`\n",
    "\n",
    "For example, https://www.sec.gov/Archives/edgar/data/0001445815/000149315224015525/form10-qa.htm\n",
    "\n",
    "A list of all CIK numbers to iterate through can be found [here](https://www.sec.gov/Archives/edgar/cik-lookup-data.txt)"
   ]
  },
  {
   "cell_type": "code",
   "execution_count": 1,
   "id": "b33f5ad3-f46f-4206-af13-9f55a1486f63",
   "metadata": {},
   "outputs": [],
   "source": [
    "import time\n",
    "import requests\n",
    "import pandas as pd"
   ]
  },
  {
   "cell_type": "code",
   "execution_count": 2,
   "id": "c13a3d80-b15d-44e9-b0c1-a126a0b8ab4e",
   "metadata": {},
   "outputs": [
    {
     "name": "stdout",
     "output_type": "stream",
     "text": [
      "Successful response from https://www.sec.gov/files/company_tickers.json.\n",
      "10321 retrieved.\n"
     ]
    }
   ],
   "source": [
    "tickers_url:str = r'https://www.sec.gov/files/company_tickers.json'\n",
    "headers = {'User-Agent': 'Mozilla/5.0'}\n",
    "response = requests.get(tickers_url, headers=headers)\n",
    "if response.status_code != 200:\n",
    "    raise Exception(\"Failed to get a 200 status code\")\n",
    "else:\n",
    "    print(f\"Successful response from {tickers_url}.\")\n",
    "raw_tickers = response.json()\n",
    "print(f\"{len(raw_tickers)} retrieved.\")"
   ]
  },
  {
   "cell_type": "code",
   "execution_count": 3,
   "id": "6c944685-2f55-469e-bbf4-f91dd1e2930b",
   "metadata": {},
   "outputs": [],
   "source": [
    "tickers = pd.DataFrame(columns=['cik_str', 'ticker', 'title'])\n",
    "\n",
    "for i in range(len(raw_tickers)):\n",
    "    tickers.loc[f\"{i}\"] = raw_tickers[f\"{i}\"]"
   ]
  },
  {
   "cell_type": "code",
   "execution_count": 4,
   "id": "0cd7ca78-ff5e-4f80-8b29-ceb1a3911f33",
   "metadata": {
    "scrolled": true
   },
   "outputs": [
    {
     "data": {
      "text/plain": [
       "(10321, 3)"
      ]
     },
     "execution_count": 4,
     "metadata": {},
     "output_type": "execute_result"
    }
   ],
   "source": [
    "tickers.shape"
   ]
  },
  {
   "cell_type": "code",
   "execution_count": 5,
   "id": "1a081442-90d0-4578-94d3-f188a0c3da61",
   "metadata": {},
   "outputs": [
    {
     "data": {
      "text/plain": [
       "cik_str     int64\n",
       "ticker     object\n",
       "title      object\n",
       "dtype: object"
      ]
     },
     "execution_count": 5,
     "metadata": {},
     "output_type": "execute_result"
    }
   ],
   "source": [
    "tickers.dtypes"
   ]
  },
  {
   "cell_type": "code",
   "execution_count": 6,
   "id": "e0d63286-48bb-40fc-a4ab-72c4d2dbf539",
   "metadata": {},
   "outputs": [
    {
     "data": {
      "text/html": [
       "<div>\n",
       "<style scoped>\n",
       "    .dataframe tbody tr th:only-of-type {\n",
       "        vertical-align: middle;\n",
       "    }\n",
       "\n",
       "    .dataframe tbody tr th {\n",
       "        vertical-align: top;\n",
       "    }\n",
       "\n",
       "    .dataframe thead th {\n",
       "        text-align: right;\n",
       "    }\n",
       "</style>\n",
       "<table border=\"1\" class=\"dataframe\">\n",
       "  <thead>\n",
       "    <tr style=\"text-align: right;\">\n",
       "      <th></th>\n",
       "      <th>cik_str</th>\n",
       "      <th>ticker</th>\n",
       "      <th>title</th>\n",
       "    </tr>\n",
       "  </thead>\n",
       "  <tbody>\n",
       "    <tr>\n",
       "      <th>0</th>\n",
       "      <td>789019</td>\n",
       "      <td>MSFT</td>\n",
       "      <td>MICROSOFT CORP</td>\n",
       "    </tr>\n",
       "    <tr>\n",
       "      <th>1</th>\n",
       "      <td>320193</td>\n",
       "      <td>AAPL</td>\n",
       "      <td>Apple Inc.</td>\n",
       "    </tr>\n",
       "    <tr>\n",
       "      <th>2</th>\n",
       "      <td>1045810</td>\n",
       "      <td>NVDA</td>\n",
       "      <td>NVIDIA CORP</td>\n",
       "    </tr>\n",
       "    <tr>\n",
       "      <th>3</th>\n",
       "      <td>1652044</td>\n",
       "      <td>GOOGL</td>\n",
       "      <td>Alphabet Inc.</td>\n",
       "    </tr>\n",
       "    <tr>\n",
       "      <th>4</th>\n",
       "      <td>1018724</td>\n",
       "      <td>AMZN</td>\n",
       "      <td>AMAZON COM INC</td>\n",
       "    </tr>\n",
       "  </tbody>\n",
       "</table>\n",
       "</div>"
      ],
      "text/plain": [
       "   cik_str ticker           title\n",
       "0   789019   MSFT  MICROSOFT CORP\n",
       "1   320193   AAPL      Apple Inc.\n",
       "2  1045810   NVDA     NVIDIA CORP\n",
       "3  1652044  GOOGL   Alphabet Inc.\n",
       "4  1018724   AMZN  AMAZON COM INC"
      ]
     },
     "execution_count": 6,
     "metadata": {},
     "output_type": "execute_result"
    }
   ],
   "source": [
    "tickers.head()"
   ]
  },
  {
   "cell_type": "code",
   "execution_count": 7,
   "id": "c7d7ddec-0f14-4f59-b2ca-2bf6690c5d59",
   "metadata": {},
   "outputs": [
    {
     "data": {
      "text/html": [
       "<div>\n",
       "<style scoped>\n",
       "    .dataframe tbody tr th:only-of-type {\n",
       "        vertical-align: middle;\n",
       "    }\n",
       "\n",
       "    .dataframe tbody tr th {\n",
       "        vertical-align: top;\n",
       "    }\n",
       "\n",
       "    .dataframe thead th {\n",
       "        text-align: right;\n",
       "    }\n",
       "</style>\n",
       "<table border=\"1\" class=\"dataframe\">\n",
       "  <thead>\n",
       "    <tr style=\"text-align: right;\">\n",
       "      <th></th>\n",
       "      <th>cik_str</th>\n",
       "      <th>ticker</th>\n",
       "      <th>title</th>\n",
       "    </tr>\n",
       "  </thead>\n",
       "  <tbody>\n",
       "    <tr>\n",
       "      <th>10316</th>\n",
       "      <td>1800392</td>\n",
       "      <td>VENAF</td>\n",
       "      <td>MicroAlgo Inc.</td>\n",
       "    </tr>\n",
       "    <tr>\n",
       "      <th>10317</th>\n",
       "      <td>1308106</td>\n",
       "      <td>SEAL-PA</td>\n",
       "      <td>Seapeak LLC</td>\n",
       "    </tr>\n",
       "    <tr>\n",
       "      <th>10318</th>\n",
       "      <td>1308106</td>\n",
       "      <td>SEAL-PB</td>\n",
       "      <td>Seapeak LLC</td>\n",
       "    </tr>\n",
       "    <tr>\n",
       "      <th>10319</th>\n",
       "      <td>1726079</td>\n",
       "      <td>TMEF</td>\n",
       "      <td>Tipmefast, Inc.</td>\n",
       "    </tr>\n",
       "    <tr>\n",
       "      <th>10320</th>\n",
       "      <td>1816613</td>\n",
       "      <td>MKFG-WT</td>\n",
       "      <td>Markforged Holding Corp</td>\n",
       "    </tr>\n",
       "  </tbody>\n",
       "</table>\n",
       "</div>"
      ],
      "text/plain": [
       "       cik_str   ticker                    title\n",
       "10316  1800392    VENAF           MicroAlgo Inc.\n",
       "10317  1308106  SEAL-PA              Seapeak LLC\n",
       "10318  1308106  SEAL-PB              Seapeak LLC\n",
       "10319  1726079     TMEF          Tipmefast, Inc.\n",
       "10320  1816613  MKFG-WT  Markforged Holding Corp"
      ]
     },
     "execution_count": 7,
     "metadata": {},
     "output_type": "execute_result"
    }
   ],
   "source": [
    "tickers.tail()"
   ]
  },
  {
   "cell_type": "code",
   "execution_count": 8,
   "id": "64e7fe79-7e74-4de4-98f4-9e90437a368b",
   "metadata": {},
   "outputs": [],
   "source": [
    "tickers.to_csv(\"../data/tickers.csv\")"
   ]
  },
  {
   "cell_type": "code",
   "execution_count": 9,
   "id": "ce944e8e-c18d-4d29-bc01-6710d0a33107",
   "metadata": {},
   "outputs": [],
   "source": [
    "with open('../data/all_submissions_w_duplicates.txt', 'w') as the_file:\n",
    "    for cik in tickers['cik_str']:\n",
    "        # Write to all_submissions.txt the url for the given cik number with\n",
    "        # leading zeroes until 10 digits are reached\n",
    "        the_file.write(f'https://data.sec.gov/submissions/CIK{cik:010d}.json\\n')"
   ]
  },
  {
   "cell_type": "code",
   "execution_count": 10,
   "id": "a4c249c7-ddb1-4738-9389-769e3d207f24",
   "metadata": {},
   "outputs": [],
   "source": [
    "with open('../data/all_submissions_w_duplicates.txt', 'r') as dup_file:\n",
    "    lines = dup_file.readlines()\n",
    "    with open('../data//all_submissions.txt', 'w') as final_file:\n",
    "        for unique_line in set(lines):\n",
    "            final_file.write(unique_line)"
   ]
  },
  {
   "cell_type": "markdown",
   "id": "7cca2806-a0ca-4552-9129-055b129eb952",
   "metadata": {},
   "source": [
    "## Validating URLs\n",
    "The cell below will iterate through each URL in `all_submissions.txt` and validate that they each provide a valid response. This only needs to be validated once assuming that SEC does not remove any of these submissions. With this assumption, the below code block will become markdown and will show the results."
   ]
  },
  {
   "cell_type": "markdown",
   "id": "4aed0b08-2d63-41c2-a446-91816637f786",
   "metadata": {},
   "source": [
    "```python\n",
    "urls = open('../data/all_submissions.txt', 'r')\n",
    "lines = urls.readlines()\n",
    "counter = 1\n",
    "for line in lines:\n",
    "    response = requests.get(line.strip(), headers=headers)\n",
    "    if response.status_code != 200:\n",
    "        print(f'{line.strip()} might not be a valid URL. Status code {response.status_code} received. This URL is on line {counter}.')\n",
    "        counter -= 1\n",
    "    # print the progress\n",
    "    print(f'{counter:05d}/{len(lines)}', end='\\r')\n",
    "    time.sleep(5)\n",
    "    counter += 1\n",
    "if counter - 1 == len(lines):\n",
    "    validation_file = open('../data/url_validation.txt', 'w')\n",
    "    validation_file.write('All URLs in all_submissions.txt have passed validation')\n",
    "```\n",
    "Output:\n",
    "10352/10352"
   ]
  },
  {
   "cell_type": "markdown",
   "id": "95f94a81-6de2-49fa-86a4-34e8de1d0817",
   "metadata": {},
   "source": [
    "## Filtering URLs of CIK Submissions for 10Q Filings\n",
    "Now that we have URLs for all CIK numbers that detail all submissions that these entities have provided, we can move on to filter for the specific filing we want to train our model on. For this project, we will focus on 10Q quarterly reports. To show how we will filter for only 10Q"
   ]
  },
  {
   "cell_type": "code",
   "execution_count": 11,
   "id": "9b64c454-230e-4a43-8021-4be981924545",
   "metadata": {},
   "outputs": [
    {
     "name": "stdout",
     "output_type": "stream",
     "text": [
      "Status code 200 received for URL https://data.sec.gov/submissions/CIK0001686850.json\n"
     ]
    }
   ],
   "source": [
    "urls = open('../data/all_submissions.txt', 'r')\n",
    "lines = urls.readlines()\n",
    "\n",
    "# Get the 0th ticker\n",
    "response = requests.get(lines[0].strip(), headers=headers)\n",
    "print(f'Status code {response.status_code} received for URL {lines[0].strip()}')"
   ]
  },
  {
   "cell_type": "code",
   "execution_count": 12,
   "id": "82fd085a-d46b-4b61-9b49-680ef37fca58",
   "metadata": {},
   "outputs": [],
   "source": [
    "raw_json = response.json()"
   ]
  },
  {
   "cell_type": "code",
   "execution_count": 13,
   "id": "c6746f55-ccfa-4518-83e7-abf20a9a3c1e",
   "metadata": {},
   "outputs": [
    {
     "data": {
      "text/plain": [
       "['MOTS']"
      ]
     },
     "execution_count": 13,
     "metadata": {},
     "output_type": "execute_result"
    }
   ],
   "source": [
    "raw_json['tickers']"
   ]
  },
  {
   "cell_type": "code",
   "execution_count": 14,
   "id": "c9aadf91-7a3d-4d89-9140-e6927acbc7b4",
   "metadata": {},
   "outputs": [
    {
     "data": {
      "text/plain": [
       "['Nasdaq']"
      ]
     },
     "execution_count": 14,
     "metadata": {},
     "output_type": "execute_result"
    }
   ],
   "source": [
    "raw_json['exchanges']"
   ]
  },
  {
   "cell_type": "markdown",
   "id": "bc0bfb69-031c-4e4d-a51a-544bd68ba4a2",
   "metadata": {},
   "source": [
    "## Validating the number of values in each column\n",
    "A row in our dataframe will consist of the below values as well as the accession number above. These values will each be a column in the dataframe and there should be a value - non-null or null/empty string - for each submission for each column.\n",
    "\n",
    "### Accession Number"
   ]
  },
  {
   "cell_type": "code",
   "execution_count": 15,
   "id": "7d3416d4-4ad5-4a4e-b786-c372c8019f84",
   "metadata": {},
   "outputs": [
    {
     "name": "stdout",
     "output_type": "stream",
     "text": [
      "388\n",
      "0001493152-24-014324\n"
     ]
    }
   ],
   "source": [
    "recent_filings = raw_json['filings']['recent']\n",
    "recent_filings['accessionNumber']\n",
    "print(len(recent_filings['accessionNumber']))\n",
    "print(recent_filings['accessionNumber'][3])"
   ]
  },
  {
   "cell_type": "markdown",
   "id": "760d3a91-a4aa-4a71-8666-ba898be8efb8",
   "metadata": {},
   "source": [
    "### Filing Date"
   ]
  },
  {
   "cell_type": "code",
   "execution_count": 16,
   "id": "3c9cf565-a41c-420a-b13c-818e979b724e",
   "metadata": {},
   "outputs": [
    {
     "name": "stdout",
     "output_type": "stream",
     "text": [
      "388\n",
      "2024-04-11\n"
     ]
    }
   ],
   "source": [
    "recent_filings['filingDate']\n",
    "print(len(recent_filings['filingDate']))\n",
    "print(recent_filings['filingDate'][3])"
   ]
  },
  {
   "cell_type": "markdown",
   "id": "6065cfe3-966c-43d8-9b59-5b0d1264077b",
   "metadata": {},
   "source": [
    "### Report Date"
   ]
  },
  {
   "cell_type": "code",
   "execution_count": 17,
   "id": "b0b86bd9-3391-49b8-af63-bc09910330d7",
   "metadata": {},
   "outputs": [
    {
     "name": "stdout",
     "output_type": "stream",
     "text": [
      "388\n",
      "2024-04-05\n"
     ]
    }
   ],
   "source": [
    "recent_filings['reportDate']\n",
    "print(len(recent_filings['reportDate']))\n",
    "print(recent_filings['reportDate'][3])"
   ]
  },
  {
   "cell_type": "markdown",
   "id": "21ac2f7d-ae30-4d7e-ba03-29b23a0d1da6",
   "metadata": {},
   "source": [
    "### Acceptance Date Time"
   ]
  },
  {
   "cell_type": "code",
   "execution_count": 18,
   "id": "e52f1446-e470-4c48-a372-28e57071cb2d",
   "metadata": {},
   "outputs": [
    {
     "name": "stdout",
     "output_type": "stream",
     "text": [
      "388\n",
      "2024-04-11T16:10:32.000Z\n"
     ]
    }
   ],
   "source": [
    "recent_filings['acceptanceDateTime']\n",
    "print(len(recent_filings['acceptanceDateTime']))\n",
    "print(recent_filings['acceptanceDateTime'][3])"
   ]
  },
  {
   "cell_type": "markdown",
   "id": "4828e6eb-79f8-4be1-8b4e-fcc9f6633543",
   "metadata": {},
   "source": [
    "### ACT"
   ]
  },
  {
   "cell_type": "code",
   "execution_count": 19,
   "id": "c42c6cd6-7e8e-440f-be06-2435f5343733",
   "metadata": {},
   "outputs": [
    {
     "name": "stdout",
     "output_type": "stream",
     "text": [
      "388\n",
      "34\n"
     ]
    }
   ],
   "source": [
    "recent_filings['act']\n",
    "print(len(recent_filings['act']))\n",
    "print(recent_filings['act'][3])"
   ]
  },
  {
   "cell_type": "markdown",
   "id": "05c06e92-809c-4522-8a8f-563c06875aec",
   "metadata": {},
   "source": [
    "### Form"
   ]
  },
  {
   "cell_type": "code",
   "execution_count": 20,
   "id": "b8753e10-1b72-4a2a-928c-8f808cd53193",
   "metadata": {},
   "outputs": [
    {
     "name": "stdout",
     "output_type": "stream",
     "text": [
      "388\n",
      "8-K\n"
     ]
    }
   ],
   "source": [
    "recent_filings['form']\n",
    "print(len(recent_filings['form']))\n",
    "print(recent_filings['form'][3])"
   ]
  },
  {
   "cell_type": "markdown",
   "id": "31bc430d-8b13-4289-b35c-a22f993a7468",
   "metadata": {},
   "source": [
    "### File Number"
   ]
  },
  {
   "cell_type": "code",
   "execution_count": 21,
   "id": "37d32d97-a425-4280-8d82-25104509b48f",
   "metadata": {},
   "outputs": [
    {
     "name": "stdout",
     "output_type": "stream",
     "text": [
      "388\n",
      "001-38389\n"
     ]
    }
   ],
   "source": [
    "recent_filings['fileNumber']\n",
    "print(len(recent_filings['fileNumber']))\n",
    "print(recent_filings['fileNumber'][3])"
   ]
  },
  {
   "cell_type": "markdown",
   "id": "4321b509-b11e-4d8f-bbea-f67df74ef7a2",
   "metadata": {},
   "source": [
    "### Film Number"
   ]
  },
  {
   "cell_type": "code",
   "execution_count": 22,
   "id": "e36cbf8c-8f4c-42a6-9975-e0894053b95f",
   "metadata": {},
   "outputs": [
    {
     "name": "stdout",
     "output_type": "stream",
     "text": [
      "388\n",
      "24838620\n"
     ]
    }
   ],
   "source": [
    "recent_filings['filmNumber']\n",
    "print(len(recent_filings['filmNumber']))\n",
    "print(recent_filings['filmNumber'][3])"
   ]
  },
  {
   "cell_type": "markdown",
   "id": "2d44b609-ea0d-4391-afd0-ff9b302ac2b1",
   "metadata": {},
   "source": [
    "### Items"
   ]
  },
  {
   "cell_type": "code",
   "execution_count": 23,
   "id": "994bb9dd-3f9f-4d94-b6c9-bd8c921029ba",
   "metadata": {},
   "outputs": [
    {
     "name": "stdout",
     "output_type": "stream",
     "text": [
      "388\n",
      "3.01\n"
     ]
    }
   ],
   "source": [
    "recent_filings['items']\n",
    "print(len(recent_filings['items']))\n",
    "print(recent_filings['items'][3])"
   ]
  },
  {
   "cell_type": "markdown",
   "id": "05034040-9815-4b71-9c58-6bede7634777",
   "metadata": {},
   "source": [
    "### Size"
   ]
  },
  {
   "cell_type": "code",
   "execution_count": 24,
   "id": "738f4d81-e34e-48ee-a662-b71f72236b00",
   "metadata": {},
   "outputs": [
    {
     "name": "stdout",
     "output_type": "stream",
     "text": [
      "388\n",
      "214647\n"
     ]
    }
   ],
   "source": [
    "recent_filings['size']\n",
    "print(len(recent_filings['size']))\n",
    "print(recent_filings['size'][3])"
   ]
  },
  {
   "cell_type": "markdown",
   "id": "61cec10d-70d8-4b5b-a851-a0897e7a4d94",
   "metadata": {},
   "source": [
    "### Primary Document"
   ]
  },
  {
   "cell_type": "code",
   "execution_count": 25,
   "id": "d987b6c6-c4fe-4a5d-b120-8e4827b4958b",
   "metadata": {},
   "outputs": [
    {
     "name": "stdout",
     "output_type": "stream",
     "text": [
      "388\n",
      "form8-k.htm\n"
     ]
    }
   ],
   "source": [
    "recent_filings['primaryDocument']\n",
    "print(len(recent_filings['primaryDocument']))\n",
    "print(recent_filings['primaryDocument'][3])"
   ]
  },
  {
   "cell_type": "markdown",
   "id": "1be706f7-7895-43e6-b675-7b5e0ce66556",
   "metadata": {},
   "source": [
    "### Is XBRL"
   ]
  },
  {
   "cell_type": "code",
   "execution_count": 26,
   "id": "2b9c2a73-e004-493f-96fb-bb6dbb6b10ef",
   "metadata": {},
   "outputs": [
    {
     "name": "stdout",
     "output_type": "stream",
     "text": [
      "388\n",
      "1\n"
     ]
    }
   ],
   "source": [
    "recent_filings['isXBRL']\n",
    "print(len(recent_filings['isXBRL']))\n",
    "print(recent_filings['isXBRL'][3])"
   ]
  },
  {
   "cell_type": "markdown",
   "id": "0ece259e-6b15-4871-b39e-f1404273b905",
   "metadata": {},
   "source": [
    "### Is Inline XBRL"
   ]
  },
  {
   "cell_type": "code",
   "execution_count": 27,
   "id": "b73d8428-755b-4ccd-b922-4b9564ad449b",
   "metadata": {},
   "outputs": [
    {
     "name": "stdout",
     "output_type": "stream",
     "text": [
      "388\n",
      "1\n"
     ]
    }
   ],
   "source": [
    "recent_filings['isInlineXBRL']\n",
    "print(len(recent_filings['isInlineXBRL']))\n",
    "print(recent_filings['isInlineXBRL'][3])"
   ]
  },
  {
   "cell_type": "markdown",
   "id": "bf1905c7-2010-4bb1-b432-b5f99205f468",
   "metadata": {},
   "source": [
    "### Primary Doc Description"
   ]
  },
  {
   "cell_type": "code",
   "execution_count": 28,
   "id": "49c0f075-659c-401d-bf12-0547a296d2ce",
   "metadata": {},
   "outputs": [
    {
     "name": "stdout",
     "output_type": "stream",
     "text": [
      "388\n",
      "\n"
     ]
    }
   ],
   "source": [
    "recent_filings['primaryDocDescription']\n",
    "print(len(recent_filings['primaryDocDescription']))\n",
    "print(recent_filings['primaryDocDescription'][3])"
   ]
  },
  {
   "cell_type": "markdown",
   "id": "238d7365-54a8-4d39-a3cd-eefde822955d",
   "metadata": {},
   "source": [
    "`https://www.sec.gov/Archives/edgar/data/{CIK_number}/{accessionNumber}/{primaryDocument}`"
   ]
  },
  {
   "cell_type": "code",
   "execution_count": 29,
   "id": "6fbbb0e0-734e-4f1e-936a-42dd13b7c0e1",
   "metadata": {},
   "outputs": [],
   "source": [
    "# Make a function that loops through the length of response.json()['filings']['recent'] and populates a list\n",
    "# whose items are in the order of the dataframe columns\n",
    "# start should start at which cik_index to start at (line in all_submissions.txt)\n",
    "def extract_10qs(cik_url_index=0):\n",
    "    line_counter = cik_url_index\n",
    "    tickers = []\n",
    "    exchanges = []\n",
    "    accession_numbers = []\n",
    "    filing_dates = []\n",
    "    report_dates = []\n",
    "    acceptance_datetimes = []\n",
    "    acts = []\n",
    "    forms = []\n",
    "    file_numbers = []\n",
    "    film_numbers = []\n",
    "    items = []\n",
    "    sizes = []\n",
    "    primary_documents = []\n",
    "    is_XBRLs = []\n",
    "    is_inline_XBRLs = []\n",
    "    primary_doc_descriptions = []\n",
    "    sources = []\n",
    "    has_multi_tickers = []\n",
    "    has_multi_exchanges = []\n",
    "    all_submissions_line_numbers = []\n",
    "    report_urls = []\n",
    "    \n",
    "    with open('../data/all_submissions.txt', 'r') as file_reader:\n",
    "        lines = file_reader.readlines()\n",
    "        line = lines[cik_url_index]\n",
    "        #for cik_index in range(len(lines)):\n",
    "        # for line in lines[start:]:\n",
    "            # Skip cik_index that is less than the specified starting index\n",
    "            # print(f'cik_index {cik_index} >= start {start} = {cik_index >= start}')\n",
    "            # if cik_index >= start:\n",
    "        print(f'Extracting reports from URL {line}', end='\\r')\n",
    "\n",
    "        # save cik number to build report url later\n",
    "        cik_number = line.split('/')[-1].split('.')[0][3:].strip('0')\n",
    "        \n",
    "        response = requests.get(line.strip(), headers=headers)\n",
    "\n",
    "        # WAIT 1 SECOND TO NOT DDOS THE GOVERNMENT\n",
    "        time.sleep(1)\n",
    "        \n",
    "        if response.status_code != 200:\n",
    "            print(f'Status code {response.status_code} received for URL {line.strip()}. URL on line {line_counter + 1}', end='\\r')\n",
    "        json = response.json()\n",
    "        curr_ticker = json['tickers']\n",
    "        curr_exchange = json['exchanges']\n",
    "        ticker_filings = json['filings']['recent']\n",
    "        for i_curr_ticker_filings in range(len(ticker_filings['accessionNumber'])):\n",
    "            if ticker_filings['form'][i_curr_ticker_filings] == '10-Q':\n",
    "                if len(curr_ticker) == 0:\n",
    "                    tickers.append(None)\n",
    "                else:\n",
    "                    tickers.append(curr_ticker[0])\n",
    "                if len(curr_exchange) == 0:\n",
    "                    exchanges.append(None)\n",
    "                else:\n",
    "                    exchanges.append(curr_exchange[0])\n",
    "                accession_numbers.append(ticker_filings['accessionNumber'][i_curr_ticker_filings])\n",
    "                filing_dates.append(ticker_filings['filingDate'][i_curr_ticker_filings])\n",
    "                report_dates.append(ticker_filings['reportDate'][i_curr_ticker_filings])\n",
    "                acceptance_datetimes.append(ticker_filings['acceptanceDateTime'][i_curr_ticker_filings])\n",
    "                acts.append(ticker_filings['act'][i_curr_ticker_filings])\n",
    "                forms.append(ticker_filings['form'][i_curr_ticker_filings])\n",
    "                file_numbers.append(ticker_filings['fileNumber'][i_curr_ticker_filings])\n",
    "                film_numbers.append(ticker_filings['filmNumber'][i_curr_ticker_filings])\n",
    "                items.append(ticker_filings['items'][i_curr_ticker_filings])\n",
    "                sizes.append(ticker_filings['size'][i_curr_ticker_filings])\n",
    "                primary_documents.append(ticker_filings['primaryDocument'][i_curr_ticker_filings])\n",
    "                is_XBRLs.append(ticker_filings['isXBRL'][i_curr_ticker_filings])\n",
    "                is_inline_XBRLs.append(ticker_filings['isInlineXBRL'][i_curr_ticker_filings])\n",
    "                primary_doc_descriptions.append(ticker_filings['primaryDocDescription'][i_curr_ticker_filings])\n",
    "                sources.append(line)\n",
    "                if len(curr_ticker) > 1:\n",
    "                    has_multi_tickers.append(1)\n",
    "                else:\n",
    "                    has_multi_tickers.append(0)\n",
    "                if len(curr_exchange) > 1:\n",
    "                    has_multi_exchanges.append(1)\n",
    "                else:\n",
    "                    has_multi_exchanges.append(0)\n",
    "                all_submissions_line_numbers.append(cik_url_index + 1)\n",
    "                report_urls.append(f'https://www.sec.gov/Archives/edgar/data/{cik_number}/{ticker_filings[\"accessionNumber\"][i_curr_ticker_filings].replace(\"-\", \"\")}/{ticker_filings[\"primaryDocument\"][i_curr_ticker_filings]}')\n",
    "    return pd.DataFrame({\n",
    "        'ticker': tickers,\n",
    "        'exchange': exchanges,\n",
    "        'accession_number': accession_numbers,\n",
    "        'filing_date': filing_dates,\n",
    "        'report_date': report_dates,\n",
    "        'acceptance_datetime': acceptance_datetimes,\n",
    "        'act': acts,\n",
    "        'form': forms,\n",
    "        'file_number': file_numbers,\n",
    "        'film_number': film_numbers,\n",
    "        'items': items,\n",
    "        'size': sizes,\n",
    "        'primary_document': primary_documents,\n",
    "        'is_XBRL': is_XBRLs,\n",
    "        'is_inline_XBRL': is_inline_XBRLs,\n",
    "        'primary_doc_description': primary_doc_descriptions,\n",
    "        'source': [source.strip() for source in sources],\n",
    "        'has_multi_ticker': has_multi_tickers,\n",
    "        'has_multi_exchange': has_multi_exchanges,\n",
    "        'all_submissions_line_number': all_submissions_line_numbers,\n",
    "        'report_url': report_urls\n",
    "    })"
   ]
  },
  {
   "cell_type": "code",
   "execution_count": 30,
   "id": "71819030-d395-4b66-8404-e4b9e0a4232c",
   "metadata": {
    "scrolled": true
   },
   "outputs": [
    {
     "name": "stdout",
     "output_type": "stream",
     "text": [
      "Extracting reports from URL https://data.sec.gov/submissions/CIK0001686850.json\n",
      "\r"
     ]
    },
    {
     "data": {
      "text/plain": [
       "(19, 21)"
      ]
     },
     "execution_count": 30,
     "metadata": {},
     "output_type": "execute_result"
    }
   ],
   "source": [
    "functional_test_df = extract_10qs(cik_url_index=0)\n",
    "functional_test_df.shape"
   ]
  },
  {
   "cell_type": "code",
   "execution_count": 31,
   "id": "5a09eb60-c655-4feb-b29e-3dff4edbfa50",
   "metadata": {},
   "outputs": [
    {
     "data": {
      "text/plain": [
       "ticker                         object\n",
       "exchange                       object\n",
       "accession_number               object\n",
       "filing_date                    object\n",
       "report_date                    object\n",
       "acceptance_datetime            object\n",
       "act                            object\n",
       "form                           object\n",
       "file_number                    object\n",
       "film_number                    object\n",
       "items                          object\n",
       "size                            int64\n",
       "primary_document               object\n",
       "is_XBRL                         int64\n",
       "is_inline_XBRL                  int64\n",
       "primary_doc_description        object\n",
       "source                         object\n",
       "has_multi_ticker                int64\n",
       "has_multi_exchange              int64\n",
       "all_submissions_line_number     int64\n",
       "report_url                     object\n",
       "dtype: object"
      ]
     },
     "execution_count": 31,
     "metadata": {},
     "output_type": "execute_result"
    }
   ],
   "source": [
    "functional_test_df.dtypes"
   ]
  },
  {
   "cell_type": "markdown",
   "id": "3a7548fa-2b82-4176-ba08-5b9e18c7b9ef",
   "metadata": {},
   "source": [
    "The `extract_10qs()` function can now be used to extract a maximum of `extraction_count` number of reports. It will return a dataframe of all 10q reports between the range of `start` and (`start` + `extraction_count`). The resulting dataframe can then be concatenated to the original dataframe. Gathering this metadata will take some time, so it is a huge benefit to periodically pause extraction, concatenate the incremental progress to the original dataframe, and then save the dataframe to a csv to continue progress at a later time."
   ]
  },
  {
   "cell_type": "code",
   "execution_count": 32,
   "id": "63e73bb3-788a-4284-908d-5825f6253106",
   "metadata": {},
   "outputs": [
    {
     "data": {
      "text/html": [
       "<div>\n",
       "<style scoped>\n",
       "    .dataframe tbody tr th:only-of-type {\n",
       "        vertical-align: middle;\n",
       "    }\n",
       "\n",
       "    .dataframe tbody tr th {\n",
       "        vertical-align: top;\n",
       "    }\n",
       "\n",
       "    .dataframe thead th {\n",
       "        text-align: right;\n",
       "    }\n",
       "</style>\n",
       "<table border=\"1\" class=\"dataframe\">\n",
       "  <thead>\n",
       "    <tr style=\"text-align: right;\">\n",
       "      <th></th>\n",
       "      <th>ticker</th>\n",
       "      <th>exchange</th>\n",
       "      <th>accession_number</th>\n",
       "      <th>filing_date</th>\n",
       "      <th>report_date</th>\n",
       "      <th>acceptance_datetime</th>\n",
       "      <th>act</th>\n",
       "      <th>form</th>\n",
       "      <th>file_number</th>\n",
       "      <th>film_number</th>\n",
       "      <th>...</th>\n",
       "      <th>size</th>\n",
       "      <th>primary_document</th>\n",
       "      <th>is_XBRL</th>\n",
       "      <th>is_inline_XBRL</th>\n",
       "      <th>primary_doc_description</th>\n",
       "      <th>source</th>\n",
       "      <th>has_multi_ticker</th>\n",
       "      <th>has_multi_exchange</th>\n",
       "      <th>all_submissions_line_number</th>\n",
       "      <th>report_url</th>\n",
       "    </tr>\n",
       "  </thead>\n",
       "  <tbody>\n",
       "    <tr>\n",
       "      <th>0</th>\n",
       "      <td>MOTS</td>\n",
       "      <td>Nasdaq</td>\n",
       "      <td>0001493152-24-019257</td>\n",
       "      <td>2024-05-14</td>\n",
       "      <td>2024-03-31</td>\n",
       "      <td>2024-05-14T16:23:05.000Z</td>\n",
       "      <td>34</td>\n",
       "      <td>10-Q</td>\n",
       "      <td>001-38389</td>\n",
       "      <td>24944744</td>\n",
       "      <td>...</td>\n",
       "      <td>4147142</td>\n",
       "      <td>form10-q.htm</td>\n",
       "      <td>1</td>\n",
       "      <td>1</td>\n",
       "      <td></td>\n",
       "      <td>https://data.sec.gov/submissions/CIK0001686850...</td>\n",
       "      <td>0</td>\n",
       "      <td>0</td>\n",
       "      <td>1</td>\n",
       "      <td>https://www.sec.gov/Archives/edgar/data/168685...</td>\n",
       "    </tr>\n",
       "    <tr>\n",
       "      <th>1</th>\n",
       "      <td>MOTS</td>\n",
       "      <td>Nasdaq</td>\n",
       "      <td>0001493152-23-040502</td>\n",
       "      <td>2023-11-13</td>\n",
       "      <td>2023-09-30</td>\n",
       "      <td>2023-11-13T16:11:01.000Z</td>\n",
       "      <td>34</td>\n",
       "      <td>10-Q</td>\n",
       "      <td>001-38389</td>\n",
       "      <td>231398795</td>\n",
       "      <td>...</td>\n",
       "      <td>4687228</td>\n",
       "      <td>form10-q.htm</td>\n",
       "      <td>1</td>\n",
       "      <td>1</td>\n",
       "      <td></td>\n",
       "      <td>https://data.sec.gov/submissions/CIK0001686850...</td>\n",
       "      <td>0</td>\n",
       "      <td>0</td>\n",
       "      <td>1</td>\n",
       "      <td>https://www.sec.gov/Archives/edgar/data/168685...</td>\n",
       "    </tr>\n",
       "    <tr>\n",
       "      <th>2</th>\n",
       "      <td>MOTS</td>\n",
       "      <td>Nasdaq</td>\n",
       "      <td>0001493152-23-028452</td>\n",
       "      <td>2023-08-14</td>\n",
       "      <td>2023-06-30</td>\n",
       "      <td>2023-08-14T16:10:59.000Z</td>\n",
       "      <td>34</td>\n",
       "      <td>10-Q</td>\n",
       "      <td>001-38389</td>\n",
       "      <td>231170176</td>\n",
       "      <td>...</td>\n",
       "      <td>4463369</td>\n",
       "      <td>form10-q.htm</td>\n",
       "      <td>1</td>\n",
       "      <td>1</td>\n",
       "      <td></td>\n",
       "      <td>https://data.sec.gov/submissions/CIK0001686850...</td>\n",
       "      <td>0</td>\n",
       "      <td>0</td>\n",
       "      <td>1</td>\n",
       "      <td>https://www.sec.gov/Archives/edgar/data/168685...</td>\n",
       "    </tr>\n",
       "    <tr>\n",
       "      <th>3</th>\n",
       "      <td>MOTS</td>\n",
       "      <td>Nasdaq</td>\n",
       "      <td>0001493152-23-016166</td>\n",
       "      <td>2023-05-10</td>\n",
       "      <td>2023-03-31</td>\n",
       "      <td>2023-05-10T16:10:45.000Z</td>\n",
       "      <td>34</td>\n",
       "      <td>10-Q</td>\n",
       "      <td>001-38389</td>\n",
       "      <td>23906458</td>\n",
       "      <td>...</td>\n",
       "      <td>3810652</td>\n",
       "      <td>form10-q.htm</td>\n",
       "      <td>1</td>\n",
       "      <td>1</td>\n",
       "      <td></td>\n",
       "      <td>https://data.sec.gov/submissions/CIK0001686850...</td>\n",
       "      <td>0</td>\n",
       "      <td>0</td>\n",
       "      <td>1</td>\n",
       "      <td>https://www.sec.gov/Archives/edgar/data/168685...</td>\n",
       "    </tr>\n",
       "    <tr>\n",
       "      <th>4</th>\n",
       "      <td>MOTS</td>\n",
       "      <td>Nasdaq</td>\n",
       "      <td>0001493152-22-032096</td>\n",
       "      <td>2022-11-14</td>\n",
       "      <td>2022-09-30</td>\n",
       "      <td>2022-11-14T16:27:53.000Z</td>\n",
       "      <td>34</td>\n",
       "      <td>10-Q</td>\n",
       "      <td>001-38389</td>\n",
       "      <td>221386239</td>\n",
       "      <td>...</td>\n",
       "      <td>4535184</td>\n",
       "      <td>form10-q.htm</td>\n",
       "      <td>1</td>\n",
       "      <td>1</td>\n",
       "      <td></td>\n",
       "      <td>https://data.sec.gov/submissions/CIK0001686850...</td>\n",
       "      <td>0</td>\n",
       "      <td>0</td>\n",
       "      <td>1</td>\n",
       "      <td>https://www.sec.gov/Archives/edgar/data/168685...</td>\n",
       "    </tr>\n",
       "  </tbody>\n",
       "</table>\n",
       "<p>5 rows × 21 columns</p>\n",
       "</div>"
      ],
      "text/plain": [
       "  ticker exchange      accession_number filing_date report_date  \\\n",
       "0   MOTS   Nasdaq  0001493152-24-019257  2024-05-14  2024-03-31   \n",
       "1   MOTS   Nasdaq  0001493152-23-040502  2023-11-13  2023-09-30   \n",
       "2   MOTS   Nasdaq  0001493152-23-028452  2023-08-14  2023-06-30   \n",
       "3   MOTS   Nasdaq  0001493152-23-016166  2023-05-10  2023-03-31   \n",
       "4   MOTS   Nasdaq  0001493152-22-032096  2022-11-14  2022-09-30   \n",
       "\n",
       "        acceptance_datetime act  form file_number film_number  ...     size  \\\n",
       "0  2024-05-14T16:23:05.000Z  34  10-Q   001-38389    24944744  ...  4147142   \n",
       "1  2023-11-13T16:11:01.000Z  34  10-Q   001-38389   231398795  ...  4687228   \n",
       "2  2023-08-14T16:10:59.000Z  34  10-Q   001-38389   231170176  ...  4463369   \n",
       "3  2023-05-10T16:10:45.000Z  34  10-Q   001-38389    23906458  ...  3810652   \n",
       "4  2022-11-14T16:27:53.000Z  34  10-Q   001-38389   221386239  ...  4535184   \n",
       "\n",
       "   primary_document is_XBRL  is_inline_XBRL  primary_doc_description  \\\n",
       "0      form10-q.htm       1               1                            \n",
       "1      form10-q.htm       1               1                            \n",
       "2      form10-q.htm       1               1                            \n",
       "3      form10-q.htm       1               1                            \n",
       "4      form10-q.htm       1               1                            \n",
       "\n",
       "                                              source has_multi_ticker  \\\n",
       "0  https://data.sec.gov/submissions/CIK0001686850...                0   \n",
       "1  https://data.sec.gov/submissions/CIK0001686850...                0   \n",
       "2  https://data.sec.gov/submissions/CIK0001686850...                0   \n",
       "3  https://data.sec.gov/submissions/CIK0001686850...                0   \n",
       "4  https://data.sec.gov/submissions/CIK0001686850...                0   \n",
       "\n",
       "   has_multi_exchange  all_submissions_line_number  \\\n",
       "0                   0                            1   \n",
       "1                   0                            1   \n",
       "2                   0                            1   \n",
       "3                   0                            1   \n",
       "4                   0                            1   \n",
       "\n",
       "                                          report_url  \n",
       "0  https://www.sec.gov/Archives/edgar/data/168685...  \n",
       "1  https://www.sec.gov/Archives/edgar/data/168685...  \n",
       "2  https://www.sec.gov/Archives/edgar/data/168685...  \n",
       "3  https://www.sec.gov/Archives/edgar/data/168685...  \n",
       "4  https://www.sec.gov/Archives/edgar/data/168685...  \n",
       "\n",
       "[5 rows x 21 columns]"
      ]
     },
     "execution_count": 32,
     "metadata": {},
     "output_type": "execute_result"
    }
   ],
   "source": [
    "functional_test_df.head()"
   ]
  },
  {
   "cell_type": "code",
   "execution_count": 33,
   "id": "67a2b584-a431-4ea6-9bcd-e7a187cb2c08",
   "metadata": {
    "scrolled": true
   },
   "outputs": [
    {
     "name": "stdout",
     "output_type": "stream",
     "text": [
      "https://www.sec.gov/Archives/edgar/data/168685/000149315224019257/form10-q.htm\n",
      "https://www.sec.gov/Archives/edgar/data/168685/000149315223040502/form10-q.htm\n",
      "https://www.sec.gov/Archives/edgar/data/168685/000149315223028452/form10-q.htm\n",
      "https://www.sec.gov/Archives/edgar/data/168685/000149315223016166/form10-q.htm\n",
      "https://www.sec.gov/Archives/edgar/data/168685/000149315222032096/form10-q.htm\n"
     ]
    }
   ],
   "source": [
    "for i in functional_test_df.head().index:\n",
    "    print(functional_test_df.iloc[i][\"report_url\"])"
   ]
  },
  {
   "cell_type": "markdown",
   "id": "13afa0ab-4dd3-47ae-94e5-80e4b1211ca9",
   "metadata": {},
   "source": [
    "### Gathering All 10-Q Reports\n",
    "\n",
    "The below block of code was executed to scrape the returned json's from `all_submissions.txt` to return a dataframe of only 10-Q reports. We will periodically save the csv that is being written in case of any interuptions in execution. Then we may check the `all_submissions_line_number` value of the latest written row and start the loop from that index. It is possible for human error to provide the incorrect index to resume work, so we will need to validate and clean the final result of the csv as needed.\n",
    "\n",
    "```python\n",
    "df = pd.DataFrame(columns=['ticker', 'exchange', 'accession_number', 'filing_date', 'report_date', 'acceptance_datetime', 'act', 'form', 'file_number', 'film_number', 'items', 'size', 'primary_document', 'is_XBRL', 'is_inline_XBRL', 'primary_doc_description', 'source', 'has_multi_ticker', 'has_multi_exchange', 'all_submissions_line_number', 'report_url'])\n",
    "                              \n",
    "with open('../data/all_submissions.txt', 'r') as submissions:\n",
    "    lines = submissions.readlines()\n",
    "    # Modify start of range as needed\n",
    "    for i_line in range(0, len(lines)):\n",
    "        df = pd.concat([df, extract_10qs(i_line)], axis=0)\n",
    "        df.to_csv('../data/debug/all_10qs.csv')\n",
    "```\n",
    "\n",
    "I had two interruptions due to my machine going to sleep while the above block ran. For example, the process ended at line number 7393, but I restarted the process at 7390. This is mostly because I didn't want to spend any time in that moment determining which 10-Q report URLs from the json on line 7393 have already been built, so I backtracked a few line indicies to be sure I have all the data I need at the cost of a few seconds of execution and cleaning up duplicates. I have manually moved the final `all_10qs.csv` out of the debug folder to the data folder. Let's do some of that cleanup now."
   ]
  },
  {
   "cell_type": "code",
   "execution_count": 72,
   "id": "9007f3c4-921b-4462-907c-3a2bfc48b4ee",
   "metadata": {},
   "outputs": [
    {
     "name": "stderr",
     "output_type": "stream",
     "text": [
      "C:\\Users\\Raffy\\AppData\\Local\\Temp\\ipykernel_17352\\1842117572.py:1: DtypeWarning: Columns (10) have mixed types. Specify dtype option on import or set low_memory=False.\n",
      "  df_10qs = pd.read_csv('../data/all_10qs.csv')\n"
     ]
    }
   ],
   "source": [
    "df_10qs = pd.read_csv('../data/all_10qs.csv')\n",
    "df_10qs.drop('Unnamed: 0', axis=1, inplace=True)"
   ]
  },
  {
   "cell_type": "code",
   "execution_count": 73,
   "id": "693c8dc3-598f-452d-a6d8-56ffd5794c29",
   "metadata": {},
   "outputs": [
    {
     "data": {
      "text/html": [
       "<div>\n",
       "<style scoped>\n",
       "    .dataframe tbody tr th:only-of-type {\n",
       "        vertical-align: middle;\n",
       "    }\n",
       "\n",
       "    .dataframe tbody tr th {\n",
       "        vertical-align: top;\n",
       "    }\n",
       "\n",
       "    .dataframe thead th {\n",
       "        text-align: right;\n",
       "    }\n",
       "</style>\n",
       "<table border=\"1\" class=\"dataframe\">\n",
       "  <thead>\n",
       "    <tr style=\"text-align: right;\">\n",
       "      <th></th>\n",
       "      <th>ticker</th>\n",
       "      <th>exchange</th>\n",
       "      <th>accession_number</th>\n",
       "      <th>filing_date</th>\n",
       "      <th>report_date</th>\n",
       "      <th>acceptance_datetime</th>\n",
       "      <th>act</th>\n",
       "      <th>form</th>\n",
       "      <th>file_number</th>\n",
       "      <th>film_number</th>\n",
       "      <th>...</th>\n",
       "      <th>size</th>\n",
       "      <th>primary_document</th>\n",
       "      <th>is_XBRL</th>\n",
       "      <th>is_inline_XBRL</th>\n",
       "      <th>primary_doc_description</th>\n",
       "      <th>source</th>\n",
       "      <th>has_multi_ticker</th>\n",
       "      <th>has_multi_exchange</th>\n",
       "      <th>all_submissions_line_number</th>\n",
       "      <th>report_url</th>\n",
       "    </tr>\n",
       "  </thead>\n",
       "  <tbody>\n",
       "    <tr>\n",
       "      <th>0</th>\n",
       "      <td>CVCY</td>\n",
       "      <td>Nasdaq</td>\n",
       "      <td>0001628280-24-023222</td>\n",
       "      <td>2024-05-14</td>\n",
       "      <td>2024-03-31</td>\n",
       "      <td>2024-05-14T16:19:29.000Z</td>\n",
       "      <td>34.0</td>\n",
       "      <td>10-Q</td>\n",
       "      <td>000-31977</td>\n",
       "      <td>24944655.0</td>\n",
       "      <td>...</td>\n",
       "      <td>12967977</td>\n",
       "      <td>cvcy-20240331.htm</td>\n",
       "      <td>1</td>\n",
       "      <td>1</td>\n",
       "      <td>10-Q</td>\n",
       "      <td>https://data.sec.gov/submissions/CIK0001127371...</td>\n",
       "      <td>0</td>\n",
       "      <td>0</td>\n",
       "      <td>1</td>\n",
       "      <td>https://www.sec.gov/Archives/edgar/data/112737...</td>\n",
       "    </tr>\n",
       "    <tr>\n",
       "      <th>1</th>\n",
       "      <td>CVCY</td>\n",
       "      <td>Nasdaq</td>\n",
       "      <td>0001127371-23-000152</td>\n",
       "      <td>2023-11-02</td>\n",
       "      <td>2023-09-30</td>\n",
       "      <td>2023-11-02T14:38:44.000Z</td>\n",
       "      <td>34.0</td>\n",
       "      <td>10-Q</td>\n",
       "      <td>000-31977</td>\n",
       "      <td>231371534.0</td>\n",
       "      <td>...</td>\n",
       "      <td>12864003</td>\n",
       "      <td>cvcy-20230930.htm</td>\n",
       "      <td>1</td>\n",
       "      <td>1</td>\n",
       "      <td>10-Q</td>\n",
       "      <td>https://data.sec.gov/submissions/CIK0001127371...</td>\n",
       "      <td>0</td>\n",
       "      <td>0</td>\n",
       "      <td>1</td>\n",
       "      <td>https://www.sec.gov/Archives/edgar/data/112737...</td>\n",
       "    </tr>\n",
       "    <tr>\n",
       "      <th>2</th>\n",
       "      <td>CVCY</td>\n",
       "      <td>Nasdaq</td>\n",
       "      <td>0001127371-23-000128</td>\n",
       "      <td>2023-08-03</td>\n",
       "      <td>2023-06-30</td>\n",
       "      <td>2023-08-03T16:56:00.000Z</td>\n",
       "      <td>34.0</td>\n",
       "      <td>10-Q</td>\n",
       "      <td>000-31977</td>\n",
       "      <td>231140967.0</td>\n",
       "      <td>...</td>\n",
       "      <td>12459205</td>\n",
       "      <td>cvcy-20230630.htm</td>\n",
       "      <td>1</td>\n",
       "      <td>1</td>\n",
       "      <td>10-Q</td>\n",
       "      <td>https://data.sec.gov/submissions/CIK0001127371...</td>\n",
       "      <td>0</td>\n",
       "      <td>0</td>\n",
       "      <td>1</td>\n",
       "      <td>https://www.sec.gov/Archives/edgar/data/112737...</td>\n",
       "    </tr>\n",
       "    <tr>\n",
       "      <th>3</th>\n",
       "      <td>CVCY</td>\n",
       "      <td>Nasdaq</td>\n",
       "      <td>0001127371-23-000072</td>\n",
       "      <td>2023-05-15</td>\n",
       "      <td>2023-03-31</td>\n",
       "      <td>2023-05-12T18:46:16.000Z</td>\n",
       "      <td>34.0</td>\n",
       "      <td>10-Q</td>\n",
       "      <td>000-31977</td>\n",
       "      <td>23917689.0</td>\n",
       "      <td>...</td>\n",
       "      <td>12111169</td>\n",
       "      <td>cvcy-20230331.htm</td>\n",
       "      <td>1</td>\n",
       "      <td>1</td>\n",
       "      <td>10-Q</td>\n",
       "      <td>https://data.sec.gov/submissions/CIK0001127371...</td>\n",
       "      <td>0</td>\n",
       "      <td>0</td>\n",
       "      <td>1</td>\n",
       "      <td>https://www.sec.gov/Archives/edgar/data/112737...</td>\n",
       "    </tr>\n",
       "    <tr>\n",
       "      <th>4</th>\n",
       "      <td>CVCY</td>\n",
       "      <td>Nasdaq</td>\n",
       "      <td>0001127371-22-000167</td>\n",
       "      <td>2022-11-02</td>\n",
       "      <td>2022-09-30</td>\n",
       "      <td>2022-11-02T13:29:11.000Z</td>\n",
       "      <td>34.0</td>\n",
       "      <td>10-Q</td>\n",
       "      <td>000-31977</td>\n",
       "      <td>221353223.0</td>\n",
       "      <td>...</td>\n",
       "      <td>13954236</td>\n",
       "      <td>cvcy-20220930.htm</td>\n",
       "      <td>1</td>\n",
       "      <td>1</td>\n",
       "      <td>10-Q</td>\n",
       "      <td>https://data.sec.gov/submissions/CIK0001127371...</td>\n",
       "      <td>0</td>\n",
       "      <td>0</td>\n",
       "      <td>1</td>\n",
       "      <td>https://www.sec.gov/Archives/edgar/data/112737...</td>\n",
       "    </tr>\n",
       "  </tbody>\n",
       "</table>\n",
       "<p>5 rows × 21 columns</p>\n",
       "</div>"
      ],
      "text/plain": [
       "  ticker exchange      accession_number filing_date report_date  \\\n",
       "0   CVCY   Nasdaq  0001628280-24-023222  2024-05-14  2024-03-31   \n",
       "1   CVCY   Nasdaq  0001127371-23-000152  2023-11-02  2023-09-30   \n",
       "2   CVCY   Nasdaq  0001127371-23-000128  2023-08-03  2023-06-30   \n",
       "3   CVCY   Nasdaq  0001127371-23-000072  2023-05-15  2023-03-31   \n",
       "4   CVCY   Nasdaq  0001127371-22-000167  2022-11-02  2022-09-30   \n",
       "\n",
       "        acceptance_datetime   act  form file_number  film_number  ...  \\\n",
       "0  2024-05-14T16:19:29.000Z  34.0  10-Q   000-31977   24944655.0  ...   \n",
       "1  2023-11-02T14:38:44.000Z  34.0  10-Q   000-31977  231371534.0  ...   \n",
       "2  2023-08-03T16:56:00.000Z  34.0  10-Q   000-31977  231140967.0  ...   \n",
       "3  2023-05-12T18:46:16.000Z  34.0  10-Q   000-31977   23917689.0  ...   \n",
       "4  2022-11-02T13:29:11.000Z  34.0  10-Q   000-31977  221353223.0  ...   \n",
       "\n",
       "       size   primary_document is_XBRL  is_inline_XBRL  \\\n",
       "0  12967977  cvcy-20240331.htm       1               1   \n",
       "1  12864003  cvcy-20230930.htm       1               1   \n",
       "2  12459205  cvcy-20230630.htm       1               1   \n",
       "3  12111169  cvcy-20230331.htm       1               1   \n",
       "4  13954236  cvcy-20220930.htm       1               1   \n",
       "\n",
       "   primary_doc_description                                             source  \\\n",
       "0                     10-Q  https://data.sec.gov/submissions/CIK0001127371...   \n",
       "1                     10-Q  https://data.sec.gov/submissions/CIK0001127371...   \n",
       "2                     10-Q  https://data.sec.gov/submissions/CIK0001127371...   \n",
       "3                     10-Q  https://data.sec.gov/submissions/CIK0001127371...   \n",
       "4                     10-Q  https://data.sec.gov/submissions/CIK0001127371...   \n",
       "\n",
       "  has_multi_ticker  has_multi_exchange  all_submissions_line_number  \\\n",
       "0                0                   0                            1   \n",
       "1                0                   0                            1   \n",
       "2                0                   0                            1   \n",
       "3                0                   0                            1   \n",
       "4                0                   0                            1   \n",
       "\n",
       "                                          report_url  \n",
       "0  https://www.sec.gov/Archives/edgar/data/112737...  \n",
       "1  https://www.sec.gov/Archives/edgar/data/112737...  \n",
       "2  https://www.sec.gov/Archives/edgar/data/112737...  \n",
       "3  https://www.sec.gov/Archives/edgar/data/112737...  \n",
       "4  https://www.sec.gov/Archives/edgar/data/112737...  \n",
       "\n",
       "[5 rows x 21 columns]"
      ]
     },
     "execution_count": 73,
     "metadata": {},
     "output_type": "execute_result"
    }
   ],
   "source": [
    "df_10qs.head()"
   ]
  },
  {
   "cell_type": "code",
   "execution_count": 74,
   "id": "289560d2-67a4-423d-929a-04fb29ac0fa2",
   "metadata": {},
   "outputs": [
    {
     "data": {
      "text/plain": [
       "(177246, 21)"
      ]
     },
     "execution_count": 74,
     "metadata": {},
     "output_type": "execute_result"
    }
   ],
   "source": [
    "df_10qs.shape"
   ]
  },
  {
   "cell_type": "code",
   "execution_count": 75,
   "id": "1db804fa-2846-44f4-a319-38f7cf2887cb",
   "metadata": {},
   "outputs": [
    {
     "data": {
      "text/plain": [
       "(177117, 21)"
      ]
     },
     "execution_count": 75,
     "metadata": {},
     "output_type": "execute_result"
    }
   ],
   "source": [
    "df_10qs.drop_duplicates().shape"
   ]
  },
  {
   "cell_type": "code",
   "execution_count": 144,
   "id": "22926ec3-ec1a-4fba-b98f-7c371cf32789",
   "metadata": {},
   "outputs": [],
   "source": [
    "df_10qs.drop_duplicates(inplace=True)\n",
    "df_10qs.reset_index(drop=True, inplace=True)"
   ]
  },
  {
   "cell_type": "markdown",
   "id": "af48f582-701f-4fcf-8906-f1caec152efd",
   "metadata": {},
   "source": [
    "Accession number and Primary Document are required to be able to successfully build the report url, so I will drop any values that have null values for those two columns."
   ]
  },
  {
   "cell_type": "code",
   "execution_count": 148,
   "id": "f8ec99f5-6d74-445d-b686-e58fb8b23397",
   "metadata": {},
   "outputs": [
    {
     "data": {
      "text/plain": [
       "(177117, 21)"
      ]
     },
     "execution_count": 148,
     "metadata": {},
     "output_type": "execute_result"
    }
   ],
   "source": [
    "df_10qs.shape"
   ]
  },
  {
   "cell_type": "code",
   "execution_count": 150,
   "id": "bb29e301-d6e4-4578-8fa4-c5cdb81cfb37",
   "metadata": {},
   "outputs": [
    {
     "data": {
      "text/plain": [
       "(173402, 21)"
      ]
     },
     "execution_count": 150,
     "metadata": {},
     "output_type": "execute_result"
    }
   ],
   "source": [
    "df_10qs.dropna(subset=['accession_number', 'primary_document'], inplace = True)\n",
    "df_10qs.reset_index(drop=True, inplace=True)\n",
    "df_10qs.shape"
   ]
  },
  {
   "cell_type": "markdown",
   "id": "b8babb12-fdf1-4d1a-96b5-39f1141cc198",
   "metadata": {},
   "source": [
    "# ABOVE IS ALL SET. CONTINUE BELOW"
   ]
  },
  {
   "cell_type": "code",
   "execution_count": 82,
   "id": "3fd0055c-7892-4758-a0f8-fb3806e75e91",
   "metadata": {},
   "outputs": [
    {
     "name": "stdout",
     "output_type": "stream",
     "text": [
      "<class 'float'>\n",
      "<class 'str'>\n",
      "<class 'float'>\n",
      "<class 'float'>\n",
      "<class 'float'>\n",
      "<class 'str'>\n",
      "<class 'str'>\n",
      "<class 'float'>\n",
      "<class 'float'>\n",
      "<class 'str'>\n"
     ]
    }
   ],
   "source": [
    "for i in list(set(df_10qs['film_number'].value_counts().index))[:10]:\n",
    "    print(type(i))"
   ]
  },
  {
   "cell_type": "code",
   "execution_count": 83,
   "id": "4284a6a4-39f8-417b-a4b8-71a55472ced7",
   "metadata": {},
   "outputs": [
    {
     "ename": "ValueError",
     "evalue": "could not convert string to float: '17010285,17010284'",
     "output_type": "error",
     "traceback": [
      "\u001b[1;31m---------------------------------------------------------------------------\u001b[0m",
      "\u001b[1;31mValueError\u001b[0m                                Traceback (most recent call last)",
      "Cell \u001b[1;32mIn[83], line 1\u001b[0m\n\u001b[1;32m----> 1\u001b[0m \u001b[43mdf_10qs\u001b[49m\u001b[43m[\u001b[49m\u001b[38;5;124;43m'\u001b[39;49m\u001b[38;5;124;43mfilm_number\u001b[39;49m\u001b[38;5;124;43m'\u001b[39;49m\u001b[43m]\u001b[49m\u001b[38;5;241;43m.\u001b[39;49m\u001b[43mastype\u001b[49m\u001b[43m(\u001b[49m\u001b[38;5;124;43m\"\u001b[39;49m\u001b[38;5;124;43mfloat\u001b[39;49m\u001b[38;5;124;43m\"\u001b[39;49m\u001b[43m)\u001b[49m\n",
      "File \u001b[1;32m~\\anaconda3\\lib\\site-packages\\pandas\\core\\generic.py:6534\u001b[0m, in \u001b[0;36mNDFrame.astype\u001b[1;34m(self, dtype, copy, errors)\u001b[0m\n\u001b[0;32m   6530\u001b[0m     results \u001b[38;5;241m=\u001b[39m [ser\u001b[38;5;241m.\u001b[39mastype(dtype, copy\u001b[38;5;241m=\u001b[39mcopy) \u001b[38;5;28;01mfor\u001b[39;00m _, ser \u001b[38;5;129;01min\u001b[39;00m \u001b[38;5;28mself\u001b[39m\u001b[38;5;241m.\u001b[39mitems()]\n\u001b[0;32m   6532\u001b[0m \u001b[38;5;28;01melse\u001b[39;00m:\n\u001b[0;32m   6533\u001b[0m     \u001b[38;5;66;03m# else, only a single dtype is given\u001b[39;00m\n\u001b[1;32m-> 6534\u001b[0m     new_data \u001b[38;5;241m=\u001b[39m \u001b[38;5;28;43mself\u001b[39;49m\u001b[38;5;241;43m.\u001b[39;49m\u001b[43m_mgr\u001b[49m\u001b[38;5;241;43m.\u001b[39;49m\u001b[43mastype\u001b[49m\u001b[43m(\u001b[49m\u001b[43mdtype\u001b[49m\u001b[38;5;241;43m=\u001b[39;49m\u001b[43mdtype\u001b[49m\u001b[43m,\u001b[49m\u001b[43m \u001b[49m\u001b[43mcopy\u001b[49m\u001b[38;5;241;43m=\u001b[39;49m\u001b[43mcopy\u001b[49m\u001b[43m,\u001b[49m\u001b[43m \u001b[49m\u001b[43merrors\u001b[49m\u001b[38;5;241;43m=\u001b[39;49m\u001b[43merrors\u001b[49m\u001b[43m)\u001b[49m\n\u001b[0;32m   6535\u001b[0m     res \u001b[38;5;241m=\u001b[39m \u001b[38;5;28mself\u001b[39m\u001b[38;5;241m.\u001b[39m_constructor_from_mgr(new_data, axes\u001b[38;5;241m=\u001b[39mnew_data\u001b[38;5;241m.\u001b[39maxes)\n\u001b[0;32m   6536\u001b[0m     \u001b[38;5;28;01mreturn\u001b[39;00m res\u001b[38;5;241m.\u001b[39m__finalize__(\u001b[38;5;28mself\u001b[39m, method\u001b[38;5;241m=\u001b[39m\u001b[38;5;124m\"\u001b[39m\u001b[38;5;124mastype\u001b[39m\u001b[38;5;124m\"\u001b[39m)\n",
      "File \u001b[1;32m~\\anaconda3\\lib\\site-packages\\pandas\\core\\internals\\managers.py:414\u001b[0m, in \u001b[0;36mBaseBlockManager.astype\u001b[1;34m(self, dtype, copy, errors)\u001b[0m\n\u001b[0;32m    411\u001b[0m \u001b[38;5;28;01melif\u001b[39;00m using_copy_on_write():\n\u001b[0;32m    412\u001b[0m     copy \u001b[38;5;241m=\u001b[39m \u001b[38;5;28;01mFalse\u001b[39;00m\n\u001b[1;32m--> 414\u001b[0m \u001b[38;5;28;01mreturn\u001b[39;00m \u001b[38;5;28;43mself\u001b[39;49m\u001b[38;5;241;43m.\u001b[39;49m\u001b[43mapply\u001b[49m\u001b[43m(\u001b[49m\n\u001b[0;32m    415\u001b[0m \u001b[43m    \u001b[49m\u001b[38;5;124;43m\"\u001b[39;49m\u001b[38;5;124;43mastype\u001b[39;49m\u001b[38;5;124;43m\"\u001b[39;49m\u001b[43m,\u001b[49m\n\u001b[0;32m    416\u001b[0m \u001b[43m    \u001b[49m\u001b[43mdtype\u001b[49m\u001b[38;5;241;43m=\u001b[39;49m\u001b[43mdtype\u001b[49m\u001b[43m,\u001b[49m\n\u001b[0;32m    417\u001b[0m \u001b[43m    \u001b[49m\u001b[43mcopy\u001b[49m\u001b[38;5;241;43m=\u001b[39;49m\u001b[43mcopy\u001b[49m\u001b[43m,\u001b[49m\n\u001b[0;32m    418\u001b[0m \u001b[43m    \u001b[49m\u001b[43merrors\u001b[49m\u001b[38;5;241;43m=\u001b[39;49m\u001b[43merrors\u001b[49m\u001b[43m,\u001b[49m\n\u001b[0;32m    419\u001b[0m \u001b[43m    \u001b[49m\u001b[43musing_cow\u001b[49m\u001b[38;5;241;43m=\u001b[39;49m\u001b[43musing_copy_on_write\u001b[49m\u001b[43m(\u001b[49m\u001b[43m)\u001b[49m\u001b[43m,\u001b[49m\n\u001b[0;32m    420\u001b[0m \u001b[43m\u001b[49m\u001b[43m)\u001b[49m\n",
      "File \u001b[1;32m~\\anaconda3\\lib\\site-packages\\pandas\\core\\internals\\managers.py:354\u001b[0m, in \u001b[0;36mBaseBlockManager.apply\u001b[1;34m(self, f, align_keys, **kwargs)\u001b[0m\n\u001b[0;32m    352\u001b[0m         applied \u001b[38;5;241m=\u001b[39m b\u001b[38;5;241m.\u001b[39mapply(f, \u001b[38;5;241m*\u001b[39m\u001b[38;5;241m*\u001b[39mkwargs)\n\u001b[0;32m    353\u001b[0m     \u001b[38;5;28;01melse\u001b[39;00m:\n\u001b[1;32m--> 354\u001b[0m         applied \u001b[38;5;241m=\u001b[39m \u001b[38;5;28mgetattr\u001b[39m(b, f)(\u001b[38;5;241m*\u001b[39m\u001b[38;5;241m*\u001b[39mkwargs)\n\u001b[0;32m    355\u001b[0m     result_blocks \u001b[38;5;241m=\u001b[39m extend_blocks(applied, result_blocks)\n\u001b[0;32m    357\u001b[0m out \u001b[38;5;241m=\u001b[39m \u001b[38;5;28mtype\u001b[39m(\u001b[38;5;28mself\u001b[39m)\u001b[38;5;241m.\u001b[39mfrom_blocks(result_blocks, \u001b[38;5;28mself\u001b[39m\u001b[38;5;241m.\u001b[39maxes)\n",
      "File \u001b[1;32m~\\anaconda3\\lib\\site-packages\\pandas\\core\\internals\\blocks.py:616\u001b[0m, in \u001b[0;36mBlock.astype\u001b[1;34m(self, dtype, copy, errors, using_cow)\u001b[0m\n\u001b[0;32m    596\u001b[0m \u001b[38;5;250m\u001b[39m\u001b[38;5;124;03m\"\"\"\u001b[39;00m\n\u001b[0;32m    597\u001b[0m \u001b[38;5;124;03mCoerce to the new dtype.\u001b[39;00m\n\u001b[0;32m    598\u001b[0m \n\u001b[1;32m   (...)\u001b[0m\n\u001b[0;32m    612\u001b[0m \u001b[38;5;124;03mBlock\u001b[39;00m\n\u001b[0;32m    613\u001b[0m \u001b[38;5;124;03m\"\"\"\u001b[39;00m\n\u001b[0;32m    614\u001b[0m values \u001b[38;5;241m=\u001b[39m \u001b[38;5;28mself\u001b[39m\u001b[38;5;241m.\u001b[39mvalues\n\u001b[1;32m--> 616\u001b[0m new_values \u001b[38;5;241m=\u001b[39m \u001b[43mastype_array_safe\u001b[49m\u001b[43m(\u001b[49m\u001b[43mvalues\u001b[49m\u001b[43m,\u001b[49m\u001b[43m \u001b[49m\u001b[43mdtype\u001b[49m\u001b[43m,\u001b[49m\u001b[43m \u001b[49m\u001b[43mcopy\u001b[49m\u001b[38;5;241;43m=\u001b[39;49m\u001b[43mcopy\u001b[49m\u001b[43m,\u001b[49m\u001b[43m \u001b[49m\u001b[43merrors\u001b[49m\u001b[38;5;241;43m=\u001b[39;49m\u001b[43merrors\u001b[49m\u001b[43m)\u001b[49m\n\u001b[0;32m    618\u001b[0m new_values \u001b[38;5;241m=\u001b[39m maybe_coerce_values(new_values)\n\u001b[0;32m    620\u001b[0m refs \u001b[38;5;241m=\u001b[39m \u001b[38;5;28;01mNone\u001b[39;00m\n",
      "File \u001b[1;32m~\\anaconda3\\lib\\site-packages\\pandas\\core\\dtypes\\astype.py:238\u001b[0m, in \u001b[0;36mastype_array_safe\u001b[1;34m(values, dtype, copy, errors)\u001b[0m\n\u001b[0;32m    235\u001b[0m     dtype \u001b[38;5;241m=\u001b[39m dtype\u001b[38;5;241m.\u001b[39mnumpy_dtype\n\u001b[0;32m    237\u001b[0m \u001b[38;5;28;01mtry\u001b[39;00m:\n\u001b[1;32m--> 238\u001b[0m     new_values \u001b[38;5;241m=\u001b[39m \u001b[43mastype_array\u001b[49m\u001b[43m(\u001b[49m\u001b[43mvalues\u001b[49m\u001b[43m,\u001b[49m\u001b[43m \u001b[49m\u001b[43mdtype\u001b[49m\u001b[43m,\u001b[49m\u001b[43m \u001b[49m\u001b[43mcopy\u001b[49m\u001b[38;5;241;43m=\u001b[39;49m\u001b[43mcopy\u001b[49m\u001b[43m)\u001b[49m\n\u001b[0;32m    239\u001b[0m \u001b[38;5;28;01mexcept\u001b[39;00m (\u001b[38;5;167;01mValueError\u001b[39;00m, \u001b[38;5;167;01mTypeError\u001b[39;00m):\n\u001b[0;32m    240\u001b[0m     \u001b[38;5;66;03m# e.g. _astype_nansafe can fail on object-dtype of strings\u001b[39;00m\n\u001b[0;32m    241\u001b[0m     \u001b[38;5;66;03m#  trying to convert to float\u001b[39;00m\n\u001b[0;32m    242\u001b[0m     \u001b[38;5;28;01mif\u001b[39;00m errors \u001b[38;5;241m==\u001b[39m \u001b[38;5;124m\"\u001b[39m\u001b[38;5;124mignore\u001b[39m\u001b[38;5;124m\"\u001b[39m:\n",
      "File \u001b[1;32m~\\anaconda3\\lib\\site-packages\\pandas\\core\\dtypes\\astype.py:183\u001b[0m, in \u001b[0;36mastype_array\u001b[1;34m(values, dtype, copy)\u001b[0m\n\u001b[0;32m    180\u001b[0m     values \u001b[38;5;241m=\u001b[39m values\u001b[38;5;241m.\u001b[39mastype(dtype, copy\u001b[38;5;241m=\u001b[39mcopy)\n\u001b[0;32m    182\u001b[0m \u001b[38;5;28;01melse\u001b[39;00m:\n\u001b[1;32m--> 183\u001b[0m     values \u001b[38;5;241m=\u001b[39m \u001b[43m_astype_nansafe\u001b[49m\u001b[43m(\u001b[49m\u001b[43mvalues\u001b[49m\u001b[43m,\u001b[49m\u001b[43m \u001b[49m\u001b[43mdtype\u001b[49m\u001b[43m,\u001b[49m\u001b[43m \u001b[49m\u001b[43mcopy\u001b[49m\u001b[38;5;241;43m=\u001b[39;49m\u001b[43mcopy\u001b[49m\u001b[43m)\u001b[49m\n\u001b[0;32m    185\u001b[0m \u001b[38;5;66;03m# in pandas we don't store numpy str dtypes, so convert to object\u001b[39;00m\n\u001b[0;32m    186\u001b[0m \u001b[38;5;28;01mif\u001b[39;00m \u001b[38;5;28misinstance\u001b[39m(dtype, np\u001b[38;5;241m.\u001b[39mdtype) \u001b[38;5;129;01mand\u001b[39;00m \u001b[38;5;28missubclass\u001b[39m(values\u001b[38;5;241m.\u001b[39mdtype\u001b[38;5;241m.\u001b[39mtype, \u001b[38;5;28mstr\u001b[39m):\n",
      "File \u001b[1;32m~\\anaconda3\\lib\\site-packages\\pandas\\core\\dtypes\\astype.py:134\u001b[0m, in \u001b[0;36m_astype_nansafe\u001b[1;34m(arr, dtype, copy, skipna)\u001b[0m\n\u001b[0;32m    130\u001b[0m     \u001b[38;5;28;01mraise\u001b[39;00m \u001b[38;5;167;01mValueError\u001b[39;00m(msg)\n\u001b[0;32m    132\u001b[0m \u001b[38;5;28;01mif\u001b[39;00m copy \u001b[38;5;129;01mor\u001b[39;00m arr\u001b[38;5;241m.\u001b[39mdtype \u001b[38;5;241m==\u001b[39m \u001b[38;5;28mobject\u001b[39m \u001b[38;5;129;01mor\u001b[39;00m dtype \u001b[38;5;241m==\u001b[39m \u001b[38;5;28mobject\u001b[39m:\n\u001b[0;32m    133\u001b[0m     \u001b[38;5;66;03m# Explicit copy, or required since NumPy can't view from / to object.\u001b[39;00m\n\u001b[1;32m--> 134\u001b[0m     \u001b[38;5;28;01mreturn\u001b[39;00m \u001b[43marr\u001b[49m\u001b[38;5;241;43m.\u001b[39;49m\u001b[43mastype\u001b[49m\u001b[43m(\u001b[49m\u001b[43mdtype\u001b[49m\u001b[43m,\u001b[49m\u001b[43m \u001b[49m\u001b[43mcopy\u001b[49m\u001b[38;5;241;43m=\u001b[39;49m\u001b[38;5;28;43;01mTrue\u001b[39;49;00m\u001b[43m)\u001b[49m\n\u001b[0;32m    136\u001b[0m \u001b[38;5;28;01mreturn\u001b[39;00m arr\u001b[38;5;241m.\u001b[39mastype(dtype, copy\u001b[38;5;241m=\u001b[39mcopy)\n",
      "\u001b[1;31mValueError\u001b[0m: could not convert string to float: '17010285,17010284'"
     ]
    }
   ],
   "source": [
    "df_10qs['film_number'].astype(\"float\")"
   ]
  },
  {
   "cell_type": "code",
   "execution_count": 85,
   "id": "3e2dcffd-1a00-4f95-bd92-90f93878fa42",
   "metadata": {},
   "outputs": [
    {
     "data": {
      "text/html": [
       "<div>\n",
       "<style scoped>\n",
       "    .dataframe tbody tr th:only-of-type {\n",
       "        vertical-align: middle;\n",
       "    }\n",
       "\n",
       "    .dataframe tbody tr th {\n",
       "        vertical-align: top;\n",
       "    }\n",
       "\n",
       "    .dataframe thead th {\n",
       "        text-align: right;\n",
       "    }\n",
       "</style>\n",
       "<table border=\"1\" class=\"dataframe\">\n",
       "  <thead>\n",
       "    <tr style=\"text-align: right;\">\n",
       "      <th></th>\n",
       "      <th>ticker</th>\n",
       "      <th>exchange</th>\n",
       "      <th>accession_number</th>\n",
       "      <th>filing_date</th>\n",
       "      <th>report_date</th>\n",
       "      <th>acceptance_datetime</th>\n",
       "      <th>act</th>\n",
       "      <th>form</th>\n",
       "      <th>file_number</th>\n",
       "      <th>film_number</th>\n",
       "      <th>...</th>\n",
       "      <th>size</th>\n",
       "      <th>primary_document</th>\n",
       "      <th>is_XBRL</th>\n",
       "      <th>is_inline_XBRL</th>\n",
       "      <th>primary_doc_description</th>\n",
       "      <th>source</th>\n",
       "      <th>has_multi_ticker</th>\n",
       "      <th>has_multi_exchange</th>\n",
       "      <th>all_submissions_line_number</th>\n",
       "      <th>report_url</th>\n",
       "    </tr>\n",
       "  </thead>\n",
       "  <tbody>\n",
       "    <tr>\n",
       "      <th>62693</th>\n",
       "      <td>RMNI</td>\n",
       "      <td>Nasdaq</td>\n",
       "      <td>9999999997-17-006760</td>\n",
       "      <td>2017-05-11</td>\n",
       "      <td>2017-03-31</td>\n",
       "      <td>2017-06-01T13:09:33.000Z</td>\n",
       "      <td>34.0</td>\n",
       "      <td>10-Q</td>\n",
       "      <td>001-37397</td>\n",
       "      <td>17010285,17010284</td>\n",
       "      <td>...</td>\n",
       "      <td>2156</td>\n",
       "      <td>9999999997-17-006760.paper</td>\n",
       "      <td>0</td>\n",
       "      <td>0</td>\n",
       "      <td>AUTO-GENERATED PAPER DOCUMENT</td>\n",
       "      <td>https://data.sec.gov/submissions/CIK0001635282...</td>\n",
       "      <td>0</td>\n",
       "      <td>0</td>\n",
       "      <td>2901</td>\n",
       "      <td>https://www.sec.gov/Archives/edgar/data/163528...</td>\n",
       "    </tr>\n",
       "  </tbody>\n",
       "</table>\n",
       "<p>1 rows × 21 columns</p>\n",
       "</div>"
      ],
      "text/plain": [
       "      ticker exchange      accession_number filing_date report_date  \\\n",
       "62693   RMNI   Nasdaq  9999999997-17-006760  2017-05-11  2017-03-31   \n",
       "\n",
       "            acceptance_datetime   act  form file_number        film_number  \\\n",
       "62693  2017-06-01T13:09:33.000Z  34.0  10-Q   001-37397  17010285,17010284   \n",
       "\n",
       "       ...  size            primary_document is_XBRL  is_inline_XBRL  \\\n",
       "62693  ...  2156  9999999997-17-006760.paper       0               0   \n",
       "\n",
       "             primary_doc_description  \\\n",
       "62693  AUTO-GENERATED PAPER DOCUMENT   \n",
       "\n",
       "                                                  source has_multi_ticker  \\\n",
       "62693  https://data.sec.gov/submissions/CIK0001635282...                0   \n",
       "\n",
       "       has_multi_exchange  all_submissions_line_number  \\\n",
       "62693                   0                         2901   \n",
       "\n",
       "                                              report_url  \n",
       "62693  https://www.sec.gov/Archives/edgar/data/163528...  \n",
       "\n",
       "[1 rows x 21 columns]"
      ]
     },
     "execution_count": 85,
     "metadata": {},
     "output_type": "execute_result"
    }
   ],
   "source": [
    "df_10qs.loc[df_10qs['film_number'] == '17010285,17010284']"
   ]
  },
  {
   "cell_type": "code",
   "execution_count": 105,
   "id": "b16b41e9-0838-4c81-866d-7f3220e1ccc5",
   "metadata": {},
   "outputs": [
    {
     "data": {
      "text/plain": [
       "'https://www.sec.gov/Archives/edgar/data/1635282/999999999717006760/9999999997-17-006760.paper'"
      ]
     },
     "execution_count": 105,
     "metadata": {},
     "output_type": "execute_result"
    }
   ],
   "source": [
    "df_10qs.iloc[62693]['report_url']"
   ]
  },
  {
   "cell_type": "markdown",
   "id": "df724827-63c0-48ce-9a22-99f84e41de6d",
   "metadata": {},
   "source": [
    "Looking at the contents of the document shows that I am unable to view the 10-Q report unless I provide the DCN to `https://www.sec.gov/forms/request_public_docs#no-back` at the cost of $61 per document. Due to this constraint, I will drop this row and will need to keep in mind that reports gathered may not be the true report such as the above."
   ]
  },
  {
   "cell_type": "code",
   "execution_count": 140,
   "id": "74f29c00-31b8-439b-ad24-b24387e39e92",
   "metadata": {},
   "outputs": [
    {
     "data": {
      "text/html": [
       "<div>\n",
       "<style scoped>\n",
       "    .dataframe tbody tr th:only-of-type {\n",
       "        vertical-align: middle;\n",
       "    }\n",
       "\n",
       "    .dataframe tbody tr th {\n",
       "        vertical-align: top;\n",
       "    }\n",
       "\n",
       "    .dataframe thead th {\n",
       "        text-align: right;\n",
       "    }\n",
       "</style>\n",
       "<table border=\"1\" class=\"dataframe\">\n",
       "  <thead>\n",
       "    <tr style=\"text-align: right;\">\n",
       "      <th></th>\n",
       "      <th>ticker</th>\n",
       "      <th>exchange</th>\n",
       "      <th>accession_number</th>\n",
       "      <th>filing_date</th>\n",
       "      <th>report_date</th>\n",
       "      <th>acceptance_datetime</th>\n",
       "      <th>act</th>\n",
       "      <th>form</th>\n",
       "      <th>file_number</th>\n",
       "      <th>film_number</th>\n",
       "      <th>...</th>\n",
       "      <th>size</th>\n",
       "      <th>primary_document</th>\n",
       "      <th>is_XBRL</th>\n",
       "      <th>is_inline_XBRL</th>\n",
       "      <th>primary_doc_description</th>\n",
       "      <th>source</th>\n",
       "      <th>has_multi_ticker</th>\n",
       "      <th>has_multi_exchange</th>\n",
       "      <th>all_submissions_line_number</th>\n",
       "      <th>report_url</th>\n",
       "    </tr>\n",
       "  </thead>\n",
       "  <tbody>\n",
       "    <tr>\n",
       "      <th>692</th>\n",
       "      <td>LVPA</td>\n",
       "      <td>OTC</td>\n",
       "      <td>0001052809-99-000013</td>\n",
       "      <td>1999-10-29</td>\n",
       "      <td>1999-08-31</td>\n",
       "      <td>1999-10-29T00:00:00.000Z</td>\n",
       "      <td>NaN</td>\n",
       "      <td>10-Q</td>\n",
       "      <td>033-20966</td>\n",
       "      <td>99736996.0</td>\n",
       "      <td>...</td>\n",
       "      <td>33732</td>\n",
       "      <td>NaN</td>\n",
       "      <td>0</td>\n",
       "      <td>0</td>\n",
       "      <td>FORM 10-Q</td>\n",
       "      <td>https://data.sec.gov/submissions/CIK0000831378...</td>\n",
       "      <td>0</td>\n",
       "      <td>0</td>\n",
       "      <td>31</td>\n",
       "      <td>https://www.sec.gov/Archives/edgar/data/831378...</td>\n",
       "    </tr>\n",
       "    <tr>\n",
       "      <th>693</th>\n",
       "      <td>LVPA</td>\n",
       "      <td>OTC</td>\n",
       "      <td>0000899243-99-001792</td>\n",
       "      <td>1999-08-16</td>\n",
       "      <td>1998-08-31</td>\n",
       "      <td>1999-08-16T00:00:00.000Z</td>\n",
       "      <td>NaN</td>\n",
       "      <td>10-Q</td>\n",
       "      <td>033-20966</td>\n",
       "      <td>99692701.0</td>\n",
       "      <td>...</td>\n",
       "      <td>33158</td>\n",
       "      <td>NaN</td>\n",
       "      <td>0</td>\n",
       "      <td>0</td>\n",
       "      <td>FORM 10-Q</td>\n",
       "      <td>https://data.sec.gov/submissions/CIK0000831378...</td>\n",
       "      <td>0</td>\n",
       "      <td>0</td>\n",
       "      <td>31</td>\n",
       "      <td>https://www.sec.gov/Archives/edgar/data/831378...</td>\n",
       "    </tr>\n",
       "    <tr>\n",
       "      <th>694</th>\n",
       "      <td>LVPA</td>\n",
       "      <td>OTC</td>\n",
       "      <td>0000899243-99-001789</td>\n",
       "      <td>1999-08-16</td>\n",
       "      <td>1998-11-30</td>\n",
       "      <td>1999-08-16T00:00:00.000Z</td>\n",
       "      <td>NaN</td>\n",
       "      <td>10-Q</td>\n",
       "      <td>033-20966</td>\n",
       "      <td>99692507.0</td>\n",
       "      <td>...</td>\n",
       "      <td>31824</td>\n",
       "      <td>NaN</td>\n",
       "      <td>0</td>\n",
       "      <td>0</td>\n",
       "      <td>FORM 10-Q</td>\n",
       "      <td>https://data.sec.gov/submissions/CIK0000831378...</td>\n",
       "      <td>0</td>\n",
       "      <td>0</td>\n",
       "      <td>31</td>\n",
       "      <td>https://www.sec.gov/Archives/edgar/data/831378...</td>\n",
       "    </tr>\n",
       "    <tr>\n",
       "      <th>695</th>\n",
       "      <td>LVPA</td>\n",
       "      <td>OTC</td>\n",
       "      <td>0000899243-99-001788</td>\n",
       "      <td>1999-08-16</td>\n",
       "      <td>1999-02-28</td>\n",
       "      <td>1999-08-16T00:00:00.000Z</td>\n",
       "      <td>NaN</td>\n",
       "      <td>10-Q</td>\n",
       "      <td>033-20966</td>\n",
       "      <td>99692469.0</td>\n",
       "      <td>...</td>\n",
       "      <td>32733</td>\n",
       "      <td>NaN</td>\n",
       "      <td>0</td>\n",
       "      <td>0</td>\n",
       "      <td>FORM 10-Q</td>\n",
       "      <td>https://data.sec.gov/submissions/CIK0000831378...</td>\n",
       "      <td>0</td>\n",
       "      <td>0</td>\n",
       "      <td>31</td>\n",
       "      <td>https://www.sec.gov/Archives/edgar/data/831378...</td>\n",
       "    </tr>\n",
       "    <tr>\n",
       "      <th>1120</th>\n",
       "      <td>USLM</td>\n",
       "      <td>Nasdaq</td>\n",
       "      <td>0000950134-00-004352</td>\n",
       "      <td>2000-05-12</td>\n",
       "      <td>2000-03-31</td>\n",
       "      <td>2000-05-12T00:00:00.000Z</td>\n",
       "      <td>NaN</td>\n",
       "      <td>10-Q</td>\n",
       "      <td>000-04197</td>\n",
       "      <td>628105.0</td>\n",
       "      <td>...</td>\n",
       "      <td>39491</td>\n",
       "      <td>NaN</td>\n",
       "      <td>0</td>\n",
       "      <td>0</td>\n",
       "      <td>FORM 10-Q FOR QUARTER ENDED MARCH 31, 2000</td>\n",
       "      <td>https://data.sec.gov/submissions/CIK0000082020...</td>\n",
       "      <td>0</td>\n",
       "      <td>0</td>\n",
       "      <td>45</td>\n",
       "      <td>https://www.sec.gov/Archives/edgar/data/8202/0...</td>\n",
       "    </tr>\n",
       "    <tr>\n",
       "      <th>...</th>\n",
       "      <td>...</td>\n",
       "      <td>...</td>\n",
       "      <td>...</td>\n",
       "      <td>...</td>\n",
       "      <td>...</td>\n",
       "      <td>...</td>\n",
       "      <td>...</td>\n",
       "      <td>...</td>\n",
       "      <td>...</td>\n",
       "      <td>...</td>\n",
       "      <td>...</td>\n",
       "      <td>...</td>\n",
       "      <td>...</td>\n",
       "      <td>...</td>\n",
       "      <td>...</td>\n",
       "      <td>...</td>\n",
       "      <td>...</td>\n",
       "      <td>...</td>\n",
       "      <td>...</td>\n",
       "      <td>...</td>\n",
       "      <td>...</td>\n",
       "    </tr>\n",
       "    <tr>\n",
       "      <th>176654</th>\n",
       "      <td>NaN</td>\n",
       "      <td>NaN</td>\n",
       "      <td>0000913906-97-000148</td>\n",
       "      <td>1997-11-10</td>\n",
       "      <td>1997-09-30</td>\n",
       "      <td>1997-11-10T00:00:00.000Z</td>\n",
       "      <td>NaN</td>\n",
       "      <td>10-Q</td>\n",
       "      <td>000-21322</td>\n",
       "      <td>97711810.0</td>\n",
       "      <td>...</td>\n",
       "      <td>60540</td>\n",
       "      <td>NaN</td>\n",
       "      <td>0</td>\n",
       "      <td>0</td>\n",
       "      <td>10 - Q</td>\n",
       "      <td>https://data.sec.gov/submissions/CIK0000889353...</td>\n",
       "      <td>0</td>\n",
       "      <td>0</td>\n",
       "      <td>8016</td>\n",
       "      <td>https://www.sec.gov/Archives/edgar/data/889353...</td>\n",
       "    </tr>\n",
       "    <tr>\n",
       "      <th>176655</th>\n",
       "      <td>NaN</td>\n",
       "      <td>NaN</td>\n",
       "      <td>0000913906-97-000087</td>\n",
       "      <td>1997-08-12</td>\n",
       "      <td>1997-06-30</td>\n",
       "      <td>1997-08-12T00:00:00.000Z</td>\n",
       "      <td>NaN</td>\n",
       "      <td>10-Q</td>\n",
       "      <td>000-21322</td>\n",
       "      <td>97656514.0</td>\n",
       "      <td>...</td>\n",
       "      <td>43411</td>\n",
       "      <td>NaN</td>\n",
       "      <td>0</td>\n",
       "      <td>0</td>\n",
       "      <td>10-Q</td>\n",
       "      <td>https://data.sec.gov/submissions/CIK0000889353...</td>\n",
       "      <td>0</td>\n",
       "      <td>0</td>\n",
       "      <td>8016</td>\n",
       "      <td>https://www.sec.gov/Archives/edgar/data/889353...</td>\n",
       "    </tr>\n",
       "    <tr>\n",
       "      <th>176656</th>\n",
       "      <td>NaN</td>\n",
       "      <td>NaN</td>\n",
       "      <td>0000913906-97-000009</td>\n",
       "      <td>1997-02-12</td>\n",
       "      <td>1996-12-31</td>\n",
       "      <td>1997-02-12T00:00:00.000Z</td>\n",
       "      <td>NaN</td>\n",
       "      <td>10-Q</td>\n",
       "      <td>000-21322</td>\n",
       "      <td>97526874.0</td>\n",
       "      <td>...</td>\n",
       "      <td>69016</td>\n",
       "      <td>NaN</td>\n",
       "      <td>0</td>\n",
       "      <td>0</td>\n",
       "      <td>10-Q</td>\n",
       "      <td>https://data.sec.gov/submissions/CIK0000889353...</td>\n",
       "      <td>0</td>\n",
       "      <td>0</td>\n",
       "      <td>8016</td>\n",
       "      <td>https://www.sec.gov/Archives/edgar/data/889353...</td>\n",
       "    </tr>\n",
       "    <tr>\n",
       "      <th>176657</th>\n",
       "      <td>NaN</td>\n",
       "      <td>NaN</td>\n",
       "      <td>0000913906-96-000125</td>\n",
       "      <td>1996-11-12</td>\n",
       "      <td>1996-09-30</td>\n",
       "      <td>1996-11-12T00:00:00.000Z</td>\n",
       "      <td>NaN</td>\n",
       "      <td>10-Q</td>\n",
       "      <td>000-21322</td>\n",
       "      <td>96658604.0</td>\n",
       "      <td>...</td>\n",
       "      <td>198303</td>\n",
       "      <td>NaN</td>\n",
       "      <td>0</td>\n",
       "      <td>0</td>\n",
       "      <td>2ND QUARTER</td>\n",
       "      <td>https://data.sec.gov/submissions/CIK0000889353...</td>\n",
       "      <td>0</td>\n",
       "      <td>0</td>\n",
       "      <td>8016</td>\n",
       "      <td>https://www.sec.gov/Archives/edgar/data/889353...</td>\n",
       "    </tr>\n",
       "    <tr>\n",
       "      <th>176706</th>\n",
       "      <td>LWAY</td>\n",
       "      <td>Nasdaq</td>\n",
       "      <td>0000949271-98-000026</td>\n",
       "      <td>1998-11-05</td>\n",
       "      <td>1998-09-30</td>\n",
       "      <td>1998-11-05T00:00:00.000Z</td>\n",
       "      <td>NaN</td>\n",
       "      <td>10-Q</td>\n",
       "      <td>000-17363</td>\n",
       "      <td>98738801.0</td>\n",
       "      <td>...</td>\n",
       "      <td>63642</td>\n",
       "      <td>NaN</td>\n",
       "      <td>0</td>\n",
       "      <td>0</td>\n",
       "      <td>NaN</td>\n",
       "      <td>https://data.sec.gov/submissions/CIK0000814586...</td>\n",
       "      <td>0</td>\n",
       "      <td>0</td>\n",
       "      <td>8017</td>\n",
       "      <td>https://www.sec.gov/Archives/edgar/data/814586...</td>\n",
       "    </tr>\n",
       "  </tbody>\n",
       "</table>\n",
       "<p>3737 rows × 21 columns</p>\n",
       "</div>"
      ],
      "text/plain": [
       "       ticker exchange      accession_number filing_date report_date  \\\n",
       "692      LVPA      OTC  0001052809-99-000013  1999-10-29  1999-08-31   \n",
       "693      LVPA      OTC  0000899243-99-001792  1999-08-16  1998-08-31   \n",
       "694      LVPA      OTC  0000899243-99-001789  1999-08-16  1998-11-30   \n",
       "695      LVPA      OTC  0000899243-99-001788  1999-08-16  1999-02-28   \n",
       "1120     USLM   Nasdaq  0000950134-00-004352  2000-05-12  2000-03-31   \n",
       "...       ...      ...                   ...         ...         ...   \n",
       "176654    NaN      NaN  0000913906-97-000148  1997-11-10  1997-09-30   \n",
       "176655    NaN      NaN  0000913906-97-000087  1997-08-12  1997-06-30   \n",
       "176656    NaN      NaN  0000913906-97-000009  1997-02-12  1996-12-31   \n",
       "176657    NaN      NaN  0000913906-96-000125  1996-11-12  1996-09-30   \n",
       "176706   LWAY   Nasdaq  0000949271-98-000026  1998-11-05  1998-09-30   \n",
       "\n",
       "             acceptance_datetime  act  form file_number film_number  ...  \\\n",
       "692     1999-10-29T00:00:00.000Z  NaN  10-Q   033-20966  99736996.0  ...   \n",
       "693     1999-08-16T00:00:00.000Z  NaN  10-Q   033-20966  99692701.0  ...   \n",
       "694     1999-08-16T00:00:00.000Z  NaN  10-Q   033-20966  99692507.0  ...   \n",
       "695     1999-08-16T00:00:00.000Z  NaN  10-Q   033-20966  99692469.0  ...   \n",
       "1120    2000-05-12T00:00:00.000Z  NaN  10-Q   000-04197    628105.0  ...   \n",
       "...                          ...  ...   ...         ...         ...  ...   \n",
       "176654  1997-11-10T00:00:00.000Z  NaN  10-Q   000-21322  97711810.0  ...   \n",
       "176655  1997-08-12T00:00:00.000Z  NaN  10-Q   000-21322  97656514.0  ...   \n",
       "176656  1997-02-12T00:00:00.000Z  NaN  10-Q   000-21322  97526874.0  ...   \n",
       "176657  1996-11-12T00:00:00.000Z  NaN  10-Q   000-21322  96658604.0  ...   \n",
       "176706  1998-11-05T00:00:00.000Z  NaN  10-Q   000-17363  98738801.0  ...   \n",
       "\n",
       "          size  primary_document is_XBRL  is_inline_XBRL  \\\n",
       "692      33732               NaN       0               0   \n",
       "693      33158               NaN       0               0   \n",
       "694      31824               NaN       0               0   \n",
       "695      32733               NaN       0               0   \n",
       "1120     39491               NaN       0               0   \n",
       "...        ...               ...     ...             ...   \n",
       "176654   60540               NaN       0               0   \n",
       "176655   43411               NaN       0               0   \n",
       "176656   69016               NaN       0               0   \n",
       "176657  198303               NaN       0               0   \n",
       "176706   63642               NaN       0               0   \n",
       "\n",
       "                           primary_doc_description  \\\n",
       "692                                      FORM 10-Q   \n",
       "693                                      FORM 10-Q   \n",
       "694                                      FORM 10-Q   \n",
       "695                                      FORM 10-Q   \n",
       "1120    FORM 10-Q FOR QUARTER ENDED MARCH 31, 2000   \n",
       "...                                            ...   \n",
       "176654                                      10 - Q   \n",
       "176655                                        10-Q   \n",
       "176656                                        10-Q   \n",
       "176657                                 2ND QUARTER   \n",
       "176706                                         NaN   \n",
       "\n",
       "                                                   source has_multi_ticker  \\\n",
       "692     https://data.sec.gov/submissions/CIK0000831378...                0   \n",
       "693     https://data.sec.gov/submissions/CIK0000831378...                0   \n",
       "694     https://data.sec.gov/submissions/CIK0000831378...                0   \n",
       "695     https://data.sec.gov/submissions/CIK0000831378...                0   \n",
       "1120    https://data.sec.gov/submissions/CIK0000082020...                0   \n",
       "...                                                   ...              ...   \n",
       "176654  https://data.sec.gov/submissions/CIK0000889353...                0   \n",
       "176655  https://data.sec.gov/submissions/CIK0000889353...                0   \n",
       "176656  https://data.sec.gov/submissions/CIK0000889353...                0   \n",
       "176657  https://data.sec.gov/submissions/CIK0000889353...                0   \n",
       "176706  https://data.sec.gov/submissions/CIK0000814586...                0   \n",
       "\n",
       "        has_multi_exchange  all_submissions_line_number  \\\n",
       "692                      0                           31   \n",
       "693                      0                           31   \n",
       "694                      0                           31   \n",
       "695                      0                           31   \n",
       "1120                     0                           45   \n",
       "...                    ...                          ...   \n",
       "176654                   0                         8016   \n",
       "176655                   0                         8016   \n",
       "176656                   0                         8016   \n",
       "176657                   0                         8016   \n",
       "176706                   0                         8017   \n",
       "\n",
       "                                               report_url  \n",
       "692     https://www.sec.gov/Archives/edgar/data/831378...  \n",
       "693     https://www.sec.gov/Archives/edgar/data/831378...  \n",
       "694     https://www.sec.gov/Archives/edgar/data/831378...  \n",
       "695     https://www.sec.gov/Archives/edgar/data/831378...  \n",
       "1120    https://www.sec.gov/Archives/edgar/data/8202/0...  \n",
       "...                                                   ...  \n",
       "176654  https://www.sec.gov/Archives/edgar/data/889353...  \n",
       "176655  https://www.sec.gov/Archives/edgar/data/889353...  \n",
       "176656  https://www.sec.gov/Archives/edgar/data/889353...  \n",
       "176657  https://www.sec.gov/Archives/edgar/data/889353...  \n",
       "176706  https://www.sec.gov/Archives/edgar/data/814586...  \n",
       "\n",
       "[3737 rows x 21 columns]"
      ]
     },
     "execution_count": 140,
     "metadata": {},
     "output_type": "execute_result"
    }
   ],
   "source": [
    "get_file_ext = lambda a: a.str.endswith('htm')\n",
    "df_10qs.loc[df_10qs['primary_document'].map(lambda a: not str(a).endswith('htm') and not str(a).endswith('txt'))]"
   ]
  },
  {
   "cell_type": "code",
   "execution_count": 141,
   "id": "68d4b6c1-1186-4bdb-964a-47fec2a5a922",
   "metadata": {},
   "outputs": [
    {
     "data": {
      "text/plain": [
       "'https://www.sec.gov/Archives/edgar/data/831378/000105280999000013/'"
      ]
     },
     "execution_count": 141,
     "metadata": {},
     "output_type": "execute_result"
    }
   ],
   "source": [
    "df_10qs.iloc[692]['report_url']"
   ]
  },
  {
   "cell_type": "code",
   "execution_count": 143,
   "id": "ecc64394-741a-4cce-8327-a068da6d4f3f",
   "metadata": {},
   "outputs": [
    {
     "data": {
      "text/plain": [
       "nan"
      ]
     },
     "execution_count": 143,
     "metadata": {},
     "output_type": "execute_result"
    }
   ],
   "source": [
    "df_10qs.iloc[692]['primary_document']"
   ]
  }
 ],
 "metadata": {
  "kernelspec": {
   "display_name": "Python 3 (ipykernel)",
   "language": "python",
   "name": "python3"
  },
  "language_info": {
   "codemirror_mode": {
    "name": "ipython",
    "version": 3
   },
   "file_extension": ".py",
   "mimetype": "text/x-python",
   "name": "python",
   "nbconvert_exporter": "python",
   "pygments_lexer": "ipython3",
   "version": "3.9.18"
  }
 },
 "nbformat": 4,
 "nbformat_minor": 5
}
