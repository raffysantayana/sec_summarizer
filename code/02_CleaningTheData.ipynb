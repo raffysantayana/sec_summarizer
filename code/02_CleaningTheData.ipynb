{
 "cells": [
  {
   "cell_type": "markdown",
   "id": "65e86162-2554-4f3b-b77e-87d71f6ba08c",
   "metadata": {},
   "source": [
    "# Cleaning the Data\n",
    "_Author_: https://github.com/raffysantayana\n",
    "\n",
    "## The Source of Data\n",
    "The data has been gathered using the `requests` library. Please refer to `01_GatheringTheData.ipynb` for the steps taken to gather the data cleaned in this notebook. This notebook builds URLs to each document using this format: `https://data.sec.gov/submissions/CIK{cik:010d}.json` where `cik:010d` is the current ticker identifer that is to be queried with leading zeroes totaling to 10 digits. The JSON is then parsed to retrieve metadata for that ticker to build more URLs that direct to each 10Q report for that ticker.\n",
    "\n",
    "|## Initial Imports"
   ]
  },
  {
   "cell_type": "code",
   "execution_count": 1,
   "id": "710f7dcb-e82f-4583-a178-baa8d00fb96a",
   "metadata": {},
   "outputs": [],
   "source": [
    "from datetime import datetime\n",
    "import pandas as pd\n",
    "import os"
   ]
  },
  {
   "cell_type": "markdown",
   "id": "850f5bd9-47e5-4495-9e2d-61a76715ef9b",
   "metadata": {},
   "source": [
    "## Dropping Unnecessary Rows"
   ]
  },
  {
   "cell_type": "code",
   "execution_count": 2,
   "id": "36f656dd-eb22-409a-90b2-c6317789af24",
   "metadata": {},
   "outputs": [
    {
     "name": "stderr",
     "output_type": "stream",
     "text": [
      "C:\\Users\\Raffy\\AppData\\Local\\Temp\\ipykernel_26320\\1282656328.py:1: DtypeWarning: Columns (10) have mixed types. Specify dtype option on import or set low_memory=False.\n",
      "  df_10qs = pd.read_csv('../data/all_10qs.csv')\n"
     ]
    },
    {
     "data": {
      "text/html": [
       "<div>\n",
       "<style scoped>\n",
       "    .dataframe tbody tr th:only-of-type {\n",
       "        vertical-align: middle;\n",
       "    }\n",
       "\n",
       "    .dataframe tbody tr th {\n",
       "        vertical-align: top;\n",
       "    }\n",
       "\n",
       "    .dataframe thead th {\n",
       "        text-align: right;\n",
       "    }\n",
       "</style>\n",
       "<table border=\"1\" class=\"dataframe\">\n",
       "  <thead>\n",
       "    <tr style=\"text-align: right;\">\n",
       "      <th></th>\n",
       "      <th>ticker</th>\n",
       "      <th>exchange</th>\n",
       "      <th>accession_number</th>\n",
       "      <th>filing_date</th>\n",
       "      <th>report_date</th>\n",
       "      <th>acceptance_datetime</th>\n",
       "      <th>act</th>\n",
       "      <th>form</th>\n",
       "      <th>file_number</th>\n",
       "      <th>film_number</th>\n",
       "      <th>...</th>\n",
       "      <th>size</th>\n",
       "      <th>primary_document</th>\n",
       "      <th>is_XBRL</th>\n",
       "      <th>is_inline_XBRL</th>\n",
       "      <th>primary_doc_description</th>\n",
       "      <th>source</th>\n",
       "      <th>has_multi_ticker</th>\n",
       "      <th>has_multi_exchange</th>\n",
       "      <th>all_submissions_line_number</th>\n",
       "      <th>report_url</th>\n",
       "    </tr>\n",
       "  </thead>\n",
       "  <tbody>\n",
       "    <tr>\n",
       "      <th>0</th>\n",
       "      <td>CVCY</td>\n",
       "      <td>Nasdaq</td>\n",
       "      <td>0001628280-24-023222</td>\n",
       "      <td>2024-05-14</td>\n",
       "      <td>2024-03-31</td>\n",
       "      <td>2024-05-14T16:19:29.000Z</td>\n",
       "      <td>34.0</td>\n",
       "      <td>10-Q</td>\n",
       "      <td>000-31977</td>\n",
       "      <td>24944655.0</td>\n",
       "      <td>...</td>\n",
       "      <td>12967977</td>\n",
       "      <td>cvcy-20240331.htm</td>\n",
       "      <td>1</td>\n",
       "      <td>1</td>\n",
       "      <td>10-Q</td>\n",
       "      <td>https://data.sec.gov/submissions/CIK0001127371...</td>\n",
       "      <td>0</td>\n",
       "      <td>0</td>\n",
       "      <td>1</td>\n",
       "      <td>https://www.sec.gov/Archives/edgar/data/112737...</td>\n",
       "    </tr>\n",
       "    <tr>\n",
       "      <th>1</th>\n",
       "      <td>CVCY</td>\n",
       "      <td>Nasdaq</td>\n",
       "      <td>0001127371-23-000152</td>\n",
       "      <td>2023-11-02</td>\n",
       "      <td>2023-09-30</td>\n",
       "      <td>2023-11-02T14:38:44.000Z</td>\n",
       "      <td>34.0</td>\n",
       "      <td>10-Q</td>\n",
       "      <td>000-31977</td>\n",
       "      <td>231371534.0</td>\n",
       "      <td>...</td>\n",
       "      <td>12864003</td>\n",
       "      <td>cvcy-20230930.htm</td>\n",
       "      <td>1</td>\n",
       "      <td>1</td>\n",
       "      <td>10-Q</td>\n",
       "      <td>https://data.sec.gov/submissions/CIK0001127371...</td>\n",
       "      <td>0</td>\n",
       "      <td>0</td>\n",
       "      <td>1</td>\n",
       "      <td>https://www.sec.gov/Archives/edgar/data/112737...</td>\n",
       "    </tr>\n",
       "    <tr>\n",
       "      <th>2</th>\n",
       "      <td>CVCY</td>\n",
       "      <td>Nasdaq</td>\n",
       "      <td>0001127371-23-000128</td>\n",
       "      <td>2023-08-03</td>\n",
       "      <td>2023-06-30</td>\n",
       "      <td>2023-08-03T16:56:00.000Z</td>\n",
       "      <td>34.0</td>\n",
       "      <td>10-Q</td>\n",
       "      <td>000-31977</td>\n",
       "      <td>231140967.0</td>\n",
       "      <td>...</td>\n",
       "      <td>12459205</td>\n",
       "      <td>cvcy-20230630.htm</td>\n",
       "      <td>1</td>\n",
       "      <td>1</td>\n",
       "      <td>10-Q</td>\n",
       "      <td>https://data.sec.gov/submissions/CIK0001127371...</td>\n",
       "      <td>0</td>\n",
       "      <td>0</td>\n",
       "      <td>1</td>\n",
       "      <td>https://www.sec.gov/Archives/edgar/data/112737...</td>\n",
       "    </tr>\n",
       "    <tr>\n",
       "      <th>3</th>\n",
       "      <td>CVCY</td>\n",
       "      <td>Nasdaq</td>\n",
       "      <td>0001127371-23-000072</td>\n",
       "      <td>2023-05-15</td>\n",
       "      <td>2023-03-31</td>\n",
       "      <td>2023-05-12T18:46:16.000Z</td>\n",
       "      <td>34.0</td>\n",
       "      <td>10-Q</td>\n",
       "      <td>000-31977</td>\n",
       "      <td>23917689.0</td>\n",
       "      <td>...</td>\n",
       "      <td>12111169</td>\n",
       "      <td>cvcy-20230331.htm</td>\n",
       "      <td>1</td>\n",
       "      <td>1</td>\n",
       "      <td>10-Q</td>\n",
       "      <td>https://data.sec.gov/submissions/CIK0001127371...</td>\n",
       "      <td>0</td>\n",
       "      <td>0</td>\n",
       "      <td>1</td>\n",
       "      <td>https://www.sec.gov/Archives/edgar/data/112737...</td>\n",
       "    </tr>\n",
       "    <tr>\n",
       "      <th>4</th>\n",
       "      <td>CVCY</td>\n",
       "      <td>Nasdaq</td>\n",
       "      <td>0001127371-22-000167</td>\n",
       "      <td>2022-11-02</td>\n",
       "      <td>2022-09-30</td>\n",
       "      <td>2022-11-02T13:29:11.000Z</td>\n",
       "      <td>34.0</td>\n",
       "      <td>10-Q</td>\n",
       "      <td>000-31977</td>\n",
       "      <td>221353223.0</td>\n",
       "      <td>...</td>\n",
       "      <td>13954236</td>\n",
       "      <td>cvcy-20220930.htm</td>\n",
       "      <td>1</td>\n",
       "      <td>1</td>\n",
       "      <td>10-Q</td>\n",
       "      <td>https://data.sec.gov/submissions/CIK0001127371...</td>\n",
       "      <td>0</td>\n",
       "      <td>0</td>\n",
       "      <td>1</td>\n",
       "      <td>https://www.sec.gov/Archives/edgar/data/112737...</td>\n",
       "    </tr>\n",
       "  </tbody>\n",
       "</table>\n",
       "<p>5 rows × 21 columns</p>\n",
       "</div>"
      ],
      "text/plain": [
       "  ticker exchange      accession_number filing_date report_date  \\\n",
       "0   CVCY   Nasdaq  0001628280-24-023222  2024-05-14  2024-03-31   \n",
       "1   CVCY   Nasdaq  0001127371-23-000152  2023-11-02  2023-09-30   \n",
       "2   CVCY   Nasdaq  0001127371-23-000128  2023-08-03  2023-06-30   \n",
       "3   CVCY   Nasdaq  0001127371-23-000072  2023-05-15  2023-03-31   \n",
       "4   CVCY   Nasdaq  0001127371-22-000167  2022-11-02  2022-09-30   \n",
       "\n",
       "        acceptance_datetime   act  form file_number  film_number  ...  \\\n",
       "0  2024-05-14T16:19:29.000Z  34.0  10-Q   000-31977   24944655.0  ...   \n",
       "1  2023-11-02T14:38:44.000Z  34.0  10-Q   000-31977  231371534.0  ...   \n",
       "2  2023-08-03T16:56:00.000Z  34.0  10-Q   000-31977  231140967.0  ...   \n",
       "3  2023-05-12T18:46:16.000Z  34.0  10-Q   000-31977   23917689.0  ...   \n",
       "4  2022-11-02T13:29:11.000Z  34.0  10-Q   000-31977  221353223.0  ...   \n",
       "\n",
       "       size   primary_document is_XBRL  is_inline_XBRL  \\\n",
       "0  12967977  cvcy-20240331.htm       1               1   \n",
       "1  12864003  cvcy-20230930.htm       1               1   \n",
       "2  12459205  cvcy-20230630.htm       1               1   \n",
       "3  12111169  cvcy-20230331.htm       1               1   \n",
       "4  13954236  cvcy-20220930.htm       1               1   \n",
       "\n",
       "   primary_doc_description                                             source  \\\n",
       "0                     10-Q  https://data.sec.gov/submissions/CIK0001127371...   \n",
       "1                     10-Q  https://data.sec.gov/submissions/CIK0001127371...   \n",
       "2                     10-Q  https://data.sec.gov/submissions/CIK0001127371...   \n",
       "3                     10-Q  https://data.sec.gov/submissions/CIK0001127371...   \n",
       "4                     10-Q  https://data.sec.gov/submissions/CIK0001127371...   \n",
       "\n",
       "  has_multi_ticker  has_multi_exchange  all_submissions_line_number  \\\n",
       "0                0                   0                            1   \n",
       "1                0                   0                            1   \n",
       "2                0                   0                            1   \n",
       "3                0                   0                            1   \n",
       "4                0                   0                            1   \n",
       "\n",
       "                                          report_url  \n",
       "0  https://www.sec.gov/Archives/edgar/data/112737...  \n",
       "1  https://www.sec.gov/Archives/edgar/data/112737...  \n",
       "2  https://www.sec.gov/Archives/edgar/data/112737...  \n",
       "3  https://www.sec.gov/Archives/edgar/data/112737...  \n",
       "4  https://www.sec.gov/Archives/edgar/data/112737...  \n",
       "\n",
       "[5 rows x 21 columns]"
      ]
     },
     "execution_count": 2,
     "metadata": {},
     "output_type": "execute_result"
    }
   ],
   "source": [
    "df_10qs = pd.read_csv('../data/all_10qs.csv')\n",
    "# Dropping the original indices of the dataframe, which are the default sequence of 0 through N anyways\n",
    "df_10qs.drop('Unnamed: 0', axis=1, inplace=True)\n",
    "df_10qs.head()"
   ]
  },
  {
   "cell_type": "code",
   "execution_count": 3,
   "id": "43939818-2607-40f3-a15f-91babccd100a",
   "metadata": {},
   "outputs": [
    {
     "data": {
      "text/plain": [
       "(177246, 21)"
      ]
     },
     "execution_count": 3,
     "metadata": {},
     "output_type": "execute_result"
    }
   ],
   "source": [
    "df_10qs.shape"
   ]
  },
  {
   "cell_type": "code",
   "execution_count": 4,
   "id": "53bb4f43-9c39-4814-bb3c-e435fb808ecd",
   "metadata": {},
   "outputs": [
    {
     "data": {
      "text/plain": [
       "(177117, 21)"
      ]
     },
     "execution_count": 4,
     "metadata": {},
     "output_type": "execute_result"
    }
   ],
   "source": [
    "df_10qs.drop_duplicates().shape"
   ]
  },
  {
   "cell_type": "markdown",
   "id": "ba72ee80-adbc-4deb-a5c0-34556f958369",
   "metadata": {},
   "source": [
    "The number of duplicate rows likely caused from when the scraping stopped when the machine went to sleep and I restarted the scrape a few indices prior to the last written index."
   ]
  },
  {
   "cell_type": "code",
   "execution_count": 5,
   "id": "b619ac3e-4f4e-4ec5-aa1f-4c23cc98979a",
   "metadata": {},
   "outputs": [
    {
     "data": {
      "text/plain": [
       "'129 duplicate rows to be dropped'"
      ]
     },
     "execution_count": 5,
     "metadata": {},
     "output_type": "execute_result"
    }
   ],
   "source": [
    "f\"{df_10qs.shape[0] - df_10qs.drop_duplicates().shape[0]} duplicate rows to be dropped\""
   ]
  },
  {
   "cell_type": "markdown",
   "id": "3c6c40f2-b060-4a76-8386-319bc345088b",
   "metadata": {},
   "source": [
    "Dropping the duplicate values and resetting the index."
   ]
  },
  {
   "cell_type": "code",
   "execution_count": 6,
   "id": "5bd96b7a-5375-47e3-9431-8a9747e3c370",
   "metadata": {},
   "outputs": [
    {
     "data": {
      "text/plain": [
       "(177117, 21)"
      ]
     },
     "execution_count": 6,
     "metadata": {},
     "output_type": "execute_result"
    }
   ],
   "source": [
    "df_10qs.drop_duplicates(inplace=True)\n",
    "df_10qs.reset_index(drop=True, inplace=True)\n",
    "df_10qs.shape"
   ]
  },
  {
   "cell_type": "markdown",
   "id": "c67ad48a-555d-423a-96dd-66c43d44aeb9",
   "metadata": {},
   "source": [
    "Accession number and Primary Document are required to be able to successfully build the report url, so I will drop any values that have null values for those two columns."
   ]
  },
  {
   "cell_type": "code",
   "execution_count": 7,
   "id": "1f543dc9-0a69-4065-ba35-3a8899117518",
   "metadata": {},
   "outputs": [
    {
     "data": {
      "text/plain": [
       "(173402, 21)"
      ]
     },
     "execution_count": 7,
     "metadata": {},
     "output_type": "execute_result"
    }
   ],
   "source": [
    "df_10qs.dropna(subset=['accession_number', 'primary_document'], inplace=False).shape"
   ]
  },
  {
   "cell_type": "code",
   "execution_count": 8,
   "id": "1c4fe5bc-91c9-4775-881d-ca3693d0e9e4",
   "metadata": {},
   "outputs": [
    {
     "data": {
      "text/plain": [
       "'3715 rows with null values for accession_number and/or primary_document columns'"
      ]
     },
     "execution_count": 8,
     "metadata": {},
     "output_type": "execute_result"
    }
   ],
   "source": [
    "f\"{df_10qs.shape[0] - df_10qs.dropna(subset=['accession_number', 'primary_document'], inplace=False).shape[0]} rows with null values for accession_number and/or primary_document columns\""
   ]
  },
  {
   "cell_type": "code",
   "execution_count": 9,
   "id": "9836ef2c-61e8-46a9-a536-f0306221b162",
   "metadata": {},
   "outputs": [
    {
     "data": {
      "text/plain": [
       "(173402, 21)"
      ]
     },
     "execution_count": 9,
     "metadata": {},
     "output_type": "execute_result"
    }
   ],
   "source": [
    "df_10qs.dropna(subset=['accession_number', 'primary_document'], inplace=True)\n",
    "df_10qs.reset_index(drop=True, inplace=True)\n",
    "df_10qs.shape"
   ]
  },
  {
   "cell_type": "markdown",
   "id": "3cc14a8e-5497-45f3-8693-f04a4fec7042",
   "metadata": {},
   "source": [
    "## Data Types\n",
    "Now let us spend some time ensuring the quality of the datatypes of each column in our dataframe."
   ]
  },
  {
   "cell_type": "code",
   "execution_count": 10,
   "id": "181f174e-17d2-424c-bd9c-76d6e9fa2836",
   "metadata": {},
   "outputs": [
    {
     "data": {
      "text/html": [
       "<div>\n",
       "<style scoped>\n",
       "    .dataframe tbody tr th:only-of-type {\n",
       "        vertical-align: middle;\n",
       "    }\n",
       "\n",
       "    .dataframe tbody tr th {\n",
       "        vertical-align: top;\n",
       "    }\n",
       "\n",
       "    .dataframe thead th {\n",
       "        text-align: right;\n",
       "    }\n",
       "</style>\n",
       "<table border=\"1\" class=\"dataframe\">\n",
       "  <thead>\n",
       "    <tr style=\"text-align: right;\">\n",
       "      <th></th>\n",
       "      <th>ticker</th>\n",
       "      <th>exchange</th>\n",
       "      <th>accession_number</th>\n",
       "      <th>filing_date</th>\n",
       "      <th>report_date</th>\n",
       "      <th>acceptance_datetime</th>\n",
       "      <th>act</th>\n",
       "      <th>form</th>\n",
       "      <th>file_number</th>\n",
       "      <th>film_number</th>\n",
       "      <th>...</th>\n",
       "      <th>size</th>\n",
       "      <th>primary_document</th>\n",
       "      <th>is_XBRL</th>\n",
       "      <th>is_inline_XBRL</th>\n",
       "      <th>primary_doc_description</th>\n",
       "      <th>source</th>\n",
       "      <th>has_multi_ticker</th>\n",
       "      <th>has_multi_exchange</th>\n",
       "      <th>all_submissions_line_number</th>\n",
       "      <th>report_url</th>\n",
       "    </tr>\n",
       "  </thead>\n",
       "  <tbody>\n",
       "    <tr>\n",
       "      <th>0</th>\n",
       "      <td>CVCY</td>\n",
       "      <td>Nasdaq</td>\n",
       "      <td>0001628280-24-023222</td>\n",
       "      <td>2024-05-14</td>\n",
       "      <td>2024-03-31</td>\n",
       "      <td>2024-05-14T16:19:29.000Z</td>\n",
       "      <td>34.0</td>\n",
       "      <td>10-Q</td>\n",
       "      <td>000-31977</td>\n",
       "      <td>24944655.0</td>\n",
       "      <td>...</td>\n",
       "      <td>12967977</td>\n",
       "      <td>cvcy-20240331.htm</td>\n",
       "      <td>1</td>\n",
       "      <td>1</td>\n",
       "      <td>10-Q</td>\n",
       "      <td>https://data.sec.gov/submissions/CIK0001127371...</td>\n",
       "      <td>0</td>\n",
       "      <td>0</td>\n",
       "      <td>1</td>\n",
       "      <td>https://www.sec.gov/Archives/edgar/data/112737...</td>\n",
       "    </tr>\n",
       "    <tr>\n",
       "      <th>1</th>\n",
       "      <td>CVCY</td>\n",
       "      <td>Nasdaq</td>\n",
       "      <td>0001127371-23-000152</td>\n",
       "      <td>2023-11-02</td>\n",
       "      <td>2023-09-30</td>\n",
       "      <td>2023-11-02T14:38:44.000Z</td>\n",
       "      <td>34.0</td>\n",
       "      <td>10-Q</td>\n",
       "      <td>000-31977</td>\n",
       "      <td>231371534.0</td>\n",
       "      <td>...</td>\n",
       "      <td>12864003</td>\n",
       "      <td>cvcy-20230930.htm</td>\n",
       "      <td>1</td>\n",
       "      <td>1</td>\n",
       "      <td>10-Q</td>\n",
       "      <td>https://data.sec.gov/submissions/CIK0001127371...</td>\n",
       "      <td>0</td>\n",
       "      <td>0</td>\n",
       "      <td>1</td>\n",
       "      <td>https://www.sec.gov/Archives/edgar/data/112737...</td>\n",
       "    </tr>\n",
       "    <tr>\n",
       "      <th>2</th>\n",
       "      <td>CVCY</td>\n",
       "      <td>Nasdaq</td>\n",
       "      <td>0001127371-23-000128</td>\n",
       "      <td>2023-08-03</td>\n",
       "      <td>2023-06-30</td>\n",
       "      <td>2023-08-03T16:56:00.000Z</td>\n",
       "      <td>34.0</td>\n",
       "      <td>10-Q</td>\n",
       "      <td>000-31977</td>\n",
       "      <td>231140967.0</td>\n",
       "      <td>...</td>\n",
       "      <td>12459205</td>\n",
       "      <td>cvcy-20230630.htm</td>\n",
       "      <td>1</td>\n",
       "      <td>1</td>\n",
       "      <td>10-Q</td>\n",
       "      <td>https://data.sec.gov/submissions/CIK0001127371...</td>\n",
       "      <td>0</td>\n",
       "      <td>0</td>\n",
       "      <td>1</td>\n",
       "      <td>https://www.sec.gov/Archives/edgar/data/112737...</td>\n",
       "    </tr>\n",
       "    <tr>\n",
       "      <th>3</th>\n",
       "      <td>CVCY</td>\n",
       "      <td>Nasdaq</td>\n",
       "      <td>0001127371-23-000072</td>\n",
       "      <td>2023-05-15</td>\n",
       "      <td>2023-03-31</td>\n",
       "      <td>2023-05-12T18:46:16.000Z</td>\n",
       "      <td>34.0</td>\n",
       "      <td>10-Q</td>\n",
       "      <td>000-31977</td>\n",
       "      <td>23917689.0</td>\n",
       "      <td>...</td>\n",
       "      <td>12111169</td>\n",
       "      <td>cvcy-20230331.htm</td>\n",
       "      <td>1</td>\n",
       "      <td>1</td>\n",
       "      <td>10-Q</td>\n",
       "      <td>https://data.sec.gov/submissions/CIK0001127371...</td>\n",
       "      <td>0</td>\n",
       "      <td>0</td>\n",
       "      <td>1</td>\n",
       "      <td>https://www.sec.gov/Archives/edgar/data/112737...</td>\n",
       "    </tr>\n",
       "    <tr>\n",
       "      <th>4</th>\n",
       "      <td>CVCY</td>\n",
       "      <td>Nasdaq</td>\n",
       "      <td>0001127371-22-000167</td>\n",
       "      <td>2022-11-02</td>\n",
       "      <td>2022-09-30</td>\n",
       "      <td>2022-11-02T13:29:11.000Z</td>\n",
       "      <td>34.0</td>\n",
       "      <td>10-Q</td>\n",
       "      <td>000-31977</td>\n",
       "      <td>221353223.0</td>\n",
       "      <td>...</td>\n",
       "      <td>13954236</td>\n",
       "      <td>cvcy-20220930.htm</td>\n",
       "      <td>1</td>\n",
       "      <td>1</td>\n",
       "      <td>10-Q</td>\n",
       "      <td>https://data.sec.gov/submissions/CIK0001127371...</td>\n",
       "      <td>0</td>\n",
       "      <td>0</td>\n",
       "      <td>1</td>\n",
       "      <td>https://www.sec.gov/Archives/edgar/data/112737...</td>\n",
       "    </tr>\n",
       "  </tbody>\n",
       "</table>\n",
       "<p>5 rows × 21 columns</p>\n",
       "</div>"
      ],
      "text/plain": [
       "  ticker exchange      accession_number filing_date report_date  \\\n",
       "0   CVCY   Nasdaq  0001628280-24-023222  2024-05-14  2024-03-31   \n",
       "1   CVCY   Nasdaq  0001127371-23-000152  2023-11-02  2023-09-30   \n",
       "2   CVCY   Nasdaq  0001127371-23-000128  2023-08-03  2023-06-30   \n",
       "3   CVCY   Nasdaq  0001127371-23-000072  2023-05-15  2023-03-31   \n",
       "4   CVCY   Nasdaq  0001127371-22-000167  2022-11-02  2022-09-30   \n",
       "\n",
       "        acceptance_datetime   act  form file_number  film_number  ...  \\\n",
       "0  2024-05-14T16:19:29.000Z  34.0  10-Q   000-31977   24944655.0  ...   \n",
       "1  2023-11-02T14:38:44.000Z  34.0  10-Q   000-31977  231371534.0  ...   \n",
       "2  2023-08-03T16:56:00.000Z  34.0  10-Q   000-31977  231140967.0  ...   \n",
       "3  2023-05-12T18:46:16.000Z  34.0  10-Q   000-31977   23917689.0  ...   \n",
       "4  2022-11-02T13:29:11.000Z  34.0  10-Q   000-31977  221353223.0  ...   \n",
       "\n",
       "       size   primary_document is_XBRL  is_inline_XBRL  \\\n",
       "0  12967977  cvcy-20240331.htm       1               1   \n",
       "1  12864003  cvcy-20230930.htm       1               1   \n",
       "2  12459205  cvcy-20230630.htm       1               1   \n",
       "3  12111169  cvcy-20230331.htm       1               1   \n",
       "4  13954236  cvcy-20220930.htm       1               1   \n",
       "\n",
       "   primary_doc_description                                             source  \\\n",
       "0                     10-Q  https://data.sec.gov/submissions/CIK0001127371...   \n",
       "1                     10-Q  https://data.sec.gov/submissions/CIK0001127371...   \n",
       "2                     10-Q  https://data.sec.gov/submissions/CIK0001127371...   \n",
       "3                     10-Q  https://data.sec.gov/submissions/CIK0001127371...   \n",
       "4                     10-Q  https://data.sec.gov/submissions/CIK0001127371...   \n",
       "\n",
       "  has_multi_ticker  has_multi_exchange  all_submissions_line_number  \\\n",
       "0                0                   0                            1   \n",
       "1                0                   0                            1   \n",
       "2                0                   0                            1   \n",
       "3                0                   0                            1   \n",
       "4                0                   0                            1   \n",
       "\n",
       "                                          report_url  \n",
       "0  https://www.sec.gov/Archives/edgar/data/112737...  \n",
       "1  https://www.sec.gov/Archives/edgar/data/112737...  \n",
       "2  https://www.sec.gov/Archives/edgar/data/112737...  \n",
       "3  https://www.sec.gov/Archives/edgar/data/112737...  \n",
       "4  https://www.sec.gov/Archives/edgar/data/112737...  \n",
       "\n",
       "[5 rows x 21 columns]"
      ]
     },
     "execution_count": 10,
     "metadata": {},
     "output_type": "execute_result"
    }
   ],
   "source": [
    "df_10qs.head()"
   ]
  },
  {
   "cell_type": "code",
   "execution_count": 11,
   "id": "33713fb7-37f2-4168-8ef4-4c623168f69a",
   "metadata": {},
   "outputs": [
    {
     "data": {
      "text/plain": [
       "ticker                          object\n",
       "exchange                        object\n",
       "accession_number                object\n",
       "filing_date                     object\n",
       "report_date                     object\n",
       "acceptance_datetime             object\n",
       "act                            float64\n",
       "form                            object\n",
       "file_number                     object\n",
       "film_number                     object\n",
       "items                          float64\n",
       "size                             int64\n",
       "primary_document                object\n",
       "is_XBRL                          int64\n",
       "is_inline_XBRL                   int64\n",
       "primary_doc_description         object\n",
       "source                          object\n",
       "has_multi_ticker                 int64\n",
       "has_multi_exchange               int64\n",
       "all_submissions_line_number      int64\n",
       "report_url                      object\n",
       "dtype: object"
      ]
     },
     "execution_count": 11,
     "metadata": {},
     "output_type": "execute_result"
    }
   ],
   "source": [
    "df_10qs.dtypes"
   ]
  },
  {
   "cell_type": "markdown",
   "id": "0c1d14d7-dbe0-43bb-a10f-6982d3a9fe6e",
   "metadata": {},
   "source": [
    "### Dates"
   ]
  },
  {
   "cell_type": "code",
   "execution_count": 12,
   "id": "2a9d01b2-b8e2-4356-aafb-9b14dd12311c",
   "metadata": {},
   "outputs": [],
   "source": [
    "def column_as_datetime(df, column_name):\n",
    "    df[column_name] = pd.to_datetime(df[column_name])"
   ]
  },
  {
   "cell_type": "code",
   "execution_count": 13,
   "id": "0e5a4bc8-dbf5-43ce-b323-9bb242978d9a",
   "metadata": {
    "scrolled": true
   },
   "outputs": [
    {
     "data": {
      "text/plain": [
       "ticker                                      object\n",
       "exchange                                    object\n",
       "accession_number                            object\n",
       "filing_date                         datetime64[ns]\n",
       "report_date                         datetime64[ns]\n",
       "acceptance_datetime            datetime64[ns, UTC]\n",
       "act                                        float64\n",
       "form                                        object\n",
       "file_number                                 object\n",
       "film_number                                 object\n",
       "items                                      float64\n",
       "size                                         int64\n",
       "primary_document                            object\n",
       "is_XBRL                                      int64\n",
       "is_inline_XBRL                               int64\n",
       "primary_doc_description                     object\n",
       "source                                      object\n",
       "has_multi_ticker                             int64\n",
       "has_multi_exchange                           int64\n",
       "all_submissions_line_number                  int64\n",
       "report_url                                  object\n",
       "dtype: object"
      ]
     },
     "execution_count": 13,
     "metadata": {},
     "output_type": "execute_result"
    }
   ],
   "source": [
    "column_as_datetime(df_10qs, 'filing_date')\n",
    "column_as_datetime(df_10qs, 'report_date')\n",
    "column_as_datetime(df_10qs, 'acceptance_datetime')\n",
    "df_10qs.dtypes"
   ]
  },
  {
   "cell_type": "markdown",
   "id": "314e1e55-8819-4833-a0d9-020fbcd5ba4d",
   "metadata": {},
   "source": [
    "### Numeric Data"
   ]
  },
  {
   "cell_type": "code",
   "execution_count": 14,
   "id": "bfc830de-7a46-4692-9826-04ac4894cdbe",
   "metadata": {},
   "outputs": [
    {
     "data": {
      "text/html": [
       "<div>\n",
       "<style scoped>\n",
       "    .dataframe tbody tr th:only-of-type {\n",
       "        vertical-align: middle;\n",
       "    }\n",
       "\n",
       "    .dataframe tbody tr th {\n",
       "        vertical-align: top;\n",
       "    }\n",
       "\n",
       "    .dataframe thead th {\n",
       "        text-align: right;\n",
       "    }\n",
       "</style>\n",
       "<table border=\"1\" class=\"dataframe\">\n",
       "  <thead>\n",
       "    <tr style=\"text-align: right;\">\n",
       "      <th></th>\n",
       "      <th>act</th>\n",
       "      <th>items</th>\n",
       "      <th>size</th>\n",
       "      <th>is_XBRL</th>\n",
       "      <th>is_inline_XBRL</th>\n",
       "      <th>has_multi_ticker</th>\n",
       "      <th>has_multi_exchange</th>\n",
       "      <th>all_submissions_line_number</th>\n",
       "    </tr>\n",
       "  </thead>\n",
       "  <tbody>\n",
       "    <tr>\n",
       "      <th>0</th>\n",
       "      <td>34.0</td>\n",
       "      <td>NaN</td>\n",
       "      <td>12967977</td>\n",
       "      <td>1</td>\n",
       "      <td>1</td>\n",
       "      <td>0</td>\n",
       "      <td>0</td>\n",
       "      <td>1</td>\n",
       "    </tr>\n",
       "    <tr>\n",
       "      <th>1</th>\n",
       "      <td>34.0</td>\n",
       "      <td>NaN</td>\n",
       "      <td>12864003</td>\n",
       "      <td>1</td>\n",
       "      <td>1</td>\n",
       "      <td>0</td>\n",
       "      <td>0</td>\n",
       "      <td>1</td>\n",
       "    </tr>\n",
       "    <tr>\n",
       "      <th>2</th>\n",
       "      <td>34.0</td>\n",
       "      <td>NaN</td>\n",
       "      <td>12459205</td>\n",
       "      <td>1</td>\n",
       "      <td>1</td>\n",
       "      <td>0</td>\n",
       "      <td>0</td>\n",
       "      <td>1</td>\n",
       "    </tr>\n",
       "    <tr>\n",
       "      <th>3</th>\n",
       "      <td>34.0</td>\n",
       "      <td>NaN</td>\n",
       "      <td>12111169</td>\n",
       "      <td>1</td>\n",
       "      <td>1</td>\n",
       "      <td>0</td>\n",
       "      <td>0</td>\n",
       "      <td>1</td>\n",
       "    </tr>\n",
       "    <tr>\n",
       "      <th>4</th>\n",
       "      <td>34.0</td>\n",
       "      <td>NaN</td>\n",
       "      <td>13954236</td>\n",
       "      <td>1</td>\n",
       "      <td>1</td>\n",
       "      <td>0</td>\n",
       "      <td>0</td>\n",
       "      <td>1</td>\n",
       "    </tr>\n",
       "  </tbody>\n",
       "</table>\n",
       "</div>"
      ],
      "text/plain": [
       "    act  items      size  is_XBRL  is_inline_XBRL  has_multi_ticker  \\\n",
       "0  34.0    NaN  12967977        1               1                 0   \n",
       "1  34.0    NaN  12864003        1               1                 0   \n",
       "2  34.0    NaN  12459205        1               1                 0   \n",
       "3  34.0    NaN  12111169        1               1                 0   \n",
       "4  34.0    NaN  13954236        1               1                 0   \n",
       "\n",
       "   has_multi_exchange  all_submissions_line_number  \n",
       "0                   0                            1  \n",
       "1                   0                            1  \n",
       "2                   0                            1  \n",
       "3                   0                            1  \n",
       "4                   0                            1  "
      ]
     },
     "execution_count": 14,
     "metadata": {},
     "output_type": "execute_result"
    }
   ],
   "source": [
    "df_10qs[['act', 'items', 'size', 'is_XBRL', 'is_inline_XBRL', 'has_multi_ticker', 'has_multi_exchange', 'all_submissions_line_number']].head()"
   ]
  },
  {
   "cell_type": "markdown",
   "id": "bf2369c9-1aee-4410-ab86-1ab2045e0052",
   "metadata": {},
   "source": [
    "#### ACT Column"
   ]
  },
  {
   "cell_type": "code",
   "execution_count": 15,
   "id": "bb943d1a-afe9-47e2-889a-c3ecd2e86b94",
   "metadata": {},
   "outputs": [
    {
     "data": {
      "text/plain": [
       "act\n",
       "34.0    168916\n",
       "NaN       4486\n",
       "Name: count, dtype: int64"
      ]
     },
     "execution_count": 15,
     "metadata": {},
     "output_type": "execute_result"
    }
   ],
   "source": [
    "df_10qs['act'].value_counts(dropna=False)"
   ]
  },
  {
   "cell_type": "markdown",
   "id": "0016ef7b-8ab4-4728-adb4-cd1fb7fd9949",
   "metadata": {},
   "source": [
    "There may be value derived from reports that have a null act value versus an act value of 34. In that case, I will decide to keep this column."
   ]
  },
  {
   "cell_type": "markdown",
   "id": "10f28aa6-c6f7-4a67-9d81-f78cb2f862c3",
   "metadata": {},
   "source": [
    "#### Items Column"
   ]
  },
  {
   "cell_type": "code",
   "execution_count": 16,
   "id": "536eba7c-f203-4a51-be2d-7501c664bc19",
   "metadata": {},
   "outputs": [
    {
     "data": {
      "text/plain": [
       "items\n",
       "NaN    173402\n",
       "Name: count, dtype: int64"
      ]
     },
     "execution_count": 16,
     "metadata": {},
     "output_type": "execute_result"
    }
   ],
   "source": [
    "df_10qs['items'].value_counts(dropna=False)"
   ]
  },
  {
   "cell_type": "markdown",
   "id": "d9304ff8-d48d-46f1-b0d0-5c928774804c",
   "metadata": {},
   "source": [
    "Since the `items` column is completely null, then we can drop this column."
   ]
  },
  {
   "cell_type": "code",
   "execution_count": 17,
   "id": "8bdcf40f-9486-4ea8-9b00-d5a2e246b9db",
   "metadata": {},
   "outputs": [
    {
     "data": {
      "text/plain": [
       "(173402, 20)"
      ]
     },
     "execution_count": 17,
     "metadata": {},
     "output_type": "execute_result"
    }
   ],
   "source": [
    "df_10qs.drop(columns=['items'], inplace=True)\n",
    "df_10qs.shape"
   ]
  },
  {
   "cell_type": "markdown",
   "id": "3624a59e-625a-4778-bde7-ddc0458baad8",
   "metadata": {},
   "source": [
    "#### Size Column"
   ]
  },
  {
   "cell_type": "code",
   "execution_count": 18,
   "id": "4a19532f-c093-4839-9b8d-0ac8dc9ef185",
   "metadata": {},
   "outputs": [
    {
     "data": {
      "text/plain": [
       "size\n",
       "54816451    6\n",
       "57148214    6\n",
       "71624934    6\n",
       "76165528    6\n",
       "65073230    6\n",
       "           ..\n",
       "13206832    1\n",
       "12587393    1\n",
       "11076350    1\n",
       "14728325    1\n",
       "131161      1\n",
       "Name: count, Length: 158251, dtype: int64"
      ]
     },
     "execution_count": 18,
     "metadata": {},
     "output_type": "execute_result"
    }
   ],
   "source": [
    "df_10qs['size'].value_counts(dropna=False)"
   ]
  },
  {
   "cell_type": "markdown",
   "id": "c890c3b5-6de8-4709-9878-7fde9677ce76",
   "metadata": {},
   "source": [
    "#### Is_XBRL Column"
   ]
  },
  {
   "cell_type": "code",
   "execution_count": 19,
   "id": "032a9e4b-5314-4e5a-9387-6c2b0a4d1850",
   "metadata": {},
   "outputs": [
    {
     "data": {
      "text/plain": [
       "is_XBRL\n",
       "1    143795\n",
       "0     29607\n",
       "Name: count, dtype: int64"
      ]
     },
     "execution_count": 19,
     "metadata": {},
     "output_type": "execute_result"
    }
   ],
   "source": [
    "df_10qs['is_XBRL'].value_counts(dropna=False)"
   ]
  },
  {
   "cell_type": "markdown",
   "id": "e53080ab-95c0-4451-9860-129983409540",
   "metadata": {},
   "source": [
    "#### Is_Inline_XBRL Column"
   ]
  },
  {
   "cell_type": "code",
   "execution_count": 20,
   "id": "39ee9948-363f-479d-b6a5-ec17c54a7ec4",
   "metadata": {},
   "outputs": [
    {
     "data": {
      "text/plain": [
       "is_inline_XBRL\n",
       "0    110087\n",
       "1     63315\n",
       "Name: count, dtype: int64"
      ]
     },
     "execution_count": 20,
     "metadata": {},
     "output_type": "execute_result"
    }
   ],
   "source": [
    "df_10qs['is_inline_XBRL'].value_counts(dropna=False)"
   ]
  },
  {
   "cell_type": "markdown",
   "id": "006a7051-c43b-4c0d-8435-f90d0b7004fd",
   "metadata": {},
   "source": [
    "#### Has_Multi_Ticker Column"
   ]
  },
  {
   "cell_type": "code",
   "execution_count": 21,
   "id": "ad64dde3-4f41-42b0-9170-ba5e31deee05",
   "metadata": {},
   "outputs": [
    {
     "data": {
      "text/plain": [
       "has_multi_ticker\n",
       "0    152596\n",
       "1     20806\n",
       "Name: count, dtype: int64"
      ]
     },
     "execution_count": 21,
     "metadata": {},
     "output_type": "execute_result"
    }
   ],
   "source": [
    "df_10qs['has_multi_ticker'].value_counts(dropna=False)"
   ]
  },
  {
   "cell_type": "markdown",
   "id": "3fd32ec9-3cc7-4070-8eb1-5986dc62f8c6",
   "metadata": {},
   "source": [
    "#### Has_Multi_Exchange Column"
   ]
  },
  {
   "cell_type": "code",
   "execution_count": 22,
   "id": "aa9379b8-43de-4a63-99fe-765b20795712",
   "metadata": {},
   "outputs": [
    {
     "data": {
      "text/plain": [
       "has_multi_exchange\n",
       "0    152596\n",
       "1     20806\n",
       "Name: count, dtype: int64"
      ]
     },
     "execution_count": 22,
     "metadata": {},
     "output_type": "execute_result"
    }
   ],
   "source": [
    "df_10qs['has_multi_exchange'].value_counts(dropna=False)"
   ]
  },
  {
   "cell_type": "markdown",
   "id": "7efb3f08-79c0-43bf-8ee2-b15f084878b6",
   "metadata": {},
   "source": [
    "#### All_Submission_Line_Number Column"
   ]
  },
  {
   "cell_type": "code",
   "execution_count": 23,
   "id": "99678f53-9305-46fe-878e-5843aad7268f",
   "metadata": {},
   "outputs": [
    {
     "data": {
      "text/plain": [
       "all_submissions_line_number\n",
       "1952    74\n",
       "7394    74\n",
       "6296    74\n",
       "4595    73\n",
       "2286    73\n",
       "        ..\n",
       "2939     1\n",
       "1472     1\n",
       "4844     1\n",
       "5861     1\n",
       "1923     1\n",
       "Name: count, Length: 5978, dtype: int64"
      ]
     },
     "execution_count": 23,
     "metadata": {},
     "output_type": "execute_result"
    }
   ],
   "source": [
    "df_10qs['all_submissions_line_number'].value_counts(dropna=False)"
   ]
  },
  {
   "cell_type": "markdown",
   "id": "0fc2acc0-1ce7-46c0-8438-4044a8ed9853",
   "metadata": {},
   "source": [
    "### Other Data Types"
   ]
  },
  {
   "cell_type": "code",
   "execution_count": 24,
   "id": "3352b5e3-bb5b-4d83-b13a-ca61a2131d43",
   "metadata": {},
   "outputs": [
    {
     "data": {
      "text/plain": [
       "ticker                                      object\n",
       "exchange                                    object\n",
       "accession_number                            object\n",
       "filing_date                         datetime64[ns]\n",
       "report_date                         datetime64[ns]\n",
       "acceptance_datetime            datetime64[ns, UTC]\n",
       "act                                        float64\n",
       "form                                        object\n",
       "file_number                                 object\n",
       "film_number                                 object\n",
       "size                                         int64\n",
       "primary_document                            object\n",
       "is_XBRL                                      int64\n",
       "is_inline_XBRL                               int64\n",
       "primary_doc_description                     object\n",
       "source                                      object\n",
       "has_multi_ticker                             int64\n",
       "has_multi_exchange                           int64\n",
       "all_submissions_line_number                  int64\n",
       "report_url                                  object\n",
       "dtype: object"
      ]
     },
     "execution_count": 24,
     "metadata": {},
     "output_type": "execute_result"
    }
   ],
   "source": [
    "df_10qs.dtypes"
   ]
  },
  {
   "cell_type": "code",
   "execution_count": 25,
   "id": "b29850c3-ef19-4fba-886c-57b801f8a77e",
   "metadata": {},
   "outputs": [
    {
     "data": {
      "text/html": [
       "<div>\n",
       "<style scoped>\n",
       "    .dataframe tbody tr th:only-of-type {\n",
       "        vertical-align: middle;\n",
       "    }\n",
       "\n",
       "    .dataframe tbody tr th {\n",
       "        vertical-align: top;\n",
       "    }\n",
       "\n",
       "    .dataframe thead th {\n",
       "        text-align: right;\n",
       "    }\n",
       "</style>\n",
       "<table border=\"1\" class=\"dataframe\">\n",
       "  <thead>\n",
       "    <tr style=\"text-align: right;\">\n",
       "      <th></th>\n",
       "      <th>ticker</th>\n",
       "      <th>exchange</th>\n",
       "      <th>accession_number</th>\n",
       "      <th>form</th>\n",
       "      <th>file_number</th>\n",
       "      <th>film_number</th>\n",
       "      <th>primary_document</th>\n",
       "      <th>primary_doc_description</th>\n",
       "      <th>source</th>\n",
       "      <th>report_url</th>\n",
       "    </tr>\n",
       "  </thead>\n",
       "  <tbody>\n",
       "    <tr>\n",
       "      <th>0</th>\n",
       "      <td>CVCY</td>\n",
       "      <td>Nasdaq</td>\n",
       "      <td>0001628280-24-023222</td>\n",
       "      <td>10-Q</td>\n",
       "      <td>000-31977</td>\n",
       "      <td>24944655.0</td>\n",
       "      <td>cvcy-20240331.htm</td>\n",
       "      <td>10-Q</td>\n",
       "      <td>https://data.sec.gov/submissions/CIK0001127371...</td>\n",
       "      <td>https://www.sec.gov/Archives/edgar/data/112737...</td>\n",
       "    </tr>\n",
       "    <tr>\n",
       "      <th>1</th>\n",
       "      <td>CVCY</td>\n",
       "      <td>Nasdaq</td>\n",
       "      <td>0001127371-23-000152</td>\n",
       "      <td>10-Q</td>\n",
       "      <td>000-31977</td>\n",
       "      <td>231371534.0</td>\n",
       "      <td>cvcy-20230930.htm</td>\n",
       "      <td>10-Q</td>\n",
       "      <td>https://data.sec.gov/submissions/CIK0001127371...</td>\n",
       "      <td>https://www.sec.gov/Archives/edgar/data/112737...</td>\n",
       "    </tr>\n",
       "    <tr>\n",
       "      <th>2</th>\n",
       "      <td>CVCY</td>\n",
       "      <td>Nasdaq</td>\n",
       "      <td>0001127371-23-000128</td>\n",
       "      <td>10-Q</td>\n",
       "      <td>000-31977</td>\n",
       "      <td>231140967.0</td>\n",
       "      <td>cvcy-20230630.htm</td>\n",
       "      <td>10-Q</td>\n",
       "      <td>https://data.sec.gov/submissions/CIK0001127371...</td>\n",
       "      <td>https://www.sec.gov/Archives/edgar/data/112737...</td>\n",
       "    </tr>\n",
       "    <tr>\n",
       "      <th>3</th>\n",
       "      <td>CVCY</td>\n",
       "      <td>Nasdaq</td>\n",
       "      <td>0001127371-23-000072</td>\n",
       "      <td>10-Q</td>\n",
       "      <td>000-31977</td>\n",
       "      <td>23917689.0</td>\n",
       "      <td>cvcy-20230331.htm</td>\n",
       "      <td>10-Q</td>\n",
       "      <td>https://data.sec.gov/submissions/CIK0001127371...</td>\n",
       "      <td>https://www.sec.gov/Archives/edgar/data/112737...</td>\n",
       "    </tr>\n",
       "    <tr>\n",
       "      <th>4</th>\n",
       "      <td>CVCY</td>\n",
       "      <td>Nasdaq</td>\n",
       "      <td>0001127371-22-000167</td>\n",
       "      <td>10-Q</td>\n",
       "      <td>000-31977</td>\n",
       "      <td>221353223.0</td>\n",
       "      <td>cvcy-20220930.htm</td>\n",
       "      <td>10-Q</td>\n",
       "      <td>https://data.sec.gov/submissions/CIK0001127371...</td>\n",
       "      <td>https://www.sec.gov/Archives/edgar/data/112737...</td>\n",
       "    </tr>\n",
       "  </tbody>\n",
       "</table>\n",
       "</div>"
      ],
      "text/plain": [
       "  ticker exchange      accession_number  form file_number  film_number  \\\n",
       "0   CVCY   Nasdaq  0001628280-24-023222  10-Q   000-31977   24944655.0   \n",
       "1   CVCY   Nasdaq  0001127371-23-000152  10-Q   000-31977  231371534.0   \n",
       "2   CVCY   Nasdaq  0001127371-23-000128  10-Q   000-31977  231140967.0   \n",
       "3   CVCY   Nasdaq  0001127371-23-000072  10-Q   000-31977   23917689.0   \n",
       "4   CVCY   Nasdaq  0001127371-22-000167  10-Q   000-31977  221353223.0   \n",
       "\n",
       "    primary_document primary_doc_description  \\\n",
       "0  cvcy-20240331.htm                    10-Q   \n",
       "1  cvcy-20230930.htm                    10-Q   \n",
       "2  cvcy-20230630.htm                    10-Q   \n",
       "3  cvcy-20230331.htm                    10-Q   \n",
       "4  cvcy-20220930.htm                    10-Q   \n",
       "\n",
       "                                              source  \\\n",
       "0  https://data.sec.gov/submissions/CIK0001127371...   \n",
       "1  https://data.sec.gov/submissions/CIK0001127371...   \n",
       "2  https://data.sec.gov/submissions/CIK0001127371...   \n",
       "3  https://data.sec.gov/submissions/CIK0001127371...   \n",
       "4  https://data.sec.gov/submissions/CIK0001127371...   \n",
       "\n",
       "                                          report_url  \n",
       "0  https://www.sec.gov/Archives/edgar/data/112737...  \n",
       "1  https://www.sec.gov/Archives/edgar/data/112737...  \n",
       "2  https://www.sec.gov/Archives/edgar/data/112737...  \n",
       "3  https://www.sec.gov/Archives/edgar/data/112737...  \n",
       "4  https://www.sec.gov/Archives/edgar/data/112737...  "
      ]
     },
     "execution_count": 25,
     "metadata": {},
     "output_type": "execute_result"
    }
   ],
   "source": [
    "df_10qs[['ticker', 'exchange', 'accession_number', 'form', 'file_number', 'film_number',\n",
    "         'primary_document', 'primary_doc_description', 'source', 'report_url']].head()"
   ]
  },
  {
   "cell_type": "markdown",
   "id": "a1fc914d-0e09-41b3-b212-fe308b34223b",
   "metadata": {},
   "source": [
    "#### Ticker Column"
   ]
  },
  {
   "cell_type": "code",
   "execution_count": 26,
   "id": "3bb92831-4620-48c4-8cf6-d586dfb0e97e",
   "metadata": {},
   "outputs": [
    {
     "data": {
      "text/plain": [
       "ticker\n",
       "NaN      1040\n",
       "SNFCA     146\n",
       "OCC       144\n",
       "HCKT      144\n",
       "ANIK      144\n",
       "         ... \n",
       "PGY         1\n",
       "MREO        1\n",
       "LICY        1\n",
       "WINS        1\n",
       "ALTM        1\n",
       "Name: count, Length: 5436, dtype: int64"
      ]
     },
     "execution_count": 26,
     "metadata": {},
     "output_type": "execute_result"
    }
   ],
   "source": [
    "df_10qs['ticker'].value_counts(dropna=False)"
   ]
  },
  {
   "cell_type": "markdown",
   "id": "9298805e-9238-4090-b7c6-531e4f046707",
   "metadata": {},
   "source": [
    "#### Exchange Column"
   ]
  },
  {
   "cell_type": "code",
   "execution_count": 27,
   "id": "ea758116-7e55-48dd-a3f5-2e79060e9589",
   "metadata": {},
   "outputs": [
    {
     "data": {
      "text/plain": [
       "exchange\n",
       "Nasdaq    80578\n",
       "NYSE      55244\n",
       "OTC       36439\n",
       "NaN        1088\n",
       "CBOE         53\n",
       "Name: count, dtype: int64"
      ]
     },
     "execution_count": 27,
     "metadata": {},
     "output_type": "execute_result"
    }
   ],
   "source": [
    "df_10qs['exchange'].value_counts(dropna=False)"
   ]
  },
  {
   "cell_type": "markdown",
   "id": "dc1cea00-7a3f-4433-bd4d-b8824d097a2c",
   "metadata": {},
   "source": [
    "#### Accession Number Column"
   ]
  },
  {
   "cell_type": "code",
   "execution_count": 28,
   "id": "aed54324-8fc6-497c-89da-116054253d78",
   "metadata": {},
   "outputs": [
    {
     "data": {
      "text/plain": [
       "accession_number\n",
       "0000065984-22-000129    6\n",
       "0000065984-20-000283    6\n",
       "0000065984-22-000064    6\n",
       "0000065984-18-000132    6\n",
       "0000065984-18-000192    6\n",
       "                       ..\n",
       "0001564590-19-030902    1\n",
       "0001564590-19-018177    1\n",
       "0001564590-18-028647    1\n",
       "0001564590-18-020705    1\n",
       "0001164150-08-000035    1\n",
       "Name: count, Length: 159188, dtype: int64"
      ]
     },
     "execution_count": 28,
     "metadata": {},
     "output_type": "execute_result"
    }
   ],
   "source": [
    "df_10qs['accession_number'].value_counts(dropna=False)"
   ]
  },
  {
   "cell_type": "markdown",
   "id": "9fc945de-5e98-4814-943f-6d1aa003a93d",
   "metadata": {},
   "source": [
    "#### Form Column"
   ]
  },
  {
   "cell_type": "code",
   "execution_count": 29,
   "id": "525005e3-b8e6-4bae-80f1-2d98f4445968",
   "metadata": {},
   "outputs": [
    {
     "data": {
      "text/plain": [
       "form\n",
       "10-Q    173402\n",
       "Name: count, dtype: int64"
      ]
     },
     "execution_count": 29,
     "metadata": {},
     "output_type": "execute_result"
    }
   ],
   "source": [
    "df_10qs['form'].value_counts(dropna=False)"
   ]
  },
  {
   "cell_type": "markdown",
   "id": "7c617673-2f89-4997-a8df-cc5fb6605fc5",
   "metadata": {},
   "source": [
    "Even though all the values for this column are `10-Q` I'm still going to keep this column just to maintain sanity that the data I am working with are 10-Q reports."
   ]
  },
  {
   "cell_type": "markdown",
   "id": "8dccdc6f-5f70-4577-a3b4-bd3960503ea8",
   "metadata": {},
   "source": [
    "#### File Number Column"
   ]
  },
  {
   "cell_type": "code",
   "execution_count": 30,
   "id": "838f8d9b-11cf-4ea6-8082-f604774ed836",
   "metadata": {},
   "outputs": [
    {
     "data": {
      "text/plain": [
       "file_number\n",
       "000-09341     146\n",
       "000-12919     144\n",
       "000-17077     144\n",
       "001-07731     144\n",
       "000-12895     144\n",
       "             ... \n",
       "001-41915       1\n",
       "001-41880       1\n",
       "333-265883      1\n",
       "001-42023       1\n",
       "000-55791       1\n",
       "Name: count, Length: 6569, dtype: int64"
      ]
     },
     "execution_count": 30,
     "metadata": {},
     "output_type": "execute_result"
    }
   ],
   "source": [
    "df_10qs['file_number'].value_counts(dropna=False)"
   ]
  },
  {
   "cell_type": "markdown",
   "id": "9aecd349-fe5b-401d-bae4-2ad22ceca017",
   "metadata": {},
   "source": [
    "#### Film Number Column"
   ]
  },
  {
   "cell_type": "code",
   "execution_count": 31,
   "id": "bb710f78-c0a5-49d5-a354-0ba577405e77",
   "metadata": {},
   "outputs": [
    {
     "data": {
      "text/plain": [
       "film_number\n",
       "NaN            57\n",
       "81008772.0      2\n",
       "20947002.0      2\n",
       "24523514.0      2\n",
       "231318411.0     2\n",
       "               ..\n",
       "211403281       1\n",
       "211167481       1\n",
       "21919684        1\n",
       "201307006       1\n",
       "8829716.0       1\n",
       "Name: count, Length: 161865, dtype: int64"
      ]
     },
     "execution_count": 31,
     "metadata": {},
     "output_type": "execute_result"
    }
   ],
   "source": [
    "df_10qs['film_number'].value_counts(dropna=False)"
   ]
  },
  {
   "cell_type": "markdown",
   "id": "d894b285-21ed-4805-8249-cadc4443e94b",
   "metadata": {},
   "source": [
    "#### Primary Document"
   ]
  },
  {
   "cell_type": "code",
   "execution_count": 32,
   "id": "58ac4e72-98f2-4653-8ee1-69f546c07bba",
   "metadata": {},
   "outputs": [
    {
     "data": {
      "text/plain": [
       "primary_document\n",
       "form10-q.htm             7313\n",
       "form10q.htm              4307\n",
       "d10q.htm                 3957\n",
       "0001.txt                  460\n",
       "mainbody.htm              279\n",
       "                         ... \n",
       "idcc-q39302015.htm          1\n",
       "idcc-q13312016.htm          1\n",
       "idcc-q26302016.htm          1\n",
       "idcc-q39302016.htm          1\n",
       "udhi-10q_03312008.txt       1\n",
       "Name: count, Length: 133773, dtype: int64"
      ]
     },
     "execution_count": 32,
     "metadata": {},
     "output_type": "execute_result"
    }
   ],
   "source": [
    "df_10qs['primary_document'].value_counts(dropna=False)"
   ]
  },
  {
   "cell_type": "markdown",
   "id": "d1c313b0-58b5-4c92-ac23-d7c8def1ce0e",
   "metadata": {},
   "source": [
    "#### Primary Doc Description"
   ]
  },
  {
   "cell_type": "code",
   "execution_count": 33,
   "id": "7a687244-a567-4ce9-a080-9ae12024e01e",
   "metadata": {},
   "outputs": [
    {
     "data": {
      "text/plain": [
       "primary_doc_description\n",
       "10-Q                                                 83473\n",
       "FORM 10-Q                                            38853\n",
       "NaN                                                  16427\n",
       "QUARTERLY REPORT                                     11213\n",
       "QUARTERLY REPORT PURSUANT TO SECTIONS 13 OR 15(D)      653\n",
       "                                                     ...  \n",
       "WILLAMETTE VALLEY VINEYARDS, INC. 10Q #16513             1\n",
       "WILLAMETTE VALLEY VINEYARDS, INC. 09/30/2014 10-Q        1\n",
       "WILLAMETTE VALLEY VINEYARDS, INC. 06/30/2014 10-Q        1\n",
       "WILLAMETTE VALLEY VINEYARDS, INC. 03/31/2014 10-Q        1\n",
       "FORM 10-Q Q1-2018                                        1\n",
       "Name: count, Length: 13031, dtype: int64"
      ]
     },
     "execution_count": 33,
     "metadata": {},
     "output_type": "execute_result"
    }
   ],
   "source": [
    "df_10qs['primary_doc_description'].value_counts(dropna=False)"
   ]
  },
  {
   "cell_type": "markdown",
   "id": "1556b9cf-e90c-442a-8aa9-15930f19e0af",
   "metadata": {},
   "source": [
    "#### Source Column"
   ]
  },
  {
   "cell_type": "code",
   "execution_count": 34,
   "id": "4e12f134-3f68-496e-991c-b94f0a215779",
   "metadata": {},
   "outputs": [
    {
     "data": {
      "text/plain": [
       "source\n",
       "https://data.sec.gov/submissions/CIK0000318673.json    146\n",
       "https://data.sec.gov/submissions/CIK0000032621.json    144\n",
       "https://data.sec.gov/submissions/CIK0000006207.json    144\n",
       "https://data.sec.gov/submissions/CIK0000758743.json    144\n",
       "https://data.sec.gov/submissions/CIK0000718332.json    144\n",
       "                                                      ... \n",
       "https://data.sec.gov/submissions/CIK0001948884.json      1\n",
       "https://data.sec.gov/submissions/CIK0001714562.json      1\n",
       "https://data.sec.gov/submissions/CIK0001901203.json      1\n",
       "https://data.sec.gov/submissions/CIK0001982518.json      1\n",
       "https://data.sec.gov/submissions/CIK0001855781.json      1\n",
       "Name: count, Length: 5524, dtype: int64"
      ]
     },
     "execution_count": 34,
     "metadata": {},
     "output_type": "execute_result"
    }
   ],
   "source": [
    "df_10qs['source'].value_counts(dropna=False)"
   ]
  },
  {
   "cell_type": "markdown",
   "id": "6a14860f-a0f9-47e1-95b5-85d35bf3f2a6",
   "metadata": {},
   "source": [
    "#### Report URL Column"
   ]
  },
  {
   "cell_type": "code",
   "execution_count": 35,
   "id": "bcc16dc4-7e0a-4b39-af78-5ca31f4178d0",
   "metadata": {},
   "outputs": [
    {
     "data": {
      "text/plain": [
       "report_url\n",
       "https://www.sec.gov/Archives/edgar/data/1122904/000112290419000245/ntgr2019q3-10q.htm       2\n",
       "https://www.sec.gov/Archives/edgar/data/916907/000092708907000051/somo10q123106.htm         2\n",
       "https://www.sec.gov/Archives/edgar/data/916907/000092708910000273/smbc-10q093010.htm        2\n",
       "https://www.sec.gov/Archives/edgar/data/916907/000092708910000060/smb-10q033110.htm         2\n",
       "https://www.sec.gov/Archives/edgar/data/916907/000092708910000024/smbi-10q123109.htm        2\n",
       "                                                                                           ..\n",
       "https://www.sec.gov/Archives/edgar/data/8042/000156276213000225/c420-20130630x10q.htm       1\n",
       "https://www.sec.gov/Archives/edgar/data/8042/000156276213000123/c420-20130331x10q.htm       1\n",
       "https://www.sec.gov/Archives/edgar/data/8042/000156276213000039/c420-20121231x10q.htm       1\n",
       "https://www.sec.gov/Archives/edgar/data/8042/000119312512343290/d342052d10q.htm             1\n",
       "https://www.sec.gov/Archives/edgar/data/1138586/000116415008000035/udhi-10q_03312008.txt    1\n",
       "Name: count, Length: 159795, dtype: int64"
      ]
     },
     "execution_count": 35,
     "metadata": {},
     "output_type": "execute_result"
    }
   ],
   "source": [
    "df_10qs['report_url'].value_counts(dropna=False)"
   ]
  },
  {
   "cell_type": "markdown",
   "id": "6f822c5b-8b89-4e1b-9e63-d173b6a65023",
   "metadata": {},
   "source": [
    "### File Extension Count\n",
    "It might be helpful to see the distribution of file types for error handling later. Maybe a large amount of one file type will error out a specific way for a general resolution to be applied rather than hot fixing individual errors."
   ]
  },
  {
   "cell_type": "code",
   "execution_count": 36,
   "id": "7b5f5415-c90d-495c-9b30-62ea9b11874d",
   "metadata": {},
   "outputs": [
    {
     "data": {
      "text/plain": [
       "file_extension\n",
       ".htm      167685\n",
       ".txt        5697\n",
       ".html         14\n",
       ".paper         5\n",
       ".xfd           1\n",
       "Name: count, dtype: int64"
      ]
     },
     "execution_count": 36,
     "metadata": {},
     "output_type": "execute_result"
    }
   ],
   "source": [
    "df_10qs['file_extension'] = [os.path.splitext(df_10qs.iloc[index]['report_url'])[1].lower() for index in df_10qs.index]\n",
    "df_10qs['file_extension'].value_counts(dropna=False)"
   ]
  },
  {
   "cell_type": "markdown",
   "id": "0f7886ae-a44c-4fce-ae37-0bfa727f1e44",
   "metadata": {},
   "source": [
    "Reordering the columns for the heck of it."
   ]
  },
  {
   "cell_type": "code",
   "execution_count": 37,
   "id": "415c2501-8a19-449f-a3ef-25863223cbcb",
   "metadata": {},
   "outputs": [
    {
     "data": {
      "text/html": [
       "<div>\n",
       "<style scoped>\n",
       "    .dataframe tbody tr th:only-of-type {\n",
       "        vertical-align: middle;\n",
       "    }\n",
       "\n",
       "    .dataframe tbody tr th {\n",
       "        vertical-align: top;\n",
       "    }\n",
       "\n",
       "    .dataframe thead th {\n",
       "        text-align: right;\n",
       "    }\n",
       "</style>\n",
       "<table border=\"1\" class=\"dataframe\">\n",
       "  <thead>\n",
       "    <tr style=\"text-align: right;\">\n",
       "      <th></th>\n",
       "      <th>ticker</th>\n",
       "      <th>exchange</th>\n",
       "      <th>accession_number</th>\n",
       "      <th>filing_date</th>\n",
       "      <th>report_date</th>\n",
       "      <th>acceptance_datetime</th>\n",
       "      <th>act</th>\n",
       "      <th>form</th>\n",
       "      <th>file_number</th>\n",
       "      <th>film_number</th>\n",
       "      <th>...</th>\n",
       "      <th>primary_document</th>\n",
       "      <th>is_XBRL</th>\n",
       "      <th>is_inline_XBRL</th>\n",
       "      <th>primary_doc_description</th>\n",
       "      <th>source</th>\n",
       "      <th>has_multi_ticker</th>\n",
       "      <th>has_multi_exchange</th>\n",
       "      <th>all_submissions_line_number</th>\n",
       "      <th>file_extension</th>\n",
       "      <th>report_url</th>\n",
       "    </tr>\n",
       "  </thead>\n",
       "  <tbody>\n",
       "    <tr>\n",
       "      <th>0</th>\n",
       "      <td>CVCY</td>\n",
       "      <td>Nasdaq</td>\n",
       "      <td>0001628280-24-023222</td>\n",
       "      <td>2024-05-14</td>\n",
       "      <td>2024-03-31</td>\n",
       "      <td>2024-05-14 16:19:29+00:00</td>\n",
       "      <td>34.0</td>\n",
       "      <td>10-Q</td>\n",
       "      <td>000-31977</td>\n",
       "      <td>24944655.0</td>\n",
       "      <td>...</td>\n",
       "      <td>cvcy-20240331.htm</td>\n",
       "      <td>1</td>\n",
       "      <td>1</td>\n",
       "      <td>10-Q</td>\n",
       "      <td>https://data.sec.gov/submissions/CIK0001127371...</td>\n",
       "      <td>0</td>\n",
       "      <td>0</td>\n",
       "      <td>1</td>\n",
       "      <td>.htm</td>\n",
       "      <td>https://www.sec.gov/Archives/edgar/data/112737...</td>\n",
       "    </tr>\n",
       "    <tr>\n",
       "      <th>1</th>\n",
       "      <td>CVCY</td>\n",
       "      <td>Nasdaq</td>\n",
       "      <td>0001127371-23-000152</td>\n",
       "      <td>2023-11-02</td>\n",
       "      <td>2023-09-30</td>\n",
       "      <td>2023-11-02 14:38:44+00:00</td>\n",
       "      <td>34.0</td>\n",
       "      <td>10-Q</td>\n",
       "      <td>000-31977</td>\n",
       "      <td>231371534.0</td>\n",
       "      <td>...</td>\n",
       "      <td>cvcy-20230930.htm</td>\n",
       "      <td>1</td>\n",
       "      <td>1</td>\n",
       "      <td>10-Q</td>\n",
       "      <td>https://data.sec.gov/submissions/CIK0001127371...</td>\n",
       "      <td>0</td>\n",
       "      <td>0</td>\n",
       "      <td>1</td>\n",
       "      <td>.htm</td>\n",
       "      <td>https://www.sec.gov/Archives/edgar/data/112737...</td>\n",
       "    </tr>\n",
       "    <tr>\n",
       "      <th>2</th>\n",
       "      <td>CVCY</td>\n",
       "      <td>Nasdaq</td>\n",
       "      <td>0001127371-23-000128</td>\n",
       "      <td>2023-08-03</td>\n",
       "      <td>2023-06-30</td>\n",
       "      <td>2023-08-03 16:56:00+00:00</td>\n",
       "      <td>34.0</td>\n",
       "      <td>10-Q</td>\n",
       "      <td>000-31977</td>\n",
       "      <td>231140967.0</td>\n",
       "      <td>...</td>\n",
       "      <td>cvcy-20230630.htm</td>\n",
       "      <td>1</td>\n",
       "      <td>1</td>\n",
       "      <td>10-Q</td>\n",
       "      <td>https://data.sec.gov/submissions/CIK0001127371...</td>\n",
       "      <td>0</td>\n",
       "      <td>0</td>\n",
       "      <td>1</td>\n",
       "      <td>.htm</td>\n",
       "      <td>https://www.sec.gov/Archives/edgar/data/112737...</td>\n",
       "    </tr>\n",
       "    <tr>\n",
       "      <th>3</th>\n",
       "      <td>CVCY</td>\n",
       "      <td>Nasdaq</td>\n",
       "      <td>0001127371-23-000072</td>\n",
       "      <td>2023-05-15</td>\n",
       "      <td>2023-03-31</td>\n",
       "      <td>2023-05-12 18:46:16+00:00</td>\n",
       "      <td>34.0</td>\n",
       "      <td>10-Q</td>\n",
       "      <td>000-31977</td>\n",
       "      <td>23917689.0</td>\n",
       "      <td>...</td>\n",
       "      <td>cvcy-20230331.htm</td>\n",
       "      <td>1</td>\n",
       "      <td>1</td>\n",
       "      <td>10-Q</td>\n",
       "      <td>https://data.sec.gov/submissions/CIK0001127371...</td>\n",
       "      <td>0</td>\n",
       "      <td>0</td>\n",
       "      <td>1</td>\n",
       "      <td>.htm</td>\n",
       "      <td>https://www.sec.gov/Archives/edgar/data/112737...</td>\n",
       "    </tr>\n",
       "    <tr>\n",
       "      <th>4</th>\n",
       "      <td>CVCY</td>\n",
       "      <td>Nasdaq</td>\n",
       "      <td>0001127371-22-000167</td>\n",
       "      <td>2022-11-02</td>\n",
       "      <td>2022-09-30</td>\n",
       "      <td>2022-11-02 13:29:11+00:00</td>\n",
       "      <td>34.0</td>\n",
       "      <td>10-Q</td>\n",
       "      <td>000-31977</td>\n",
       "      <td>221353223.0</td>\n",
       "      <td>...</td>\n",
       "      <td>cvcy-20220930.htm</td>\n",
       "      <td>1</td>\n",
       "      <td>1</td>\n",
       "      <td>10-Q</td>\n",
       "      <td>https://data.sec.gov/submissions/CIK0001127371...</td>\n",
       "      <td>0</td>\n",
       "      <td>0</td>\n",
       "      <td>1</td>\n",
       "      <td>.htm</td>\n",
       "      <td>https://www.sec.gov/Archives/edgar/data/112737...</td>\n",
       "    </tr>\n",
       "  </tbody>\n",
       "</table>\n",
       "<p>5 rows × 21 columns</p>\n",
       "</div>"
      ],
      "text/plain": [
       "  ticker exchange      accession_number filing_date report_date  \\\n",
       "0   CVCY   Nasdaq  0001628280-24-023222  2024-05-14  2024-03-31   \n",
       "1   CVCY   Nasdaq  0001127371-23-000152  2023-11-02  2023-09-30   \n",
       "2   CVCY   Nasdaq  0001127371-23-000128  2023-08-03  2023-06-30   \n",
       "3   CVCY   Nasdaq  0001127371-23-000072  2023-05-15  2023-03-31   \n",
       "4   CVCY   Nasdaq  0001127371-22-000167  2022-11-02  2022-09-30   \n",
       "\n",
       "        acceptance_datetime   act  form file_number  film_number  ...  \\\n",
       "0 2024-05-14 16:19:29+00:00  34.0  10-Q   000-31977   24944655.0  ...   \n",
       "1 2023-11-02 14:38:44+00:00  34.0  10-Q   000-31977  231371534.0  ...   \n",
       "2 2023-08-03 16:56:00+00:00  34.0  10-Q   000-31977  231140967.0  ...   \n",
       "3 2023-05-12 18:46:16+00:00  34.0  10-Q   000-31977   23917689.0  ...   \n",
       "4 2022-11-02 13:29:11+00:00  34.0  10-Q   000-31977  221353223.0  ...   \n",
       "\n",
       "    primary_document is_XBRL  is_inline_XBRL  primary_doc_description  \\\n",
       "0  cvcy-20240331.htm       1               1                     10-Q   \n",
       "1  cvcy-20230930.htm       1               1                     10-Q   \n",
       "2  cvcy-20230630.htm       1               1                     10-Q   \n",
       "3  cvcy-20230331.htm       1               1                     10-Q   \n",
       "4  cvcy-20220930.htm       1               1                     10-Q   \n",
       "\n",
       "                                              source has_multi_ticker  \\\n",
       "0  https://data.sec.gov/submissions/CIK0001127371...                0   \n",
       "1  https://data.sec.gov/submissions/CIK0001127371...                0   \n",
       "2  https://data.sec.gov/submissions/CIK0001127371...                0   \n",
       "3  https://data.sec.gov/submissions/CIK0001127371...                0   \n",
       "4  https://data.sec.gov/submissions/CIK0001127371...                0   \n",
       "\n",
       "   has_multi_exchange  all_submissions_line_number  file_extension  \\\n",
       "0                   0                            1            .htm   \n",
       "1                   0                            1            .htm   \n",
       "2                   0                            1            .htm   \n",
       "3                   0                            1            .htm   \n",
       "4                   0                            1            .htm   \n",
       "\n",
       "                                          report_url  \n",
       "0  https://www.sec.gov/Archives/edgar/data/112737...  \n",
       "1  https://www.sec.gov/Archives/edgar/data/112737...  \n",
       "2  https://www.sec.gov/Archives/edgar/data/112737...  \n",
       "3  https://www.sec.gov/Archives/edgar/data/112737...  \n",
       "4  https://www.sec.gov/Archives/edgar/data/112737...  \n",
       "\n",
       "[5 rows x 21 columns]"
      ]
     },
     "execution_count": 37,
     "metadata": {},
     "output_type": "execute_result"
    }
   ],
   "source": [
    "columns = df_10qs.columns.tolist()\n",
    "a, b = columns.index('file_extension'), columns.index('report_url')\n",
    "columns[a], columns[b] = columns[b], columns[a]\n",
    "df_10qs = df_10qs[columns]\n",
    "df_10qs.head()"
   ]
  },
  {
   "cell_type": "code",
   "execution_count": null,
   "id": "32706275-e88f-42dc-8f8c-1c48823110cc",
   "metadata": {},
   "outputs": [],
   "source": []
  }
 ],
 "metadata": {
  "kernelspec": {
   "display_name": "Python 3 (ipykernel)",
   "language": "python",
   "name": "python3"
  },
  "language_info": {
   "codemirror_mode": {
    "name": "ipython",
    "version": 3
   },
   "file_extension": ".py",
   "mimetype": "text/x-python",
   "name": "python",
   "nbconvert_exporter": "python",
   "pygments_lexer": "ipython3",
   "version": "3.9.18"
  }
 },
 "nbformat": 4,
 "nbformat_minor": 5
}
