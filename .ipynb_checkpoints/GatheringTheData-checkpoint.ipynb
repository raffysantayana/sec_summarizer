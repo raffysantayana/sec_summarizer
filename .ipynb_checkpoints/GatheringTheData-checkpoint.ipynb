{
 "cells": [
  {
   "cell_type": "markdown",
   "id": "360b5760-1ae7-489f-9d09-68dd2fe89d70",
   "metadata": {},
   "source": [
    "# Scraping the Data\n",
    "_Author_: https://github.com/raffysantayana\n",
    "\n",
    "## Goal\n",
    "Use the US Securities and Exchange Commision's (SEC) electronic filing system to programmatically parse and organize the data to later be explored, analyzed, and modeled.\n",
    "\n",
    "## Overview\n",
    "SEC archives quarterly reports from various filing entities such as Netflix Inc. (NFLX) and American Express Co. (AXP).\n",
    "\n",
    "WRITE SOMETHING HERE TALKING ABOUT THE API\n",
    "\n",
    "## Using the SEC API\n",
    "Note: This requires a subscription of $55/month to make 100+ requests.\n",
    "```python\n",
    "import time\n",
    "import pandas as pd\n",
    "from sec_api import QueryApi\n",
    "\n",
    "# main dataframe we will append each query results to\n",
    "df = pd.DataFrame()\n",
    "\n",
    "# paste your api key below\n",
    "sec_api_key:str = 'api_key' # 'a71896086f47a9ae5928bae84adfaff594ec0a1dcbb0bcc3db52ee3aa0f8e15c'\n",
    "query_api = QueryApi(api_key = sec_api_key)\n",
    "\n",
    "base_query = {\n",
    "  \"query\": \"PLACEHOLDER\", # this will be set during runtime \n",
    "  \"from\": \"0\",\n",
    "  \"size\": \"200\", # dont change this\n",
    "  # sort by filedAt\n",
    "  \"sort\": [{ \"filedAt\": { \"order\": \"desc\" } }]\n",
    "}\n",
    "\n",
    "# open the file we use to store the filing URLs\n",
    "log_file = open(\"filing_urls.txt\", \"a\")\n",
    "\n",
    "# start with filings filed in 2021, then 2020, 2019, ... up to 2010 \n",
    "# uncomment line below to fetch all filings filed in 2022-2010\n",
    "# for year in range(2021, 2009, -1):\n",
    "for year in range(2024, 1996, -1):\n",
    "    print(\"starting {year}\".format(year=year))\n",
    "    # a single search universe is represented as a month of the given year\n",
    "    \n",
    "    for month in range(1, 13, 1):\n",
    "        # get 10-Q and 10-Q/A filings filed in year and month\n",
    "        # resulting query example: \"formType:\\\"10-Q\\\" AND filedAt:[2021-01-01 TO 2021-01-31]\"\n",
    "        universe_query = \\\n",
    "            \"formType:\\\"10-Q\\\" AND \" + \\\n",
    "            \"filedAt:[{year}-{month:02d}-01 TO {year}-{month:02d}-31]\" \\\n",
    "            .format(year=year, month=month)\n",
    "    \n",
    "    print(universe_query)\n",
    "    # set new query universe for year-month combination\n",
    "    base_query[\"query\"] = universe_query;\n",
    "\n",
    "    # paginate through results by increasing \"from\" parameter \n",
    "    # until we don't find any matches anymore\n",
    "    # uncomment line below to fetch 10,000 filings\n",
    "    for from_batch in range(0, 999_800, 200): \n",
    "    # for from_batch in range(0, 400, 200):\n",
    "        # set new \"from\" starting position of search \n",
    "        base_query[\"from\"] = from_batch;\n",
    "\n",
    "        # submit request\n",
    "        response = query_api.get_filings(base_query)\n",
    "        # building a temp dataframe of the recent query\n",
    "        temp_df = pd.DataFrame.from_records(response['filings'])\n",
    "        # concatenating the temp dataframe to the main dataframe\n",
    "        df = pd.concat([df, temp_df])\n",
    "        print(f'df.shape = {df.shape}')\n",
    "        \n",
    "        # no more filings in search universe\n",
    "        if len(response[\"filings\"]) == 0:\n",
    "            break;\n",
    "            \n",
    "        # for each filing, only save the URL pointing to the filing itself \n",
    "        # and ignore all other data. \n",
    "        # the URL is set in the dict key \"linkToFilingDetails\"\n",
    "        urls_list = list(map(lambda x: x[\"linkToFilingDetails\"], response[\"filings\"]))\n",
    "        \n",
    "        # transform list of URLs into one string by joining all list elements\n",
    "        # and add a new-line character between each element.\n",
    "        urls_string = \"\\n\".join(urls_list) + \"\\n\"\n",
    "      \n",
    "        log_file.write(urls_string)\n",
    "\n",
    "log_file.close()\n",
    "```\n",
    "\n",
    "## Web Scraping\n",
    "SEC has an electrtonic filing system Electronic Data Gathering, Analysis, and Retrieval (EDGAR) that started around 1995 to archive reports such as quarterly 10Q. This system has a RESTful API at [this URL](https://www.sec.gov/edgar/sec-api-documentation) to retrieve report information. Each entity’s current filing history is available at the following URL where CIK_number is an entity's 10 digit CIK number: `\n",
    "https://data.sec.gov/submissions/CIK{CIK_number}.json`\n",
    "\n",
    "The returning json contains information such as `accessionNumber`, and `primaryDocument` where the index of the `accessionNumber`is associated with the index of `primaryDocument`. Using these two pieces of info together with the CIK number allows us to construct a url to access all filings for that CIK. Our goal is to specifically analyze quarterly reports, so we will filter results based off of `form` value of \"10-Q\". The URL we will construct will be:\n",
    "`https://www.sec.gov/Archives/edgar/data/{CIK_number}/{accessionNumber}/{primaryDocument}`\n",
    "\n",
    "For example, https://www.sec.gov/Archives/edgar/data/0001445815/000149315224015525/form10-qa.htm\n",
    "\n",
    "A list of all CIK numbers to iterate through can be found [here](https://www.sec.gov/Archives/edgar/cik-lookup-data.txt)"
   ]
  },
  {
   "cell_type": "code",
   "execution_count": 1,
   "id": "c13a3d80-b15d-44e9-b0c1-a126a0b8ab4e",
   "metadata": {},
   "outputs": [
    {
     "name": "stdout",
     "output_type": "stream",
     "text": [
      "Successful response from https://www.sec.gov/files/company_tickers.json.\n",
      "10352 retrieved.\n"
     ]
    }
   ],
   "source": [
    "import time\n",
    "import requests\n",
    "import pandas as pd\n",
    "\n",
    "tickers_url:str = r'https://www.sec.gov/files/company_tickers.json'\n",
    "headers = {'User-Agent': 'Mozilla/5.0'}\n",
    "response = requests.get(tickers_url, headers=headers)\n",
    "if response.status_code != 200:\n",
    "    raise Exception(\"Failed to get a 200 status code\")\n",
    "else:\n",
    "    print(f\"Successful response from {tickers_url}.\")\n",
    "raw_tickers = response.json()\n",
    "print(f\"{len(raw_tickers)} retrieved.\")"
   ]
  },
  {
   "cell_type": "code",
   "execution_count": 2,
   "id": "6c944685-2f55-469e-bbf4-f91dd1e2930b",
   "metadata": {},
   "outputs": [],
   "source": [
    "tickers = pd.DataFrame(columns=['cik_str', 'ticker', 'title'])\n",
    "\n",
    "for i in range(len(raw_tickers)):\n",
    "    tickers.loc[f\"{i}\"] = raw_tickers[f\"{i}\"]"
   ]
  },
  {
   "cell_type": "code",
   "execution_count": 3,
   "id": "0cd7ca78-ff5e-4f80-8b29-ceb1a3911f33",
   "metadata": {
    "scrolled": true
   },
   "outputs": [
    {
     "data": {
      "text/plain": [
       "(10352, 3)"
      ]
     },
     "execution_count": 3,
     "metadata": {},
     "output_type": "execute_result"
    }
   ],
   "source": [
    "tickers.shape"
   ]
  },
  {
   "cell_type": "code",
   "execution_count": 4,
   "id": "1a081442-90d0-4578-94d3-f188a0c3da61",
   "metadata": {},
   "outputs": [
    {
     "data": {
      "text/plain": [
       "cik_str     int64\n",
       "ticker     object\n",
       "title      object\n",
       "dtype: object"
      ]
     },
     "execution_count": 4,
     "metadata": {},
     "output_type": "execute_result"
    }
   ],
   "source": [
    "tickers.dtypes"
   ]
  },
  {
   "cell_type": "code",
   "execution_count": 5,
   "id": "e0d63286-48bb-40fc-a4ab-72c4d2dbf539",
   "metadata": {},
   "outputs": [
    {
     "data": {
      "text/html": [
       "<div>\n",
       "<style scoped>\n",
       "    .dataframe tbody tr th:only-of-type {\n",
       "        vertical-align: middle;\n",
       "    }\n",
       "\n",
       "    .dataframe tbody tr th {\n",
       "        vertical-align: top;\n",
       "    }\n",
       "\n",
       "    .dataframe thead th {\n",
       "        text-align: right;\n",
       "    }\n",
       "</style>\n",
       "<table border=\"1\" class=\"dataframe\">\n",
       "  <thead>\n",
       "    <tr style=\"text-align: right;\">\n",
       "      <th></th>\n",
       "      <th>cik_str</th>\n",
       "      <th>ticker</th>\n",
       "      <th>title</th>\n",
       "    </tr>\n",
       "  </thead>\n",
       "  <tbody>\n",
       "    <tr>\n",
       "      <th>0</th>\n",
       "      <td>789019</td>\n",
       "      <td>MSFT</td>\n",
       "      <td>MICROSOFT CORP</td>\n",
       "    </tr>\n",
       "    <tr>\n",
       "      <th>1</th>\n",
       "      <td>320193</td>\n",
       "      <td>AAPL</td>\n",
       "      <td>Apple Inc.</td>\n",
       "    </tr>\n",
       "    <tr>\n",
       "      <th>2</th>\n",
       "      <td>1045810</td>\n",
       "      <td>NVDA</td>\n",
       "      <td>NVIDIA CORP</td>\n",
       "    </tr>\n",
       "    <tr>\n",
       "      <th>3</th>\n",
       "      <td>1652044</td>\n",
       "      <td>GOOGL</td>\n",
       "      <td>Alphabet Inc.</td>\n",
       "    </tr>\n",
       "    <tr>\n",
       "      <th>4</th>\n",
       "      <td>1018724</td>\n",
       "      <td>AMZN</td>\n",
       "      <td>AMAZON COM INC</td>\n",
       "    </tr>\n",
       "  </tbody>\n",
       "</table>\n",
       "</div>"
      ],
      "text/plain": [
       "   cik_str ticker           title\n",
       "0   789019   MSFT  MICROSOFT CORP\n",
       "1   320193   AAPL      Apple Inc.\n",
       "2  1045810   NVDA     NVIDIA CORP\n",
       "3  1652044  GOOGL   Alphabet Inc.\n",
       "4  1018724   AMZN  AMAZON COM INC"
      ]
     },
     "execution_count": 5,
     "metadata": {},
     "output_type": "execute_result"
    }
   ],
   "source": [
    "tickers.head()"
   ]
  },
  {
   "cell_type": "code",
   "execution_count": 6,
   "id": "c7d7ddec-0f14-4f59-b2ca-2bf6690c5d59",
   "metadata": {},
   "outputs": [
    {
     "data": {
      "text/html": [
       "<div>\n",
       "<style scoped>\n",
       "    .dataframe tbody tr th:only-of-type {\n",
       "        vertical-align: middle;\n",
       "    }\n",
       "\n",
       "    .dataframe tbody tr th {\n",
       "        vertical-align: top;\n",
       "    }\n",
       "\n",
       "    .dataframe thead th {\n",
       "        text-align: right;\n",
       "    }\n",
       "</style>\n",
       "<table border=\"1\" class=\"dataframe\">\n",
       "  <thead>\n",
       "    <tr style=\"text-align: right;\">\n",
       "      <th></th>\n",
       "      <th>cik_str</th>\n",
       "      <th>ticker</th>\n",
       "      <th>title</th>\n",
       "    </tr>\n",
       "  </thead>\n",
       "  <tbody>\n",
       "    <tr>\n",
       "      <th>10347</th>\n",
       "      <td>1748680</td>\n",
       "      <td>OWSCX</td>\n",
       "      <td>1WS Credit Income Fund</td>\n",
       "    </tr>\n",
       "    <tr>\n",
       "      <th>10348</th>\n",
       "      <td>1957489</td>\n",
       "      <td>ABLVW</td>\n",
       "      <td>Able View Global Inc.</td>\n",
       "    </tr>\n",
       "    <tr>\n",
       "      <th>10349</th>\n",
       "      <td>1933644</td>\n",
       "      <td>MDLVY</td>\n",
       "      <td>Medlive Technology Co., Ltd./ADR</td>\n",
       "    </tr>\n",
       "    <tr>\n",
       "      <th>10350</th>\n",
       "      <td>1062750</td>\n",
       "      <td>SAAYY</td>\n",
       "      <td>SAIPEM S P A /FI</td>\n",
       "    </tr>\n",
       "    <tr>\n",
       "      <th>10351</th>\n",
       "      <td>1572957</td>\n",
       "      <td>BGLAF</td>\n",
       "      <td>BioGaia AB/ADR</td>\n",
       "    </tr>\n",
       "  </tbody>\n",
       "</table>\n",
       "</div>"
      ],
      "text/plain": [
       "       cik_str ticker                             title\n",
       "10347  1748680  OWSCX            1WS Credit Income Fund\n",
       "10348  1957489  ABLVW             Able View Global Inc.\n",
       "10349  1933644  MDLVY  Medlive Technology Co., Ltd./ADR\n",
       "10350  1062750  SAAYY                  SAIPEM S P A /FI\n",
       "10351  1572957  BGLAF                    BioGaia AB/ADR"
      ]
     },
     "execution_count": 6,
     "metadata": {},
     "output_type": "execute_result"
    }
   ],
   "source": [
    "tickers.tail()"
   ]
  },
  {
   "cell_type": "code",
   "execution_count": 7,
   "id": "64e7fe79-7e74-4de4-98f4-9e90437a368b",
   "metadata": {},
   "outputs": [],
   "source": [
    "tickers.to_csv(\"../data/tickers.csv\")"
   ]
  },
  {
   "cell_type": "code",
   "execution_count": 9,
   "id": "ce944e8e-c18d-4d29-bc01-6710d0a33107",
   "metadata": {},
   "outputs": [
    {
     "ename": "FileNotFoundError",
     "evalue": "[Errno 2] No such file or directory: '../data/all_submissions.txt'",
     "output_type": "error",
     "traceback": [
      "\u001b[1;31m---------------------------------------------------------------------------\u001b[0m",
      "\u001b[1;31mFileNotFoundError\u001b[0m                         Traceback (most recent call last)",
      "Cell \u001b[1;32mIn[9], line 1\u001b[0m\n\u001b[1;32m----> 1\u001b[0m \u001b[38;5;28;01mwith\u001b[39;00m \u001b[38;5;28;43mopen\u001b[39;49m\u001b[43m(\u001b[49m\u001b[38;5;124;43m'\u001b[39;49m\u001b[38;5;124;43m../data/all_submissions.txt\u001b[39;49m\u001b[38;5;124;43m'\u001b[39;49m\u001b[43m,\u001b[49m\u001b[43m \u001b[49m\u001b[38;5;124;43m'\u001b[39;49m\u001b[38;5;124;43ma\u001b[39;49m\u001b[38;5;124;43m'\u001b[39;49m\u001b[43m)\u001b[49m \u001b[38;5;28;01mas\u001b[39;00m the_file:\n\u001b[0;32m      2\u001b[0m     \u001b[38;5;28;01mfor\u001b[39;00m cik \u001b[38;5;129;01min\u001b[39;00m tickers[\u001b[38;5;124m'\u001b[39m\u001b[38;5;124mcik_str\u001b[39m\u001b[38;5;124m'\u001b[39m]:\n\u001b[0;32m      3\u001b[0m         the_file\u001b[38;5;241m.\u001b[39mwrite(\u001b[38;5;124mf\u001b[39m\u001b[38;5;124m'\u001b[39m\u001b[38;5;124mhttps://data.sec.gov/submissions/CIK\u001b[39m\u001b[38;5;132;01m{\u001b[39;00mcik\u001b[38;5;132;01m}\u001b[39;00m\u001b[38;5;124m.json\u001b[39m\u001b[38;5;130;01m\\n\u001b[39;00m\u001b[38;5;124m'\u001b[39m)\n",
      "File \u001b[1;32m~\\anaconda3\\lib\\site-packages\\IPython\\core\\interactiveshell.py:286\u001b[0m, in \u001b[0;36m_modified_open\u001b[1;34m(file, *args, **kwargs)\u001b[0m\n\u001b[0;32m    279\u001b[0m \u001b[38;5;28;01mif\u001b[39;00m file \u001b[38;5;129;01min\u001b[39;00m {\u001b[38;5;241m0\u001b[39m, \u001b[38;5;241m1\u001b[39m, \u001b[38;5;241m2\u001b[39m}:\n\u001b[0;32m    280\u001b[0m     \u001b[38;5;28;01mraise\u001b[39;00m \u001b[38;5;167;01mValueError\u001b[39;00m(\n\u001b[0;32m    281\u001b[0m         \u001b[38;5;124mf\u001b[39m\u001b[38;5;124m\"\u001b[39m\u001b[38;5;124mIPython won\u001b[39m\u001b[38;5;124m'\u001b[39m\u001b[38;5;124mt let you open fd=\u001b[39m\u001b[38;5;132;01m{\u001b[39;00mfile\u001b[38;5;132;01m}\u001b[39;00m\u001b[38;5;124m by default \u001b[39m\u001b[38;5;124m\"\u001b[39m\n\u001b[0;32m    282\u001b[0m         \u001b[38;5;124m\"\u001b[39m\u001b[38;5;124mas it is likely to crash IPython. If you know what you are doing, \u001b[39m\u001b[38;5;124m\"\u001b[39m\n\u001b[0;32m    283\u001b[0m         \u001b[38;5;124m\"\u001b[39m\u001b[38;5;124myou can use builtins\u001b[39m\u001b[38;5;124m'\u001b[39m\u001b[38;5;124m open.\u001b[39m\u001b[38;5;124m\"\u001b[39m\n\u001b[0;32m    284\u001b[0m     )\n\u001b[1;32m--> 286\u001b[0m \u001b[38;5;28;01mreturn\u001b[39;00m io_open(file, \u001b[38;5;241m*\u001b[39margs, \u001b[38;5;241m*\u001b[39m\u001b[38;5;241m*\u001b[39mkwargs)\n",
      "\u001b[1;31mFileNotFoundError\u001b[0m: [Errno 2] No such file or directory: '../data/all_submissions.txt'"
     ]
    }
   ],
   "source": [
    "with open('../data/all_submissions.txt', 'a') as the_file:\n",
    "    for cik in tickers['cik_str']:\n",
    "        the_file.write(f'https://data.sec.gov/submissions/CIK{cik}.json\\n')"
   ]
  },
  {
   "cell_type": "code",
   "execution_count": null,
   "id": "8f58213c-c6d9-4bbb-b5ca-2b8ff85e7da5",
   "metadata": {},
   "outputs": [],
   "source": []
  }
 ],
 "metadata": {
  "kernelspec": {
   "display_name": "Python 3 (ipykernel)",
   "language": "python",
   "name": "python3"
  },
  "language_info": {
   "codemirror_mode": {
    "name": "ipython",
    "version": 3
   },
   "file_extension": ".py",
   "mimetype": "text/x-python",
   "name": "python",
   "nbconvert_exporter": "python",
   "pygments_lexer": "ipython3",
   "version": "3.9.18"
  }
 },
 "nbformat": 4,
 "nbformat_minor": 5
}
